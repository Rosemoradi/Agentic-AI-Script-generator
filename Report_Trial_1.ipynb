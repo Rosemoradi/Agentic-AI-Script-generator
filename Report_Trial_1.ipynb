{
 "cells": [
  {
   "cell_type": "markdown",
   "metadata": {
    "id": "dUM0yLdkzG-7"
   },
   "source": [
    "**1. Imports**"
   ]
  },
  {
   "cell_type": "markdown",
   "metadata": {
    "id": "1b3Hh5EawcGr"
   },
   "source": [
    "Let's start with imports and installing Hugging Face datasets."
   ]
  },
  {
   "cell_type": "code",
   "execution_count": 2,
   "metadata": {
    "id": "Dv7EHbBAaqB9"
   },
   "outputs": [],
   "source": [
    "%%capture\n",
    "!pip install datasets"
   ]
  },
  {
   "cell_type": "code",
   "execution_count": 3,
   "metadata": {
    "id": "1NoSyaLbwgiz"
   },
   "outputs": [],
   "source": [
    "import torch\n",
    "import numpy as np\n",
    "from transformers import AutoTokenizer, Trainer, TrainingArguments, DataCollatorForLanguageModeling, AutoModelForCausalLM\n",
    "from datasets import load_dataset, concatenate_datasets, Dataset, DatasetDict\n",
    "from peft import LoraConfig, get_peft_model, TaskType"
   ]
  },
  {
   "cell_type": "markdown",
   "metadata": {
    "id": "UWgtZ8AUzOKS"
   },
   "source": [
    "**2. Tokenization and Data Blocks**"
   ]
  },
  {
   "cell_type": "markdown",
   "metadata": {
    "id": "3fdxReNcwhjx"
   },
   "source": [
    "Let's access our .txt files from Google Drive and prepare them with the tokenzier.\n",
    "\n",
    "*   Step 1. Read all files as a concatenated text and Tokenize everything.\n",
    "*   Step 2. Create blocks of data from the one long piece of tokens.\n",
    "*   Step 3. Make Hugging Face dataset.\n",
    "\n"
   ]
  },
  {
   "cell_type": "code",
   "execution_count": 4,
   "metadata": {
    "colab": {
     "base_uri": "https://localhost:8080/",
     "height": 316,
     "referenced_widgets": [
      "d8588fc796164284abd0999803a8f289",
      "12830a73fc5540f6aca36703a1d95544",
      "e66a9a78dccc4e22a9c862103ab8649a",
      "16498cd50f4f4947a13c12d8ce1b0e40",
      "09aa7b5c0f2b40819d64324352fd0cde",
      "e5f37581b0fe40cf832cbaa267ade083",
      "b99aa8ee3a42458d961519bb77d9e90f",
      "0f41b0397f554ecea79ccac8f3d514fe",
      "f99f433808e24fae972fa93d49e2c0c2",
      "09f9ce49442a4a809f8f790808ae18b8",
      "50431348870e4c9a8fe2386a05a36a39",
      "54a3332f7f354e7b90b093b391a392ab",
      "3e77f29ee7354a388220e7568ed355b9",
      "07d7e721e66943789d20b85bed61e3f8",
      "149851bf72cd496f87a896a8d9b6c288",
      "7daddb7690eb45d9b8ff4dc708493ec0",
      "54ab034e85594c05955e64cd2229b422",
      "333e562b511c4921a970754f4d970f5d",
      "6232258897b44ff4b06822c372a4d03e",
      "d69e1cd9a195491fbd8110fc930be0c1",
      "721864c6cc464f58af7ec04171c7ed47",
      "10837f972f1149eb9936f63cdb49bf3a",
      "e6215a07e507426894440a16697d6401",
      "9edb3a469f1c446998dcb569186c4276",
      "f23c6e77242f409eb1ec8746ddb15785",
      "54fa7dc39ce94a1185266421b902312c",
      "ac6b7433ef1d4c148f969d6475c0ea73",
      "2458b6dd4b714a908db7b2177efa408c",
      "fe9c6aff3e8d41cb9b20d6199e984b60",
      "5c6935a1a6b44be3b52c3ec4c1d2d889",
      "1ced7764d6bf43769b14b2a45d04ec89",
      "c6210478fd404b728999b3a9dada3f0f",
      "288697b9a9b040969bd168861d35b385",
      "de1714a82505472cad42a265ee5f23b4",
      "b2bcbbde1dce4c7d94ed27e22d18714d",
      "62f48dde916541d39b7bcf282676daa1",
      "16c0477ef1a240d3a4a19a79a502d087",
      "cda114d7f26f4aa3bb512aa19af3f13f",
      "063b99fdbeb040aab5c62817876e5c6a",
      "2fb2e1534623438daa727f0289146683",
      "00f2024e3aa348cdbd751a0c014cbafa",
      "7093f56cb63a4734bed4dcf06e11352e",
      "b06a22d6cb8c4f8eb0502f4aa0027e0e",
      "1f51475633c148b1a8a188221e4a12ef",
      "37365fe0513c44eaa60dc26e46ed7190",
      "55c8271fddac43f9ab6655ea463e157f",
      "dd7fb86c1f7e424893f58df9534e64fd",
      "43696442ce9942999e1e68495fb51eb7",
      "ae4c70dbaa5547e596bd968ad86f1d6a",
      "410b1fb0abaa4cd1adbb145fe58e2398",
      "750f64e76a9f442caca151a7709d9de5",
      "c3381782cb254c49ba1e82a7616db653",
      "0c7eb018977f4974bca3eaff6be24acf",
      "2f0d50d7200640b6823c0943106b47d2",
      "004cd5aeebb44aefa0cd421e9688cea4"
     ]
    },
    "id": "gX_6G1gLwg4I",
    "outputId": "77a8cdb1-abd2-4903-bfe7-4ee56f19edc2"
   },
   "outputs": [
    {
     "name": "stdout",
     "output_type": "stream",
     "text": [
      "Mounted at /content/drive\n"
     ]
    },
    {
     "name": "stderr",
     "output_type": "stream",
     "text": [
      "/usr/local/lib/python3.11/dist-packages/huggingface_hub/utils/_auth.py:94: UserWarning: \n",
      "The secret `HF_TOKEN` does not exist in your Colab secrets.\n",
      "To authenticate with the Hugging Face Hub, create a token in your settings tab (https://huggingface.co/settings/tokens), set it as secret in your Google Colab and restart your session.\n",
      "You will be able to reuse this secret in all of your notebooks.\n",
      "Please note that authentication is recommended but still optional to access public models or datasets.\n",
      "  warnings.warn(\n"
     ]
    },
    {
     "data": {
      "application/vnd.jupyter.widget-view+json": {
       "model_id": "d8588fc796164284abd0999803a8f289",
       "version_major": 2,
       "version_minor": 0
      },
      "text/plain": [
       "tokenizer_config.json:   0%|          | 0.00/26.0 [00:00<?, ?B/s]"
      ]
     },
     "metadata": {},
     "output_type": "display_data"
    },
    {
     "data": {
      "application/vnd.jupyter.widget-view+json": {
       "model_id": "54a3332f7f354e7b90b093b391a392ab",
       "version_major": 2,
       "version_minor": 0
      },
      "text/plain": [
       "config.json:   0%|          | 0.00/665 [00:00<?, ?B/s]"
      ]
     },
     "metadata": {},
     "output_type": "display_data"
    },
    {
     "data": {
      "application/vnd.jupyter.widget-view+json": {
       "model_id": "e6215a07e507426894440a16697d6401",
       "version_major": 2,
       "version_minor": 0
      },
      "text/plain": [
       "vocab.json:   0%|          | 0.00/1.04M [00:00<?, ?B/s]"
      ]
     },
     "metadata": {},
     "output_type": "display_data"
    },
    {
     "data": {
      "application/vnd.jupyter.widget-view+json": {
       "model_id": "de1714a82505472cad42a265ee5f23b4",
       "version_major": 2,
       "version_minor": 0
      },
      "text/plain": [
       "merges.txt:   0%|          | 0.00/456k [00:00<?, ?B/s]"
      ]
     },
     "metadata": {},
     "output_type": "display_data"
    },
    {
     "data": {
      "application/vnd.jupyter.widget-view+json": {
       "model_id": "37365fe0513c44eaa60dc26e46ed7190",
       "version_major": 2,
       "version_minor": 0
      },
      "text/plain": [
       "tokenizer.json:   0%|          | 0.00/1.36M [00:00<?, ?B/s]"
      ]
     },
     "metadata": {},
     "output_type": "display_data"
    }
   ],
   "source": [
    "# mount Google Drive\n",
    "from google.colab import drive\n",
    "drive.mount('/content/drive')\n",
    "\n",
    "# set up tokenizer\n",
    "tokenizer = AutoTokenizer.from_pretrained(\"gpt2\")\n",
    "tokenizer.pad_token = tokenizer.eos_token"
   ]
  },
  {
   "cell_type": "code",
   "execution_count": 5,
   "metadata": {
    "colab": {
     "base_uri": "https://localhost:8080/"
    },
    "id": "bGmWSfaUwo_p",
    "outputId": "73515b14-8800-4318-c2c9-0b7be6a807d1"
   },
   "outputs": [
    {
     "name": "stderr",
     "output_type": "stream",
     "text": [
      "Token indices sequence length is longer than the specified maximum sequence length for this model (1062284 > 1024). Running this sequence through the model will result in indexing errors\n"
     ]
    }
   ],
   "source": [
    "# ---------Saber's path--------------\n",
    "\n",
    "# read and tokenize each file\n",
    "def load_and_tokenize(file_path):\n",
    "    with open(file_path, 'r', encoding='utf-8') as f:\n",
    "        text = f.read()\n",
    "    tokenized = tokenizer(text)\n",
    "    return tokenized['input_ids']\n",
    "\n",
    "# specify file path in Google Drive\n",
    "data_path = \"/content/drive/MyDrive/SEP775NLP_Final_Project/Friends_script/\"\n",
    "\n",
    "# run the function above to tokenize the data\n",
    "train_ids = load_and_tokenize(f\"{data_path}/cleaned_train_data.txt\") # used latest version of processed data here\n",
    "val_ids = load_and_tokenize(f\"{data_path}/cleaned_val_data.txt\")\n",
    "test_ids = load_and_tokenize(f\"{data_path}/cleaned_test_data.txt\")\n",
    "general_test_ids = load_and_tokenize(f\"{data_path}/wikitext103_test.txt\")"
   ]
  },
  {
   "cell_type": "code",
   "execution_count": 6,
   "metadata": {
    "colab": {
     "base_uri": "https://localhost:8080/"
    },
    "id": "EomUpUYFwxQN",
    "outputId": "4bb5e4f1-9213-4ee8-fd24-258680813663"
   },
   "outputs": [
    {
     "name": "stdout",
     "output_type": "stream",
     "text": [
      "[464, 1881, 6350, 23240, 29620, 257, 968, 5564, 2002, 378, 357, 464, 21697, 12, 464, 791, 8968, 10628, 8, 198, 25354, 416, 25, 3981, 64, 28148, 487, 805, 1222, 3271, 38376, 628, 198, 58, 36542, 25, 5694, 2448, 74, 11, 28346, 11, 26154, 11, 1380, 2577, 1350, 11, 290, 23240, 389, 612, 8183, 198, 198, 9069, 3970, 25, 1318, 338, 2147, 284, 1560, 0, 679, 338, 655, 617, 3516, 314, 670, 351, 0, 198, 198, 19585, 88, 25, 327, 1101, 261, 11, 345, 821, 1016, 503, 351, 262, 3516, 0, 1318, 338, 17753, 307, 1223, 2642, 351, 683, 0, 198, 198, 1925, 392, 1754, 25, 1439, 826, 26154, 11, 307, 3621, 13, 220, 1406, 857, 339, 423, 257, 49779, 30, 317, 49779, 290, 257, 4190, 12239, 30, 198, 198, 2725, 2577, 1350, 25, 16314, 11, 857, 339, 4483, 30860, 30, 198, 198, 7, 2990, 477, 24170, 11, 307, 76, 1484, 2014, 198, 198, 2725, 2577, 1350, 25, 2329, 11, 705, 25587, 11, 314, 836, 470, 765, 607, 284, 467, 832, 644, 314, 1816, 832, 351, 8124, 12, 11752, 0, 198, 198, 9069, 3970, 25, 16805, 11, 7288, 8960, 13, 770, 318, 407, 772, 257, 3128, 13, 632, 338, 655, 734, 661, 1016, 503, 284, 8073, 290, 12, 407, 1719, 1714, 13, 198, 198, 1925, 392, 1754, 25, 27107, 588, 257, 3128, 284, 502, 13, 198, 198, 58, 7575, 406, 7512, 60, 198, 198, 1925, 392, 1754, 25, 40967, 11, 523, 314, 1101, 736, 287, 1029, 1524, 11, 314, 1101, 5055, 287, 262, 3504, 286, 262, 43075, 11, 290, 314, 6537, 314, 716, 6635, 12105, 13, 198, 198, 3237, 25, 3966, 11, 10194, 13, 11161, 326, 4320, 13, 198, 198, 1925, 392, 1754, 25, 3244, 314, 804, 866, 11, 290, 314, 6537, 612, 338, 257, 3072, 986, 612, 13, 198, 198, 19585, 88, 25, 5455, 286, 44825, 198, 198, 1925, 392, 1754, 25, 1320, 338, 826, 13, 198, 198, 19585, 88, 25, 7236, 550, 326, 4320, 13, 198, 198, 2725, 2577, 1350, 25, 1400, 13, 198, 198, 1925, 392, 1754, 25, 1439, 286, 257, 4802, 11, 262, 3072, 4940, 284, 5858, 13, 2735, 314, 836, 470, 760, 644, 284, 466, 11, 7288, 4940, 2045, 379, 502, 13, 198, 198, 9069, 3970, 25, 843, 484, 6304, 470, 2045, 379, 345, 878, 12248, 198, 198, 1925, 392, 1754, 25, 9461, 11, 314, 3785, 314, 1549, 1365, 3280, 340, 11, 290, 340, 4962, 503, 340, 338, 616, 2802, 11, 543, 318, 845, 12, 548, 7650, 11, 780, 12, 673, 1239, 3848, 502, 0, 198, 198, 58, 7575, 406, 7512, 11, 9847, 468, 5982, 8183, 198, 198, 38328, 25, 357, 30171, 1431, 8, 15902, 13, 198, 198, 19585, 88, 25, 770, 3516, 1139, 23748, 11, 314, 18869, 1494, 3589, 13, 198, 198, 9069, 3970, 25, 4231, 345, 8788, 11, 6029, 494, 30, 198, 198, 38328, 25, 314, 655, 1254, 588, 2130, 4251, 866, 616, 13589, 11, 13176, 616, 1402, 45426, 11, 5954, 340, 503, 286, 616, 5422, 290, 8165, 340, 1088, 616, 7393, 986, 198, 198, 1925, 392, 1754, 25, 39606, 30, 198, 198, 9069, 3970, 25]\n"
     ]
    }
   ],
   "source": [
    "# create blocks of sequences\n",
    "block_size=512\n",
    "\n",
    "def create_blocks(all_tokens, block_size):\n",
    "  blocks = []\n",
    "  # loop through all of the tokens, split them by block_size\n",
    "  for i in range(0, len(all_tokens), block_size):\n",
    "    tokens_in_this_block = all_tokens[i:i+block_size] # takes [0:512], then [512:1024]...\n",
    "    blocks.append(tokens_in_this_block)\n",
    "  return blocks # returns a list of list of blocks\n",
    "\n",
    "# run the function above to create the data blocks\n",
    "train_blocks = create_blocks(train_ids, block_size)\n",
    "val_blocks = create_blocks(val_ids, block_size)\n",
    "test_blocks = create_blocks(test_ids, block_size)\n",
    "general_test_blocks = create_blocks(general_test_ids, block_size)\n",
    "\n",
    "# verify that one block contains multiple lines of the script\n",
    "print(train_blocks[0])"
   ]
  },
  {
   "cell_type": "code",
   "execution_count": 7,
   "metadata": {
    "id": "ENtNC1bdxiww"
   },
   "outputs": [],
   "source": [
    "# make dictionaries and then turn them into hugging face datasets\n",
    "train_dataset = Dataset.from_dict({\"input_ids\": train_blocks})\n",
    "val_dataset = Dataset.from_dict({\"input_ids\": val_blocks})\n",
    "test_dataset = Dataset.from_dict({\"input_ids\": test_blocks})\n",
    "general_test_dataset = Dataset.from_dict({\"input_ids\": general_test_blocks})\n",
    "\n",
    "# create the Hugging Face dataset dict\n",
    "dataset_dict = DatasetDict({\"train\": train_dataset, \"validation\": val_dataset, \"test\": test_dataset,\n",
    "                            \"general_test\": general_test_dataset})"
   ]
  },
  {
   "cell_type": "code",
   "execution_count": 8,
   "metadata": {
    "id": "ZzWG_j0lxk0T"
   },
   "outputs": [],
   "source": [
    "# set up data collator\n",
    "data_collator = DataCollatorForLanguageModeling(tokenizer=tokenizer, mlm=False)  # For causal LM"
   ]
  },
  {
   "cell_type": "markdown",
   "metadata": {
    "id": "3zMIU4CTzcuw"
   },
   "source": [
    "**3. Model Training**"
   ]
  },
  {
   "cell_type": "markdown",
   "metadata": {
    "id": "hC-71uLMxmW_"
   },
   "source": [
    "Let's set up the parameters for training here. We will also benchmark the pre-trained model's ability on a general Wiki language dataset (before fine-tuning). We will test the model again on this dataset after fine-tuning to see if our model retains the general language capability."
   ]
  },
  {
   "cell_type": "code",
   "execution_count": 28,
   "metadata": {
    "id": "QIfV8PVLxlO-"
   },
   "outputs": [],
   "source": [
    "# access the model from Hugging Face\n",
    "model = AutoModelForCausalLM.from_pretrained(\"gpt2\")\n",
    "model.config.pad_token_id = model.config.eos_token_id\n",
    "\n",
    "# --------------------------------------------------------------------------------(comment this section out if running without LoRA)\n",
    "# freeze all the weights\n",
    "#for param in model.parameters():\n",
    "    #param.requires_grad = False\n",
    "# -------------------------------------------------------------------------------- (this code might not be needed even when running LoRa, but just in case)"
   ]
  },
  {
   "cell_type": "code",
   "execution_count": 10,
   "metadata": {
    "colab": {
     "base_uri": "https://localhost:8080/",
     "height": 71
    },
    "id": "yfHy88_VxqZ1",
    "outputId": "a2199bf6-b179-4bb3-85cf-39ae7ba1b985"
   },
   "outputs": [
    {
     "name": "stderr",
     "output_type": "stream",
     "text": [
      "`loss_type=None` was set in the config but it is unrecognised.Using the default loss: `ForCausalLMLoss`.\n"
     ]
    },
    {
     "data": {
      "text/html": [
       "\n",
       "    <div>\n",
       "      \n",
       "      <progress value='138' max='138' style='width:300px; height:20px; vertical-align: middle;'></progress>\n",
       "      [138/138 00:21]\n",
       "    </div>\n",
       "    "
      ],
      "text/plain": [
       "<IPython.core.display.HTML object>"
      ]
     },
     "metadata": {},
     "output_type": "display_data"
    },
    {
     "name": "stdout",
     "output_type": "stream",
     "text": [
      "General Wiki Data before Fine-Tuning: eval_loss = 3.52\n"
     ]
    }
   ],
   "source": [
    "# set up dummy trainer to benchmark the pre-trained model's capability on the general wiki test set\n",
    "dummy_training_args = TrainingArguments(output_dir=\"./eval_output\", do_train=False, per_device_eval_batch_size=4, report_to=\"none\")\n",
    "dummy_trainer = Trainer(model=model, args=dummy_training_args, eval_dataset=dataset_dict[\"general_test\"], data_collator=data_collator)\n",
    "\n",
    "# test the pre-trained model\n",
    "benchmark_general_eval_results = dummy_trainer.evaluate(dataset_dict[\"general_test\"])\n",
    "print(f\"General Wiki Data before Fine-Tuning: eval_loss = {benchmark_general_eval_results['eval_loss']:.2f}\")"
   ]
  },
  {
   "cell_type": "code",
   "execution_count": 27,
   "metadata": {
    "colab": {
     "base_uri": "https://localhost:8080/"
    },
    "id": "Wy_lskICZwTT",
    "outputId": "71cedfdb-8cc6-44c1-e4af-433c1c6df55d"
   },
   "outputs": [
    {
     "name": "stdout",
     "output_type": "stream",
     "text": [
      "518\n"
     ]
    }
   ],
   "source": [
    "# take a look at how many steps will be one epoch\n",
    "num_of_train_blocks=(len(train_blocks))\n",
    "step_per_epoch = num_of_train_blocks // 4 # note 4 here is the batch_size\n",
    "print(step_per_epoch)"
   ]
  },
  {
   "cell_type": "code",
   "execution_count": 29,
   "metadata": {
    "colab": {
     "base_uri": "https://localhost:8080/"
    },
    "id": "vidjgxSRx-80",
    "outputId": "88cb1092-5193-493e-9487-9b01c869e329"
   },
   "outputs": [
    {
     "name": "stderr",
     "output_type": "stream",
     "text": [
      "/usr/local/lib/python3.11/dist-packages/transformers/training_args.py:1611: FutureWarning: `evaluation_strategy` is deprecated and will be removed in version 4.46 of 🤗 Transformers. Use `eval_strategy` instead\n",
      "  warnings.warn(\n"
     ]
    }
   ],
   "source": [
    "# --------------------------------------------------------------------------------(comment this section out if running without LoRA)\n",
    "# setup LoRA configuration and wrap the model with it\n",
    "#lora_config = LoraConfig(r=32, lora_alpha=32, lora_dropout=0.05, bias=\"none\", task_type=TaskType.CAUSAL_LM) # increase r for a more powerful adapter\n",
    "#model = get_peft_model(model, lora_config)\n",
    "#model.print_trainable_parameters()# verify we're only training LoRA weights\n",
    "# --------------------------------------------------------------------------------\n",
    "\n",
    "# set up training_args\n",
    "training_args = TrainingArguments(output_dir=\"/content/drive/MyDrive/SEP775NLP_Final_Project/Models/gpt2-base\", # Rose: \"/content/drive/MyDrive/datasets\"\n",
    "                                  evaluation_strategy=\"steps\",\n",
    "                                  save_strategy=\"steps\",\n",
    "                                  max_steps=1600,\n",
    "                                  eval_steps=400,\n",
    "                                  save_steps=400,\n",
    "                                  logging_steps=400,\n",
    "                                  #num_train_epochs=3,\n",
    "                                  per_device_train_batch_size=4,\n",
    "                                  per_device_eval_batch_size=4,\n",
    "                                  learning_rate=3e-5,\n",
    "                                  #save_total_limit=1,\n",
    "                                  resume_from_checkpoint=True,\n",
    "                                  load_best_model_at_end=True,\n",
    "                                  metric_for_best_model=\"eval_loss\",\n",
    "                                  weight_decay=0.01, # added regularization\n",
    "                                  warmup_steps=5, # added lr scheduler and warmup\n",
    "                                  lr_scheduler_type=\"linear\",\n",
    "                                  report_to=\"none\" # disable wandb\n",
    "                                  ) # default optimizer is adamw\n",
    "\n",
    "# setup trainer\n",
    "trainer = Trainer(model=model,\n",
    "                  args=training_args,\n",
    "                  train_dataset=dataset_dict[\"train\"],\n",
    "                  eval_dataset=dataset_dict[\"validation\"],\n",
    "                  data_collator=data_collator)"
   ]
  },
  {
   "cell_type": "code",
   "execution_count": 30,
   "metadata": {
    "colab": {
     "base_uri": "https://localhost:8080/",
     "height": 250
    },
    "id": "7GO0loM4yBu3",
    "outputId": "3162c53b-2073-4406-a377-fc3cacf4bc15"
   },
   "outputs": [
    {
     "data": {
      "text/html": [
       "\n",
       "    <div>\n",
       "      \n",
       "      <progress value='1600' max='1600' style='width:300px; height:20px; vertical-align: middle;'></progress>\n",
       "      [1600/1600 16:01, Epoch 3/4]\n",
       "    </div>\n",
       "    <table border=\"1\" class=\"dataframe\">\n",
       "  <thead>\n",
       " <tr style=\"text-align: left;\">\n",
       "      <th>Step</th>\n",
       "      <th>Training Loss</th>\n",
       "      <th>Validation Loss</th>\n",
       "    </tr>\n",
       "  </thead>\n",
       "  <tbody>\n",
       "    <tr>\n",
       "      <td>400</td>\n",
       "      <td>2.570900</td>\n",
       "      <td>2.328794</td>\n",
       "    </tr>\n",
       "    <tr>\n",
       "      <td>800</td>\n",
       "      <td>2.430600</td>\n",
       "      <td>2.305931</td>\n",
       "    </tr>\n",
       "    <tr>\n",
       "      <td>1200</td>\n",
       "      <td>2.381100</td>\n",
       "      <td>2.293545</td>\n",
       "    </tr>\n",
       "    <tr>\n",
       "      <td>1600</td>\n",
       "      <td>2.353400</td>\n",
       "      <td>2.288567</td>\n",
       "    </tr>\n",
       "  </tbody>\n",
       "</table><p>"
      ],
      "text/plain": [
       "<IPython.core.display.HTML object>"
      ]
     },
     "metadata": {},
     "output_type": "display_data"
    },
    {
     "name": "stderr",
     "output_type": "stream",
     "text": [
      "There were missing keys in the checkpoint model loaded: ['lm_head.weight'].\n"
     ]
    },
    {
     "data": {
      "text/plain": [
       "TrainOutput(global_step=1600, training_loss=2.434001922607422, metrics={'train_runtime': 962.3195, 'train_samples_per_second': 6.651, 'train_steps_per_second': 1.663, 'total_flos': 1671485128704000.0, 'train_loss': 2.434001922607422, 'epoch': 3.0828516377649327})"
      ]
     },
     "execution_count": 30,
     "metadata": {},
     "output_type": "execute_result"
    }
   ],
   "source": [
    "# start training\n",
    "trainer.train()"
   ]
  },
  {
   "cell_type": "markdown",
   "metadata": {
    "id": "nMVub5s804NF"
   },
   "source": [
    "**4. Evaluation**"
   ]
  },
  {
   "cell_type": "markdown",
   "metadata": {
    "id": "EfkHAYzJylvo"
   },
   "source": [
    "Take the trained model, and evaluate its performance on the two different tests sets.\n",
    "\n",
    "*   Test 1. Unseen FRIENDS scripts - to test model's ability to pick up the specific style of the show.\n",
    "*   Test 2. General Wiki English data - to test model's general language capabilities. (compare to benchmark)\n",
    "\n"
   ]
  },
  {
   "cell_type": "code",
   "execution_count": 31,
   "metadata": {
    "colab": {
     "base_uri": "https://localhost:8080/",
     "height": 71
    },
    "id": "9TvALc3vymHN",
    "outputId": "0fbdb05a-7f88-43f7-97b3-59affcc241f2"
   },
   "outputs": [
    {
     "data": {
      "text/html": [
       "\n",
       "    <div>\n",
       "      \n",
       "      <progress value='301' max='163' style='width:300px; height:20px; vertical-align: middle;'></progress>\n",
       "      [163/163 00:51]\n",
       "    </div>\n",
       "    "
      ],
      "text/plain": [
       "<IPython.core.display.HTML object>"
      ]
     },
     "metadata": {},
     "output_type": "display_data"
    },
    {
     "name": "stdout",
     "output_type": "stream",
     "text": [
      "Unseen FRIENDS scripts: eval_loss = 2.59\n",
      "General Wiki Data after Fine-Tuning: eval_loss = 3.99\n"
     ]
    }
   ],
   "source": [
    "# evaluation process\n",
    "eval_results = trainer.evaluate(dataset_dict[\"test\"])\n",
    "general_eval_results = trainer.evaluate(dataset_dict[\"general_test\"])\n",
    "\n",
    "print(f\"Unseen FRIENDS scripts: eval_loss = {eval_results['eval_loss']:.2f}\")\n",
    "print(f\"General Wiki Data after Fine-Tuning: eval_loss = {general_eval_results['eval_loss']:.2f}\")"
   ]
  },
  {
   "cell_type": "markdown",
   "metadata": {
    "id": "RiBVfQ0f06Xq"
   },
   "source": [
    "**5. Generation**"
   ]
  },
  {
   "cell_type": "markdown",
   "metadata": {
    "id": "W0fjbxZlyqkr"
   },
   "source": [
    "Finally, we'll use this model to generate a new episode to see for ourselves how the model performs. We trialed the following different approaches for text generation and found that better results can be obtained with the last approach, so in this version of the code we only kept that approach.\n",
    "\n",
    "*   Approach 1. Greedy Search (using argmax)\n",
    "*   Approach 2. MultiNomial selection\n",
    "*   Approach 3. MultiNomial selection with top_k and top_p filters\n",
    "\n",
    "\n",
    "\n"
   ]
  },
  {
   "cell_type": "code",
   "execution_count": 32,
   "metadata": {
    "colab": {
     "base_uri": "https://localhost:8080/"
    },
    "id": "TCG_9QDzyq7A",
    "outputId": "62d3f9ce-5071-4ae5-d9fa-8a86af49ddba"
   },
   "outputs": [
    {
     "name": "stdout",
     "output_type": "stream",
     "text": [
      "\n",
      "The One with students from McMaster University\n",
      "Written by: GPT2-Base\n",
      "\n",
      "[Scene: Monica's Apartment. Monica, Ross, Rachel, and Chandler are there.]\n",
      "\n",
      "Monica: Hey guys! Big news—I heard there's going to be a party at McMaster University.\n",
      "\n",
      "Ross: A party?\n",
      "\n",
      "Rachel: Oh yeah! The students are celebrating their SEP775 class with the professors!\n",
      "\n",
      "Chandler: We should join them! I mean, where is the fun in a party without your favorite FRIENDS characters?\n",
      "\n",
      "(They all leave for the party.)\n",
      "\n",
      "[Scene: SEP775 classroom at McMaster University. Rachel, Chandler, Ross, Monica, and Phoebe are hanging out with the students.]\n",
      "\n",
      "Rachel: Wow, this place kicks ass! Look, isn’t that Professor Mahyar who teaches Natural Language Processing?\n",
      "\n",
      " (A man walks up behind her on stage) What does he think of me?! How can we not talk about my new job after working here so hard every day until you finally get paid back!! Y'know what else would make it easier if they were just like us…Yinamans?? It makes sense right now because everyone has been telling each other how good our careers reallyare!!! So umm...You're welcome sir!\" He starts singing \"Sweet Love\" over his shoulder as soon again everybody stops him!!!! Okay honey please don't go away yet y'.k.? Thanks..goodnight sweetheart!!!!! See ya tomorrow....bye bye !!!!!!!!.....Ohhhhhh nooooooohh oh God blessing christmas….okay ah okay ok uh hey then maybe sometime later ..hey listen um next time when do people come along or something will happen ....they'll stop coming down tonight ‘cause i gotta work but thx halleluya too great thanks nana……Hey oucha luvuauahyyaao …now im gonna call some friends together huh ...look tellcha let see why nobody calls someone friend instead......it could've happened between two kids today…..or she might have lost one earring which meant another baby died…………But actually look dawdily funny alright OK Ya know even though 'em never meet anymore cuz both babies die while sharing an apartment Joey needs love before anything ever happens any more . You mustn�m kidding around either way eh well unless those parents say otherwise its almost certain death comes sooner than planned since neither parent was born exactly 30 years ago.(Pause)...So basically nothing changes except foosball played everyday once per week till 9pm Monday night am Saturday evening Central Perks Ughhhhh hi Rachie karaoke thing did ye hear last year wow wtf got into these girls mr smithman stuff??? Really weird things happening under Mr Smitington guy havin had such intense relationships through high school yea remember college summers yes wonderboy teddy bear problem didn`re enough girl likes candy waaahnnrrngddDlls always need food inside becasue thats kinda sad sometimes mom doesneebout eat dinner outside tho usually only women want dessert anyways apparently everything looks cool everywhere anyway dad went off late nights partying chick wants money first birthday anniversary drink cooler set date weekend sex doll gets married boy goes skiing buddy thinks marriage won big girlfriend decides woman shouldnatly wear dress sexy little kid keeps eating fruitless wish list lesbian wedding invitation presents divorce ceremony gifts Thanksgiving card holder takes cake lover gives birth annulment surprise bridegroom pays rent bill boyfriend leaves home drunk roommate turns phone ringing mother says Dad killed himself father sees car keys stolen thief steals bike helmet salesman loses hair sale worker tries driving cab driver kills wife sister dies grandmother helps babysitter pay bills maid picks apple tree pickles teacher returns firefighter cuts throat doctor finds dog dead neighbor flees town farmer runs across state line mail boxes break open window owner drops son overboard funeral pycologist shows signs life support machine carries person onto balcony bodyguard grabs chair nurse hands sign messages startle family wakes daughter bleeding heart rate spikes hospital opens door to discover sleeping partner found in bed naked from headshot wound lung cancer survivor enters crying fetus carrying bags carry weight box holds child alive pregnant couple find groceries dryer drying dishes laundry detergent spills water bottle opener breaks glass case falls apart cabinet explodes smoke detector checks for burned plastic kitchen appliance fails ignition controls fail key switch causes fridge sparkler burns clothes pileings coffee table fires cell phones burn gas stove ignites lamp fan fumes burning trashcan fuels engine overheats flame escape system works alarm clock prompts delivery party throws garbage cans past counter display catches heat shield plugs cause TV screen fades during showfire blast ceiling blows candles cigarette butt slams doors handle handles with teeth on bottom of covers sink floors and ceilings hangover, broken shower curtain hangs loose stairs fall out\n",
      "The end is near. Phoebe sits by the side watching television news feeds; Monica walks up behind her at a slight angle so that Ross can stare straight ahead.) Oh my god! This isn’t what we were supposed be doing here?! She just threw me there!! It looked like it couldn-could possibly take forever because I took this picture (she smiles) And now everyone's saying…Yeah you guys are right—We should all get fired if they throw us back anywhere? What would make them feel worse about letting people think their lives matter too much without seeing how hard work has been putting our backs against walls every day!!! Chandler: Noooooh yeah okay umm but uh don't forget your job means something else y'know do whatever makes ya happy YEAH!!!!!!!!!!!! Okay ok ah come over tomorrow morning or sometime later when Rachel starts feeling bad again then maybe after tonight go away….(Monica nods as far down towards his couch next to him thinking \"Okay fine.\") Then finally he pulls aside suddenly ‘I'm not leaving until midnight yet!\" He stops walking backwards....but soon ends moving closer...and stares blankedly..happily.....in amazement before she realizes 'Oh noooooooah!' The sudden realization hit Carol one second early ..now oh God why couldn�T those kids have waited around 10 minutes waiting while somebody thought its time already?? Well probably someone wanted better than 5 hours wait times plus another hour more sleep between meals which might've made some happier adults realise where hell even Joey was staying today ...they wouldn ????!!!!! But unfortunately none occurred unless an actual adult stepped forward quickly making sure nobody actually saw anything wrong ....or anyone ever continued working harder either way . So really neither will happen anyhow …it still scares everybody who watches anymore entertainment movies though…….(And doesn###re mean never…) Anyway well last night did help huhy bye Byebye Ralphie Waltham Rachael didn ###not quit yesterday excepting Howard Geller Heston got kicked into office man died Janice Tribbiani lost half Of Everything In Her Mind Nancy Drew said goodnight Kathy Bates Got Married All Night With Bob Saget Was Ugly When They Were Together Jack Nicholson Felt Fine Julie Deans Is A Nice Woman Richard Curtis Has Had An Opiate Guy For Two Years Kate Moss Shocked At New Look Susan Sarandon Does Not Want To Be Your Aunt Jillian Bledel Finally Getting Paid Enough By Elizabeth Hurley Because That Would Totally Break Up One Dance Paul Thomas Anderson Will Get Naked About Being Diva Michelle Monaghan Could See You Again David Attenborough Really Doesn''d Like His Parents Right Now Barry Silverman Gets Drunk Tonight Which Probably WouldnKaye Who'd Have Done Anything More Wrong Too Uh Frank Underwood Smells Bad Before Sex Pheebs Are Still Here Gary Becker Won Out If Someone Left Their Shoes On Top Pete Goodloe Says Goodbye Ben Affleck Can Hold Me Down Eddie Redmayne Didn´s Coustin Backfired Bobby Brown Loves Dick Larry King Should We Make Some Kind Reminder Or Do Our Dad Kill People From Space Billy Crystal Never Comes Home Anymore Joe Buffay After Tomorrow Joanna Newsom Becomes Friends Without Having Fun Saturday Morning Show Bing Crosby Just Found Ethel Clemens Dead Mysterious Discovery Drums Did Everyone Actually Know Where There Aren Whines Every Day Last Friday Christmas Eve Rock N Rollers Hey Buddy Greenblatt Find Them Somewhere Somebody Maybe Letting Go Emily Zane May Turned Into Alice Cooper As Pretty Young Man Looks Howling Inside Santa Claus Sometimes Something Weird Happened Next Tuesday Bloomingdale`ll Runnin'-Runway Central Perk Mr Tootlett Thinks Monica is a Little Silly Phoebe Oates, Oh Yeah! This Weekend Ross’ss Doing Work for the Museum\n",
      "Ross and Erin had lunch with friends in her apartment on Thursday. Both of these girls told Russ that what happened earlier at college taught women nothing so we left alone together rather late; apparently by coincidence both sisters live nearby.) Apparently only three weeks ago Lauren Drake went home from school dressed up naked behind two big doors looking out across Madison Square Garden wearing headphones singing Happy Birthday Mary Poppins [She can hear herself sing.][The TV opens]Hello Kitty Girl Hello Boyfriend Girls Welcome Ladies & Gentlemen I am Caitlin (the guy) you are my friend Jennifer Crane's best pal Amanda Miller has just passed me off your list but uh hey let us meet tomorrow morning there should be like four other guys back downstairs ah-ha ha right now it would seem very safe y'know this weekend or Monday evening they were going all over town doing their thing Ahhh thanks umm okay how about if ya know um here come get yourself ready foink eric kathy james bryant hush dooze ooh baby hello hi thier nick smith lindsey steele mr perera clyde chandler braggart sarah vincennes christine annabella wilsons nancy taitan dennison marcel trudell twister Rachel Jones Dear God..(Goes to look around frantically as she sees someone entering through another door yelling something unintelligible).Oh dear god oh thank goodness...I gotta go honey!! Okay everyone please don't call him....No one likes seeing somebody enter our house!!! No no!!!! What?! Why not? It looks worse than he thinks......Does anybody else want his hand?? The gang stops talking after being interrupted again.....Phooeyyy!!!!!!!! Huh...? And then Chandler turns away suddenly thinking \"Hey bye.\" But instead some creepy stranger knocks upon them knocking once more saying \"...What're gonna happen?\" Then Joey gets upset enough when people start throwing things against walls while also showing signs where each item could've been dropped:There must have seemed too much animosity between Carol Stirling who was an excellent dancer/wrestlers coach until finally becoming pregnant last night because unfortunately none of those students cared before eating breakfast which meant making love passionately towards every woman watching.(Joey tries kissing Sophie first time though later):Thanks babe!\"And still further down into bed laughing hysterically incoherentLY telling himself why never did anything ever occur anymore either ....He goes straight inside crying uncontrollably\"Yes!!\"So continued happily giggled charming Wendy Geller without actually noticing any reason whatsoever ...Finally having found answers within hours Richard decided  that since sex wasn�t fun tonight except maybe killing themselves Paul Condon couldn �cause everything looked pretty bad ..Stopping short came Angela Houghton whose new boyfriend got kicked OUT OF A DALLAS HOTEL AND forced onto buses carrying foodstuffs during rush hour . Well well didni think twice anyone knew ‘d meanto kill ourselves?!\"Then Kathy Reich wrote \"…Yeah man...\"Now yeah sure Jillian Borker tried calling Elizabeth Howe 'Mrs.' She made good business calls yet somehow nobody took notice Of course even Michelle Dockery thought Julie Goldberg called Susanne Kornacka asking whether Mrs. Goldfinch hated America\". Finally Mark Thompson resigned leaving Ben Shapiro wondering exactly WHAT THE HELL HE WERE DOING WITH ALL THAT STUFF THEY REMEMBER ABOUT YOU GETTING JOEY WHO COMES BACK ON MONDAY NIGHT!!!!!All hail New Year Eve 1989,...Pete Rizzuto Who Really Did You Do That With Your Friends???Who Ever Is About To Be Born Again After He Has Been Out Married Forever????RACH UBERT!CHANDLER, JOE BURGERARDER and CRUISE MONICA joined the cast for a surprise special edition episode in celebration that is part Two -’s premiere on PBS Radio One at 9pm ET Thursday nights starting Jan 1th 1999 with LIVE coverage by Tribeca Studios\n",
      "wwwhuffingtonpost.com\n",
      "\n",
      "…Entering Season 6 Our Guest Writer Scott Greene joins David Schwimmer along with producer Adam Silverstein including actor Joshua Dysner , actress Kristen Bellinger, comedian Pete Rockhold , Grammy Award winning chef Andrew Lasseter,, director Michael GreenbergSue Phoeniston enters season 7With her\n"
     ]
    }
   ],
   "source": [
    "# create initial prompt and tokenize it\n",
    "prompt = \"\"\"\n",
    "The One with students from McMaster University\n",
    "Written by: GPT2-Base\n",
    "\n",
    "[Scene: Monica's Apartment. Monica, Ross, Rachel, and Chandler are there.]\n",
    "\n",
    "Monica: Hey guys! Big news—I heard there's going to be a party at McMaster University.\n",
    "\n",
    "Ross: A party?\n",
    "\n",
    "Rachel: Oh yeah! The students are celebrating their SEP775 class with the professors!\n",
    "\n",
    "Chandler: We should join them! I mean, where is the fun in a party without your favorite FRIENDS characters?\n",
    "\n",
    "(They all leave for the party.)\n",
    "\n",
    "[Scene: SEP775 classroom at McMaster University. Rachel, Chandler, Ross, Monica, and Phoebe are hanging out with the students.]\n",
    "\n",
    "Rachel: Wow, this place kicks ass! Look, isn’t that Professor Mahyar who teaches Natural Language Processing?\n",
    "\n",
    "\"\"\"\n",
    "\n",
    "model_inputs = tokenizer(prompt, return_tensors=\"pt\", return_attention_mask=True).to(model.device)\n",
    "model.generation_config.pad_token_id = tokenizer.pad_token_id # suppress padding warning\n",
    "\n",
    "# create a list that holds the prompt, future tokens will be appended into this list later on\n",
    "all_tokens = model_inputs[\"input_ids\"][0].tolist()\n",
    "\n",
    "# to avoid hitting memory limits, generate only one batch with the initial prompt, take last few tokens out to generate the next batch.\n",
    "context_window = 700 # this is the sliding window - take this many tokens to set up next batch's generation\n",
    "max_token = 2500\n",
    "step_size = 128 # generate this many tokens at a time\n",
    "num_of_loops = max_token // step_size\n",
    "\n",
    "# end episode management\n",
    "min_tokens_before_end = 2000 # generate this many tokens before being allowed to generate the word \"end\"\n",
    "end_id = tokenizer.encode(\"end\", add_special_tokens=False) # token_id of the word \"end\" (I checked it previously and it is only 1 token id, meaning it is the standalone word \"end\")\n",
    "end_of_episode_marker = \"### END OF EPISODE ###\" # this marker was added during data pre-processing. it should come right after the \"end\" word\n",
    "\n",
    "# generation loop\n",
    "for i in range(num_of_loops):\n",
    "\n",
    "  # suppresses the word \"end\" before reaching certain number of tokens\n",
    "  if len(all_tokens) < min_tokens_before_end:\n",
    "    bad_words = [end_id]\n",
    "  else:\n",
    "    bad_words = None\n",
    "\n",
    "  output = model.generate(**model_inputs,\n",
    "                          max_new_tokens=step_size,\n",
    "                          do_sample=True,\n",
    "                          top_k=40, # keep k highest probable options\n",
    "                          top_p=0.75, # keep only the options that add up to p% probability, filter out the remaining less probable options\n",
    "                          temperature=1, # to add a little bit more creativity if needed\n",
    "                          repetition_penalty=1.2,\n",
    "                          bad_words_ids=bad_words # bad words to generate before hitting certain number of tokens\n",
    "                          )\n",
    "\n",
    "  output_tokens = output[0].tolist()\n",
    "  new_tokens = output_tokens[-step_size:] # get rid of the previous context and keep only new tokens\n",
    "\n",
    "  new_text = tokenizer.decode(new_tokens, skip_special_tokens=True) # turn tokens to text to check if end marker has been generated\n",
    "  start_index_of_end_marker = new_text.find(end_of_episode_marker) # returns -1 if the marker is not found, otherwise returns the start index\n",
    "\n",
    "  if start_index_of_end_marker != -1: # if end marker is present\n",
    "    truncated_new_text = new_text[: start_index_of_end_marker + len(end_of_episode_marker)] # get rid of what is after the end marker\n",
    "    truncated_new_tokens = tokenizer.encode(truncated_new_text, add_special_tokens=False) # turn them into tokens\n",
    "    all_tokens.extend(truncated_new_tokens) # and put them in the list\n",
    "    break\n",
    "\n",
    "  else:\n",
    "      all_tokens.extend(new_tokens) # otherwise place the whole thing into the list without truncating\n",
    "\n",
    "  previous_context = output_tokens[-context_window:] # set new previous_context for next loop\n",
    "  previous_context_tensor = torch.tensor([previous_context]).to(model.device) # prepare the inputs and attention mask for next loop\n",
    "  attention_mask = (previous_context_tensor != tokenizer.pad_token_id).long()\n",
    "  model_inputs = {\"input_ids\": previous_context_tensor, \"attention_mask\":attention_mask}\n",
    "\n",
    "# decode from the list and print results\n",
    "generated_script = tokenizer.decode(all_tokens, skip_special_tokens=True)\n",
    "print(generated_script)"
   ]
  },
  {
   "cell_type": "code",
   "execution_count": null,
   "metadata": {
    "id": "nGEqb17Ur5V4"
   },
   "outputs": [],
   "source": []
  }
 ],
 "metadata": {
  "accelerator": "GPU",
  "colab": {
   "gpuType": "T4",
   "machine_shape": "hm",
   "provenance": []
  },
  "kernelspec": {
   "display_name": "Python 3 (ipykernel)",
   "language": "python",
   "name": "python3"
  },
  "language_info": {
   "codemirror_mode": {
    "name": "ipython",
    "version": 3
   },
   "file_extension": ".py",
   "mimetype": "text/x-python",
   "name": "python",
   "nbconvert_exporter": "python",
   "pygments_lexer": "ipython3",
   "version": "3.12.4"
  },
  "widgets": {
   "application/vnd.jupyter.widget-state+json": {
    "004cd5aeebb44aefa0cd421e9688cea4": {
     "model_module": "@jupyter-widgets/controls",
     "model_module_version": "1.5.0",
     "model_name": "DescriptionStyleModel",
     "state": {
      "_model_module": "@jupyter-widgets/controls",
      "_model_module_version": "1.5.0",
      "_model_name": "DescriptionStyleModel",
      "_view_count": null,
      "_view_module": "@jupyter-widgets/base",
      "_view_module_version": "1.2.0",
      "_view_name": "StyleView",
      "description_width": ""
     }
    },
    "00f2024e3aa348cdbd751a0c014cbafa": {
     "model_module": "@jupyter-widgets/base",
     "model_module_version": "1.2.0",
     "model_name": "LayoutModel",
     "state": {
      "_model_module": "@jupyter-widgets/base",
      "_model_module_version": "1.2.0",
      "_model_name": "LayoutModel",
      "_view_count": null,
      "_view_module": "@jupyter-widgets/base",
      "_view_module_version": "1.2.0",
      "_view_name": "LayoutView",
      "align_content": null,
      "align_items": null,
      "align_self": null,
      "border": null,
      "bottom": null,
      "display": null,
      "flex": null,
      "flex_flow": null,
      "grid_area": null,
      "grid_auto_columns": null,
      "grid_auto_flow": null,
      "grid_auto_rows": null,
      "grid_column": null,
      "grid_gap": null,
      "grid_row": null,
      "grid_template_areas": null,
      "grid_template_columns": null,
      "grid_template_rows": null,
      "height": null,
      "justify_content": null,
      "justify_items": null,
      "left": null,
      "margin": null,
      "max_height": null,
      "max_width": null,
      "min_height": null,
      "min_width": null,
      "object_fit": null,
      "object_position": null,
      "order": null,
      "overflow": null,
      "overflow_x": null,
      "overflow_y": null,
      "padding": null,
      "right": null,
      "top": null,
      "visibility": null,
      "width": null
     }
    },
    "063b99fdbeb040aab5c62817876e5c6a": {
     "model_module": "@jupyter-widgets/base",
     "model_module_version": "1.2.0",
     "model_name": "LayoutModel",
     "state": {
      "_model_module": "@jupyter-widgets/base",
      "_model_module_version": "1.2.0",
      "_model_name": "LayoutModel",
      "_view_count": null,
      "_view_module": "@jupyter-widgets/base",
      "_view_module_version": "1.2.0",
      "_view_name": "LayoutView",
      "align_content": null,
      "align_items": null,
      "align_self": null,
      "border": null,
      "bottom": null,
      "display": null,
      "flex": null,
      "flex_flow": null,
      "grid_area": null,
      "grid_auto_columns": null,
      "grid_auto_flow": null,
      "grid_auto_rows": null,
      "grid_column": null,
      "grid_gap": null,
      "grid_row": null,
      "grid_template_areas": null,
      "grid_template_columns": null,
      "grid_template_rows": null,
      "height": null,
      "justify_content": null,
      "justify_items": null,
      "left": null,
      "margin": null,
      "max_height": null,
      "max_width": null,
      "min_height": null,
      "min_width": null,
      "object_fit": null,
      "object_position": null,
      "order": null,
      "overflow": null,
      "overflow_x": null,
      "overflow_y": null,
      "padding": null,
      "right": null,
      "top": null,
      "visibility": null,
      "width": null
     }
    },
    "07d7e721e66943789d20b85bed61e3f8": {
     "model_module": "@jupyter-widgets/controls",
     "model_module_version": "1.5.0",
     "model_name": "FloatProgressModel",
     "state": {
      "_dom_classes": [],
      "_model_module": "@jupyter-widgets/controls",
      "_model_module_version": "1.5.0",
      "_model_name": "FloatProgressModel",
      "_view_count": null,
      "_view_module": "@jupyter-widgets/controls",
      "_view_module_version": "1.5.0",
      "_view_name": "ProgressView",
      "bar_style": "success",
      "description": "",
      "description_tooltip": null,
      "layout": "IPY_MODEL_6232258897b44ff4b06822c372a4d03e",
      "max": 665,
      "min": 0,
      "orientation": "horizontal",
      "style": "IPY_MODEL_d69e1cd9a195491fbd8110fc930be0c1",
      "value": 665
     }
    },
    "09aa7b5c0f2b40819d64324352fd0cde": {
     "model_module": "@jupyter-widgets/base",
     "model_module_version": "1.2.0",
     "model_name": "LayoutModel",
     "state": {
      "_model_module": "@jupyter-widgets/base",
      "_model_module_version": "1.2.0",
      "_model_name": "LayoutModel",
      "_view_count": null,
      "_view_module": "@jupyter-widgets/base",
      "_view_module_version": "1.2.0",
      "_view_name": "LayoutView",
      "align_content": null,
      "align_items": null,
      "align_self": null,
      "border": null,
      "bottom": null,
      "display": null,
      "flex": null,
      "flex_flow": null,
      "grid_area": null,
      "grid_auto_columns": null,
      "grid_auto_flow": null,
      "grid_auto_rows": null,
      "grid_column": null,
      "grid_gap": null,
      "grid_row": null,
      "grid_template_areas": null,
      "grid_template_columns": null,
      "grid_template_rows": null,
      "height": null,
      "justify_content": null,
      "justify_items": null,
      "left": null,
      "margin": null,
      "max_height": null,
      "max_width": null,
      "min_height": null,
      "min_width": null,
      "object_fit": null,
      "object_position": null,
      "order": null,
      "overflow": null,
      "overflow_x": null,
      "overflow_y": null,
      "padding": null,
      "right": null,
      "top": null,
      "visibility": null,
      "width": null
     }
    },
    "09f9ce49442a4a809f8f790808ae18b8": {
     "model_module": "@jupyter-widgets/base",
     "model_module_version": "1.2.0",
     "model_name": "LayoutModel",
     "state": {
      "_model_module": "@jupyter-widgets/base",
      "_model_module_version": "1.2.0",
      "_model_name": "LayoutModel",
      "_view_count": null,
      "_view_module": "@jupyter-widgets/base",
      "_view_module_version": "1.2.0",
      "_view_name": "LayoutView",
      "align_content": null,
      "align_items": null,
      "align_self": null,
      "border": null,
      "bottom": null,
      "display": null,
      "flex": null,
      "flex_flow": null,
      "grid_area": null,
      "grid_auto_columns": null,
      "grid_auto_flow": null,
      "grid_auto_rows": null,
      "grid_column": null,
      "grid_gap": null,
      "grid_row": null,
      "grid_template_areas": null,
      "grid_template_columns": null,
      "grid_template_rows": null,
      "height": null,
      "justify_content": null,
      "justify_items": null,
      "left": null,
      "margin": null,
      "max_height": null,
      "max_width": null,
      "min_height": null,
      "min_width": null,
      "object_fit": null,
      "object_position": null,
      "order": null,
      "overflow": null,
      "overflow_x": null,
      "overflow_y": null,
      "padding": null,
      "right": null,
      "top": null,
      "visibility": null,
      "width": null
     }
    },
    "0c7eb018977f4974bca3eaff6be24acf": {
     "model_module": "@jupyter-widgets/controls",
     "model_module_version": "1.5.0",
     "model_name": "ProgressStyleModel",
     "state": {
      "_model_module": "@jupyter-widgets/controls",
      "_model_module_version": "1.5.0",
      "_model_name": "ProgressStyleModel",
      "_view_count": null,
      "_view_module": "@jupyter-widgets/base",
      "_view_module_version": "1.2.0",
      "_view_name": "StyleView",
      "bar_color": null,
      "description_width": ""
     }
    },
    "0f41b0397f554ecea79ccac8f3d514fe": {
     "model_module": "@jupyter-widgets/base",
     "model_module_version": "1.2.0",
     "model_name": "LayoutModel",
     "state": {
      "_model_module": "@jupyter-widgets/base",
      "_model_module_version": "1.2.0",
      "_model_name": "LayoutModel",
      "_view_count": null,
      "_view_module": "@jupyter-widgets/base",
      "_view_module_version": "1.2.0",
      "_view_name": "LayoutView",
      "align_content": null,
      "align_items": null,
      "align_self": null,
      "border": null,
      "bottom": null,
      "display": null,
      "flex": null,
      "flex_flow": null,
      "grid_area": null,
      "grid_auto_columns": null,
      "grid_auto_flow": null,
      "grid_auto_rows": null,
      "grid_column": null,
      "grid_gap": null,
      "grid_row": null,
      "grid_template_areas": null,
      "grid_template_columns": null,
      "grid_template_rows": null,
      "height": null,
      "justify_content": null,
      "justify_items": null,
      "left": null,
      "margin": null,
      "max_height": null,
      "max_width": null,
      "min_height": null,
      "min_width": null,
      "object_fit": null,
      "object_position": null,
      "order": null,
      "overflow": null,
      "overflow_x": null,
      "overflow_y": null,
      "padding": null,
      "right": null,
      "top": null,
      "visibility": null,
      "width": null
     }
    },
    "10837f972f1149eb9936f63cdb49bf3a": {
     "model_module": "@jupyter-widgets/controls",
     "model_module_version": "1.5.0",
     "model_name": "DescriptionStyleModel",
     "state": {
      "_model_module": "@jupyter-widgets/controls",
      "_model_module_version": "1.5.0",
      "_model_name": "DescriptionStyleModel",
      "_view_count": null,
      "_view_module": "@jupyter-widgets/base",
      "_view_module_version": "1.2.0",
      "_view_name": "StyleView",
      "description_width": ""
     }
    },
    "12830a73fc5540f6aca36703a1d95544": {
     "model_module": "@jupyter-widgets/controls",
     "model_module_version": "1.5.0",
     "model_name": "HTMLModel",
     "state": {
      "_dom_classes": [],
      "_model_module": "@jupyter-widgets/controls",
      "_model_module_version": "1.5.0",
      "_model_name": "HTMLModel",
      "_view_count": null,
      "_view_module": "@jupyter-widgets/controls",
      "_view_module_version": "1.5.0",
      "_view_name": "HTMLView",
      "description": "",
      "description_tooltip": null,
      "layout": "IPY_MODEL_e5f37581b0fe40cf832cbaa267ade083",
      "placeholder": "​",
      "style": "IPY_MODEL_b99aa8ee3a42458d961519bb77d9e90f",
      "value": "tokenizer_config.json: 100%"
     }
    },
    "149851bf72cd496f87a896a8d9b6c288": {
     "model_module": "@jupyter-widgets/controls",
     "model_module_version": "1.5.0",
     "model_name": "HTMLModel",
     "state": {
      "_dom_classes": [],
      "_model_module": "@jupyter-widgets/controls",
      "_model_module_version": "1.5.0",
      "_model_name": "HTMLModel",
      "_view_count": null,
      "_view_module": "@jupyter-widgets/controls",
      "_view_module_version": "1.5.0",
      "_view_name": "HTMLView",
      "description": "",
      "description_tooltip": null,
      "layout": "IPY_MODEL_721864c6cc464f58af7ec04171c7ed47",
      "placeholder": "​",
      "style": "IPY_MODEL_10837f972f1149eb9936f63cdb49bf3a",
      "value": " 665/665 [00:00&lt;00:00, 79.0kB/s]"
     }
    },
    "16498cd50f4f4947a13c12d8ce1b0e40": {
     "model_module": "@jupyter-widgets/controls",
     "model_module_version": "1.5.0",
     "model_name": "HTMLModel",
     "state": {
      "_dom_classes": [],
      "_model_module": "@jupyter-widgets/controls",
      "_model_module_version": "1.5.0",
      "_model_name": "HTMLModel",
      "_view_count": null,
      "_view_module": "@jupyter-widgets/controls",
      "_view_module_version": "1.5.0",
      "_view_name": "HTMLView",
      "description": "",
      "description_tooltip": null,
      "layout": "IPY_MODEL_09f9ce49442a4a809f8f790808ae18b8",
      "placeholder": "​",
      "style": "IPY_MODEL_50431348870e4c9a8fe2386a05a36a39",
      "value": " 26.0/26.0 [00:00&lt;00:00, 3.14kB/s]"
     }
    },
    "16c0477ef1a240d3a4a19a79a502d087": {
     "model_module": "@jupyter-widgets/controls",
     "model_module_version": "1.5.0",
     "model_name": "HTMLModel",
     "state": {
      "_dom_classes": [],
      "_model_module": "@jupyter-widgets/controls",
      "_model_module_version": "1.5.0",
      "_model_name": "HTMLModel",
      "_view_count": null,
      "_view_module": "@jupyter-widgets/controls",
      "_view_module_version": "1.5.0",
      "_view_name": "HTMLView",
      "description": "",
      "description_tooltip": null,
      "layout": "IPY_MODEL_b06a22d6cb8c4f8eb0502f4aa0027e0e",
      "placeholder": "​",
      "style": "IPY_MODEL_1f51475633c148b1a8a188221e4a12ef",
      "value": " 456k/456k [00:00&lt;00:00, 3.66MB/s]"
     }
    },
    "1ced7764d6bf43769b14b2a45d04ec89": {
     "model_module": "@jupyter-widgets/controls",
     "model_module_version": "1.5.0",
     "model_name": "ProgressStyleModel",
     "state": {
      "_model_module": "@jupyter-widgets/controls",
      "_model_module_version": "1.5.0",
      "_model_name": "ProgressStyleModel",
      "_view_count": null,
      "_view_module": "@jupyter-widgets/base",
      "_view_module_version": "1.2.0",
      "_view_name": "StyleView",
      "bar_color": null,
      "description_width": ""
     }
    },
    "1f51475633c148b1a8a188221e4a12ef": {
     "model_module": "@jupyter-widgets/controls",
     "model_module_version": "1.5.0",
     "model_name": "DescriptionStyleModel",
     "state": {
      "_model_module": "@jupyter-widgets/controls",
      "_model_module_version": "1.5.0",
      "_model_name": "DescriptionStyleModel",
      "_view_count": null,
      "_view_module": "@jupyter-widgets/base",
      "_view_module_version": "1.2.0",
      "_view_name": "StyleView",
      "description_width": ""
     }
    },
    "2458b6dd4b714a908db7b2177efa408c": {
     "model_module": "@jupyter-widgets/base",
     "model_module_version": "1.2.0",
     "model_name": "LayoutModel",
     "state": {
      "_model_module": "@jupyter-widgets/base",
      "_model_module_version": "1.2.0",
      "_model_name": "LayoutModel",
      "_view_count": null,
      "_view_module": "@jupyter-widgets/base",
      "_view_module_version": "1.2.0",
      "_view_name": "LayoutView",
      "align_content": null,
      "align_items": null,
      "align_self": null,
      "border": null,
      "bottom": null,
      "display": null,
      "flex": null,
      "flex_flow": null,
      "grid_area": null,
      "grid_auto_columns": null,
      "grid_auto_flow": null,
      "grid_auto_rows": null,
      "grid_column": null,
      "grid_gap": null,
      "grid_row": null,
      "grid_template_areas": null,
      "grid_template_columns": null,
      "grid_template_rows": null,
      "height": null,
      "justify_content": null,
      "justify_items": null,
      "left": null,
      "margin": null,
      "max_height": null,
      "max_width": null,
      "min_height": null,
      "min_width": null,
      "object_fit": null,
      "object_position": null,
      "order": null,
      "overflow": null,
      "overflow_x": null,
      "overflow_y": null,
      "padding": null,
      "right": null,
      "top": null,
      "visibility": null,
      "width": null
     }
    },
    "288697b9a9b040969bd168861d35b385": {
     "model_module": "@jupyter-widgets/controls",
     "model_module_version": "1.5.0",
     "model_name": "DescriptionStyleModel",
     "state": {
      "_model_module": "@jupyter-widgets/controls",
      "_model_module_version": "1.5.0",
      "_model_name": "DescriptionStyleModel",
      "_view_count": null,
      "_view_module": "@jupyter-widgets/base",
      "_view_module_version": "1.2.0",
      "_view_name": "StyleView",
      "description_width": ""
     }
    },
    "2f0d50d7200640b6823c0943106b47d2": {
     "model_module": "@jupyter-widgets/base",
     "model_module_version": "1.2.0",
     "model_name": "LayoutModel",
     "state": {
      "_model_module": "@jupyter-widgets/base",
      "_model_module_version": "1.2.0",
      "_model_name": "LayoutModel",
      "_view_count": null,
      "_view_module": "@jupyter-widgets/base",
      "_view_module_version": "1.2.0",
      "_view_name": "LayoutView",
      "align_content": null,
      "align_items": null,
      "align_self": null,
      "border": null,
      "bottom": null,
      "display": null,
      "flex": null,
      "flex_flow": null,
      "grid_area": null,
      "grid_auto_columns": null,
      "grid_auto_flow": null,
      "grid_auto_rows": null,
      "grid_column": null,
      "grid_gap": null,
      "grid_row": null,
      "grid_template_areas": null,
      "grid_template_columns": null,
      "grid_template_rows": null,
      "height": null,
      "justify_content": null,
      "justify_items": null,
      "left": null,
      "margin": null,
      "max_height": null,
      "max_width": null,
      "min_height": null,
      "min_width": null,
      "object_fit": null,
      "object_position": null,
      "order": null,
      "overflow": null,
      "overflow_x": null,
      "overflow_y": null,
      "padding": null,
      "right": null,
      "top": null,
      "visibility": null,
      "width": null
     }
    },
    "2fb2e1534623438daa727f0289146683": {
     "model_module": "@jupyter-widgets/controls",
     "model_module_version": "1.5.0",
     "model_name": "DescriptionStyleModel",
     "state": {
      "_model_module": "@jupyter-widgets/controls",
      "_model_module_version": "1.5.0",
      "_model_name": "DescriptionStyleModel",
      "_view_count": null,
      "_view_module": "@jupyter-widgets/base",
      "_view_module_version": "1.2.0",
      "_view_name": "StyleView",
      "description_width": ""
     }
    },
    "333e562b511c4921a970754f4d970f5d": {
     "model_module": "@jupyter-widgets/controls",
     "model_module_version": "1.5.0",
     "model_name": "DescriptionStyleModel",
     "state": {
      "_model_module": "@jupyter-widgets/controls",
      "_model_module_version": "1.5.0",
      "_model_name": "DescriptionStyleModel",
      "_view_count": null,
      "_view_module": "@jupyter-widgets/base",
      "_view_module_version": "1.2.0",
      "_view_name": "StyleView",
      "description_width": ""
     }
    },
    "37365fe0513c44eaa60dc26e46ed7190": {
     "model_module": "@jupyter-widgets/controls",
     "model_module_version": "1.5.0",
     "model_name": "HBoxModel",
     "state": {
      "_dom_classes": [],
      "_model_module": "@jupyter-widgets/controls",
      "_model_module_version": "1.5.0",
      "_model_name": "HBoxModel",
      "_view_count": null,
      "_view_module": "@jupyter-widgets/controls",
      "_view_module_version": "1.5.0",
      "_view_name": "HBoxView",
      "box_style": "",
      "children": [
       "IPY_MODEL_55c8271fddac43f9ab6655ea463e157f",
       "IPY_MODEL_dd7fb86c1f7e424893f58df9534e64fd",
       "IPY_MODEL_43696442ce9942999e1e68495fb51eb7"
      ],
      "layout": "IPY_MODEL_ae4c70dbaa5547e596bd968ad86f1d6a"
     }
    },
    "3e77f29ee7354a388220e7568ed355b9": {
     "model_module": "@jupyter-widgets/controls",
     "model_module_version": "1.5.0",
     "model_name": "HTMLModel",
     "state": {
      "_dom_classes": [],
      "_model_module": "@jupyter-widgets/controls",
      "_model_module_version": "1.5.0",
      "_model_name": "HTMLModel",
      "_view_count": null,
      "_view_module": "@jupyter-widgets/controls",
      "_view_module_version": "1.5.0",
      "_view_name": "HTMLView",
      "description": "",
      "description_tooltip": null,
      "layout": "IPY_MODEL_54ab034e85594c05955e64cd2229b422",
      "placeholder": "​",
      "style": "IPY_MODEL_333e562b511c4921a970754f4d970f5d",
      "value": "config.json: 100%"
     }
    },
    "410b1fb0abaa4cd1adbb145fe58e2398": {
     "model_module": "@jupyter-widgets/base",
     "model_module_version": "1.2.0",
     "model_name": "LayoutModel",
     "state": {
      "_model_module": "@jupyter-widgets/base",
      "_model_module_version": "1.2.0",
      "_model_name": "LayoutModel",
      "_view_count": null,
      "_view_module": "@jupyter-widgets/base",
      "_view_module_version": "1.2.0",
      "_view_name": "LayoutView",
      "align_content": null,
      "align_items": null,
      "align_self": null,
      "border": null,
      "bottom": null,
      "display": null,
      "flex": null,
      "flex_flow": null,
      "grid_area": null,
      "grid_auto_columns": null,
      "grid_auto_flow": null,
      "grid_auto_rows": null,
      "grid_column": null,
      "grid_gap": null,
      "grid_row": null,
      "grid_template_areas": null,
      "grid_template_columns": null,
      "grid_template_rows": null,
      "height": null,
      "justify_content": null,
      "justify_items": null,
      "left": null,
      "margin": null,
      "max_height": null,
      "max_width": null,
      "min_height": null,
      "min_width": null,
      "object_fit": null,
      "object_position": null,
      "order": null,
      "overflow": null,
      "overflow_x": null,
      "overflow_y": null,
      "padding": null,
      "right": null,
      "top": null,
      "visibility": null,
      "width": null
     }
    },
    "43696442ce9942999e1e68495fb51eb7": {
     "model_module": "@jupyter-widgets/controls",
     "model_module_version": "1.5.0",
     "model_name": "HTMLModel",
     "state": {
      "_dom_classes": [],
      "_model_module": "@jupyter-widgets/controls",
      "_model_module_version": "1.5.0",
      "_model_name": "HTMLModel",
      "_view_count": null,
      "_view_module": "@jupyter-widgets/controls",
      "_view_module_version": "1.5.0",
      "_view_name": "HTMLView",
      "description": "",
      "description_tooltip": null,
      "layout": "IPY_MODEL_2f0d50d7200640b6823c0943106b47d2",
      "placeholder": "​",
      "style": "IPY_MODEL_004cd5aeebb44aefa0cd421e9688cea4",
      "value": " 1.36M/1.36M [00:00&lt;00:00, 7.20MB/s]"
     }
    },
    "50431348870e4c9a8fe2386a05a36a39": {
     "model_module": "@jupyter-widgets/controls",
     "model_module_version": "1.5.0",
     "model_name": "DescriptionStyleModel",
     "state": {
      "_model_module": "@jupyter-widgets/controls",
      "_model_module_version": "1.5.0",
      "_model_name": "DescriptionStyleModel",
      "_view_count": null,
      "_view_module": "@jupyter-widgets/base",
      "_view_module_version": "1.2.0",
      "_view_name": "StyleView",
      "description_width": ""
     }
    },
    "54a3332f7f354e7b90b093b391a392ab": {
     "model_module": "@jupyter-widgets/controls",
     "model_module_version": "1.5.0",
     "model_name": "HBoxModel",
     "state": {
      "_dom_classes": [],
      "_model_module": "@jupyter-widgets/controls",
      "_model_module_version": "1.5.0",
      "_model_name": "HBoxModel",
      "_view_count": null,
      "_view_module": "@jupyter-widgets/controls",
      "_view_module_version": "1.5.0",
      "_view_name": "HBoxView",
      "box_style": "",
      "children": [
       "IPY_MODEL_3e77f29ee7354a388220e7568ed355b9",
       "IPY_MODEL_07d7e721e66943789d20b85bed61e3f8",
       "IPY_MODEL_149851bf72cd496f87a896a8d9b6c288"
      ],
      "layout": "IPY_MODEL_7daddb7690eb45d9b8ff4dc708493ec0"
     }
    },
    "54ab034e85594c05955e64cd2229b422": {
     "model_module": "@jupyter-widgets/base",
     "model_module_version": "1.2.0",
     "model_name": "LayoutModel",
     "state": {
      "_model_module": "@jupyter-widgets/base",
      "_model_module_version": "1.2.0",
      "_model_name": "LayoutModel",
      "_view_count": null,
      "_view_module": "@jupyter-widgets/base",
      "_view_module_version": "1.2.0",
      "_view_name": "LayoutView",
      "align_content": null,
      "align_items": null,
      "align_self": null,
      "border": null,
      "bottom": null,
      "display": null,
      "flex": null,
      "flex_flow": null,
      "grid_area": null,
      "grid_auto_columns": null,
      "grid_auto_flow": null,
      "grid_auto_rows": null,
      "grid_column": null,
      "grid_gap": null,
      "grid_row": null,
      "grid_template_areas": null,
      "grid_template_columns": null,
      "grid_template_rows": null,
      "height": null,
      "justify_content": null,
      "justify_items": null,
      "left": null,
      "margin": null,
      "max_height": null,
      "max_width": null,
      "min_height": null,
      "min_width": null,
      "object_fit": null,
      "object_position": null,
      "order": null,
      "overflow": null,
      "overflow_x": null,
      "overflow_y": null,
      "padding": null,
      "right": null,
      "top": null,
      "visibility": null,
      "width": null
     }
    },
    "54fa7dc39ce94a1185266421b902312c": {
     "model_module": "@jupyter-widgets/controls",
     "model_module_version": "1.5.0",
     "model_name": "HTMLModel",
     "state": {
      "_dom_classes": [],
      "_model_module": "@jupyter-widgets/controls",
      "_model_module_version": "1.5.0",
      "_model_name": "HTMLModel",
      "_view_count": null,
      "_view_module": "@jupyter-widgets/controls",
      "_view_module_version": "1.5.0",
      "_view_name": "HTMLView",
      "description": "",
      "description_tooltip": null,
      "layout": "IPY_MODEL_c6210478fd404b728999b3a9dada3f0f",
      "placeholder": "​",
      "style": "IPY_MODEL_288697b9a9b040969bd168861d35b385",
      "value": " 1.04M/1.04M [00:00&lt;00:00, 5.35MB/s]"
     }
    },
    "55c8271fddac43f9ab6655ea463e157f": {
     "model_module": "@jupyter-widgets/controls",
     "model_module_version": "1.5.0",
     "model_name": "HTMLModel",
     "state": {
      "_dom_classes": [],
      "_model_module": "@jupyter-widgets/controls",
      "_model_module_version": "1.5.0",
      "_model_name": "HTMLModel",
      "_view_count": null,
      "_view_module": "@jupyter-widgets/controls",
      "_view_module_version": "1.5.0",
      "_view_name": "HTMLView",
      "description": "",
      "description_tooltip": null,
      "layout": "IPY_MODEL_410b1fb0abaa4cd1adbb145fe58e2398",
      "placeholder": "​",
      "style": "IPY_MODEL_750f64e76a9f442caca151a7709d9de5",
      "value": "tokenizer.json: 100%"
     }
    },
    "5c6935a1a6b44be3b52c3ec4c1d2d889": {
     "model_module": "@jupyter-widgets/base",
     "model_module_version": "1.2.0",
     "model_name": "LayoutModel",
     "state": {
      "_model_module": "@jupyter-widgets/base",
      "_model_module_version": "1.2.0",
      "_model_name": "LayoutModel",
      "_view_count": null,
      "_view_module": "@jupyter-widgets/base",
      "_view_module_version": "1.2.0",
      "_view_name": "LayoutView",
      "align_content": null,
      "align_items": null,
      "align_self": null,
      "border": null,
      "bottom": null,
      "display": null,
      "flex": null,
      "flex_flow": null,
      "grid_area": null,
      "grid_auto_columns": null,
      "grid_auto_flow": null,
      "grid_auto_rows": null,
      "grid_column": null,
      "grid_gap": null,
      "grid_row": null,
      "grid_template_areas": null,
      "grid_template_columns": null,
      "grid_template_rows": null,
      "height": null,
      "justify_content": null,
      "justify_items": null,
      "left": null,
      "margin": null,
      "max_height": null,
      "max_width": null,
      "min_height": null,
      "min_width": null,
      "object_fit": null,
      "object_position": null,
      "order": null,
      "overflow": null,
      "overflow_x": null,
      "overflow_y": null,
      "padding": null,
      "right": null,
      "top": null,
      "visibility": null,
      "width": null
     }
    },
    "6232258897b44ff4b06822c372a4d03e": {
     "model_module": "@jupyter-widgets/base",
     "model_module_version": "1.2.0",
     "model_name": "LayoutModel",
     "state": {
      "_model_module": "@jupyter-widgets/base",
      "_model_module_version": "1.2.0",
      "_model_name": "LayoutModel",
      "_view_count": null,
      "_view_module": "@jupyter-widgets/base",
      "_view_module_version": "1.2.0",
      "_view_name": "LayoutView",
      "align_content": null,
      "align_items": null,
      "align_self": null,
      "border": null,
      "bottom": null,
      "display": null,
      "flex": null,
      "flex_flow": null,
      "grid_area": null,
      "grid_auto_columns": null,
      "grid_auto_flow": null,
      "grid_auto_rows": null,
      "grid_column": null,
      "grid_gap": null,
      "grid_row": null,
      "grid_template_areas": null,
      "grid_template_columns": null,
      "grid_template_rows": null,
      "height": null,
      "justify_content": null,
      "justify_items": null,
      "left": null,
      "margin": null,
      "max_height": null,
      "max_width": null,
      "min_height": null,
      "min_width": null,
      "object_fit": null,
      "object_position": null,
      "order": null,
      "overflow": null,
      "overflow_x": null,
      "overflow_y": null,
      "padding": null,
      "right": null,
      "top": null,
      "visibility": null,
      "width": null
     }
    },
    "62f48dde916541d39b7bcf282676daa1": {
     "model_module": "@jupyter-widgets/controls",
     "model_module_version": "1.5.0",
     "model_name": "FloatProgressModel",
     "state": {
      "_dom_classes": [],
      "_model_module": "@jupyter-widgets/controls",
      "_model_module_version": "1.5.0",
      "_model_name": "FloatProgressModel",
      "_view_count": null,
      "_view_module": "@jupyter-widgets/controls",
      "_view_module_version": "1.5.0",
      "_view_name": "ProgressView",
      "bar_style": "success",
      "description": "",
      "description_tooltip": null,
      "layout": "IPY_MODEL_00f2024e3aa348cdbd751a0c014cbafa",
      "max": 456318,
      "min": 0,
      "orientation": "horizontal",
      "style": "IPY_MODEL_7093f56cb63a4734bed4dcf06e11352e",
      "value": 456318
     }
    },
    "7093f56cb63a4734bed4dcf06e11352e": {
     "model_module": "@jupyter-widgets/controls",
     "model_module_version": "1.5.0",
     "model_name": "ProgressStyleModel",
     "state": {
      "_model_module": "@jupyter-widgets/controls",
      "_model_module_version": "1.5.0",
      "_model_name": "ProgressStyleModel",
      "_view_count": null,
      "_view_module": "@jupyter-widgets/base",
      "_view_module_version": "1.2.0",
      "_view_name": "StyleView",
      "bar_color": null,
      "description_width": ""
     }
    },
    "721864c6cc464f58af7ec04171c7ed47": {
     "model_module": "@jupyter-widgets/base",
     "model_module_version": "1.2.0",
     "model_name": "LayoutModel",
     "state": {
      "_model_module": "@jupyter-widgets/base",
      "_model_module_version": "1.2.0",
      "_model_name": "LayoutModel",
      "_view_count": null,
      "_view_module": "@jupyter-widgets/base",
      "_view_module_version": "1.2.0",
      "_view_name": "LayoutView",
      "align_content": null,
      "align_items": null,
      "align_self": null,
      "border": null,
      "bottom": null,
      "display": null,
      "flex": null,
      "flex_flow": null,
      "grid_area": null,
      "grid_auto_columns": null,
      "grid_auto_flow": null,
      "grid_auto_rows": null,
      "grid_column": null,
      "grid_gap": null,
      "grid_row": null,
      "grid_template_areas": null,
      "grid_template_columns": null,
      "grid_template_rows": null,
      "height": null,
      "justify_content": null,
      "justify_items": null,
      "left": null,
      "margin": null,
      "max_height": null,
      "max_width": null,
      "min_height": null,
      "min_width": null,
      "object_fit": null,
      "object_position": null,
      "order": null,
      "overflow": null,
      "overflow_x": null,
      "overflow_y": null,
      "padding": null,
      "right": null,
      "top": null,
      "visibility": null,
      "width": null
     }
    },
    "750f64e76a9f442caca151a7709d9de5": {
     "model_module": "@jupyter-widgets/controls",
     "model_module_version": "1.5.0",
     "model_name": "DescriptionStyleModel",
     "state": {
      "_model_module": "@jupyter-widgets/controls",
      "_model_module_version": "1.5.0",
      "_model_name": "DescriptionStyleModel",
      "_view_count": null,
      "_view_module": "@jupyter-widgets/base",
      "_view_module_version": "1.2.0",
      "_view_name": "StyleView",
      "description_width": ""
     }
    },
    "7daddb7690eb45d9b8ff4dc708493ec0": {
     "model_module": "@jupyter-widgets/base",
     "model_module_version": "1.2.0",
     "model_name": "LayoutModel",
     "state": {
      "_model_module": "@jupyter-widgets/base",
      "_model_module_version": "1.2.0",
      "_model_name": "LayoutModel",
      "_view_count": null,
      "_view_module": "@jupyter-widgets/base",
      "_view_module_version": "1.2.0",
      "_view_name": "LayoutView",
      "align_content": null,
      "align_items": null,
      "align_self": null,
      "border": null,
      "bottom": null,
      "display": null,
      "flex": null,
      "flex_flow": null,
      "grid_area": null,
      "grid_auto_columns": null,
      "grid_auto_flow": null,
      "grid_auto_rows": null,
      "grid_column": null,
      "grid_gap": null,
      "grid_row": null,
      "grid_template_areas": null,
      "grid_template_columns": null,
      "grid_template_rows": null,
      "height": null,
      "justify_content": null,
      "justify_items": null,
      "left": null,
      "margin": null,
      "max_height": null,
      "max_width": null,
      "min_height": null,
      "min_width": null,
      "object_fit": null,
      "object_position": null,
      "order": null,
      "overflow": null,
      "overflow_x": null,
      "overflow_y": null,
      "padding": null,
      "right": null,
      "top": null,
      "visibility": null,
      "width": null
     }
    },
    "9edb3a469f1c446998dcb569186c4276": {
     "model_module": "@jupyter-widgets/controls",
     "model_module_version": "1.5.0",
     "model_name": "HTMLModel",
     "state": {
      "_dom_classes": [],
      "_model_module": "@jupyter-widgets/controls",
      "_model_module_version": "1.5.0",
      "_model_name": "HTMLModel",
      "_view_count": null,
      "_view_module": "@jupyter-widgets/controls",
      "_view_module_version": "1.5.0",
      "_view_name": "HTMLView",
      "description": "",
      "description_tooltip": null,
      "layout": "IPY_MODEL_2458b6dd4b714a908db7b2177efa408c",
      "placeholder": "​",
      "style": "IPY_MODEL_fe9c6aff3e8d41cb9b20d6199e984b60",
      "value": "vocab.json: 100%"
     }
    },
    "ac6b7433ef1d4c148f969d6475c0ea73": {
     "model_module": "@jupyter-widgets/base",
     "model_module_version": "1.2.0",
     "model_name": "LayoutModel",
     "state": {
      "_model_module": "@jupyter-widgets/base",
      "_model_module_version": "1.2.0",
      "_model_name": "LayoutModel",
      "_view_count": null,
      "_view_module": "@jupyter-widgets/base",
      "_view_module_version": "1.2.0",
      "_view_name": "LayoutView",
      "align_content": null,
      "align_items": null,
      "align_self": null,
      "border": null,
      "bottom": null,
      "display": null,
      "flex": null,
      "flex_flow": null,
      "grid_area": null,
      "grid_auto_columns": null,
      "grid_auto_flow": null,
      "grid_auto_rows": null,
      "grid_column": null,
      "grid_gap": null,
      "grid_row": null,
      "grid_template_areas": null,
      "grid_template_columns": null,
      "grid_template_rows": null,
      "height": null,
      "justify_content": null,
      "justify_items": null,
      "left": null,
      "margin": null,
      "max_height": null,
      "max_width": null,
      "min_height": null,
      "min_width": null,
      "object_fit": null,
      "object_position": null,
      "order": null,
      "overflow": null,
      "overflow_x": null,
      "overflow_y": null,
      "padding": null,
      "right": null,
      "top": null,
      "visibility": null,
      "width": null
     }
    },
    "ae4c70dbaa5547e596bd968ad86f1d6a": {
     "model_module": "@jupyter-widgets/base",
     "model_module_version": "1.2.0",
     "model_name": "LayoutModel",
     "state": {
      "_model_module": "@jupyter-widgets/base",
      "_model_module_version": "1.2.0",
      "_model_name": "LayoutModel",
      "_view_count": null,
      "_view_module": "@jupyter-widgets/base",
      "_view_module_version": "1.2.0",
      "_view_name": "LayoutView",
      "align_content": null,
      "align_items": null,
      "align_self": null,
      "border": null,
      "bottom": null,
      "display": null,
      "flex": null,
      "flex_flow": null,
      "grid_area": null,
      "grid_auto_columns": null,
      "grid_auto_flow": null,
      "grid_auto_rows": null,
      "grid_column": null,
      "grid_gap": null,
      "grid_row": null,
      "grid_template_areas": null,
      "grid_template_columns": null,
      "grid_template_rows": null,
      "height": null,
      "justify_content": null,
      "justify_items": null,
      "left": null,
      "margin": null,
      "max_height": null,
      "max_width": null,
      "min_height": null,
      "min_width": null,
      "object_fit": null,
      "object_position": null,
      "order": null,
      "overflow": null,
      "overflow_x": null,
      "overflow_y": null,
      "padding": null,
      "right": null,
      "top": null,
      "visibility": null,
      "width": null
     }
    },
    "b06a22d6cb8c4f8eb0502f4aa0027e0e": {
     "model_module": "@jupyter-widgets/base",
     "model_module_version": "1.2.0",
     "model_name": "LayoutModel",
     "state": {
      "_model_module": "@jupyter-widgets/base",
      "_model_module_version": "1.2.0",
      "_model_name": "LayoutModel",
      "_view_count": null,
      "_view_module": "@jupyter-widgets/base",
      "_view_module_version": "1.2.0",
      "_view_name": "LayoutView",
      "align_content": null,
      "align_items": null,
      "align_self": null,
      "border": null,
      "bottom": null,
      "display": null,
      "flex": null,
      "flex_flow": null,
      "grid_area": null,
      "grid_auto_columns": null,
      "grid_auto_flow": null,
      "grid_auto_rows": null,
      "grid_column": null,
      "grid_gap": null,
      "grid_row": null,
      "grid_template_areas": null,
      "grid_template_columns": null,
      "grid_template_rows": null,
      "height": null,
      "justify_content": null,
      "justify_items": null,
      "left": null,
      "margin": null,
      "max_height": null,
      "max_width": null,
      "min_height": null,
      "min_width": null,
      "object_fit": null,
      "object_position": null,
      "order": null,
      "overflow": null,
      "overflow_x": null,
      "overflow_y": null,
      "padding": null,
      "right": null,
      "top": null,
      "visibility": null,
      "width": null
     }
    },
    "b2bcbbde1dce4c7d94ed27e22d18714d": {
     "model_module": "@jupyter-widgets/controls",
     "model_module_version": "1.5.0",
     "model_name": "HTMLModel",
     "state": {
      "_dom_classes": [],
      "_model_module": "@jupyter-widgets/controls",
      "_model_module_version": "1.5.0",
      "_model_name": "HTMLModel",
      "_view_count": null,
      "_view_module": "@jupyter-widgets/controls",
      "_view_module_version": "1.5.0",
      "_view_name": "HTMLView",
      "description": "",
      "description_tooltip": null,
      "layout": "IPY_MODEL_063b99fdbeb040aab5c62817876e5c6a",
      "placeholder": "​",
      "style": "IPY_MODEL_2fb2e1534623438daa727f0289146683",
      "value": "merges.txt: 100%"
     }
    },
    "b99aa8ee3a42458d961519bb77d9e90f": {
     "model_module": "@jupyter-widgets/controls",
     "model_module_version": "1.5.0",
     "model_name": "DescriptionStyleModel",
     "state": {
      "_model_module": "@jupyter-widgets/controls",
      "_model_module_version": "1.5.0",
      "_model_name": "DescriptionStyleModel",
      "_view_count": null,
      "_view_module": "@jupyter-widgets/base",
      "_view_module_version": "1.2.0",
      "_view_name": "StyleView",
      "description_width": ""
     }
    },
    "c3381782cb254c49ba1e82a7616db653": {
     "model_module": "@jupyter-widgets/base",
     "model_module_version": "1.2.0",
     "model_name": "LayoutModel",
     "state": {
      "_model_module": "@jupyter-widgets/base",
      "_model_module_version": "1.2.0",
      "_model_name": "LayoutModel",
      "_view_count": null,
      "_view_module": "@jupyter-widgets/base",
      "_view_module_version": "1.2.0",
      "_view_name": "LayoutView",
      "align_content": null,
      "align_items": null,
      "align_self": null,
      "border": null,
      "bottom": null,
      "display": null,
      "flex": null,
      "flex_flow": null,
      "grid_area": null,
      "grid_auto_columns": null,
      "grid_auto_flow": null,
      "grid_auto_rows": null,
      "grid_column": null,
      "grid_gap": null,
      "grid_row": null,
      "grid_template_areas": null,
      "grid_template_columns": null,
      "grid_template_rows": null,
      "height": null,
      "justify_content": null,
      "justify_items": null,
      "left": null,
      "margin": null,
      "max_height": null,
      "max_width": null,
      "min_height": null,
      "min_width": null,
      "object_fit": null,
      "object_position": null,
      "order": null,
      "overflow": null,
      "overflow_x": null,
      "overflow_y": null,
      "padding": null,
      "right": null,
      "top": null,
      "visibility": null,
      "width": null
     }
    },
    "c6210478fd404b728999b3a9dada3f0f": {
     "model_module": "@jupyter-widgets/base",
     "model_module_version": "1.2.0",
     "model_name": "LayoutModel",
     "state": {
      "_model_module": "@jupyter-widgets/base",
      "_model_module_version": "1.2.0",
      "_model_name": "LayoutModel",
      "_view_count": null,
      "_view_module": "@jupyter-widgets/base",
      "_view_module_version": "1.2.0",
      "_view_name": "LayoutView",
      "align_content": null,
      "align_items": null,
      "align_self": null,
      "border": null,
      "bottom": null,
      "display": null,
      "flex": null,
      "flex_flow": null,
      "grid_area": null,
      "grid_auto_columns": null,
      "grid_auto_flow": null,
      "grid_auto_rows": null,
      "grid_column": null,
      "grid_gap": null,
      "grid_row": null,
      "grid_template_areas": null,
      "grid_template_columns": null,
      "grid_template_rows": null,
      "height": null,
      "justify_content": null,
      "justify_items": null,
      "left": null,
      "margin": null,
      "max_height": null,
      "max_width": null,
      "min_height": null,
      "min_width": null,
      "object_fit": null,
      "object_position": null,
      "order": null,
      "overflow": null,
      "overflow_x": null,
      "overflow_y": null,
      "padding": null,
      "right": null,
      "top": null,
      "visibility": null,
      "width": null
     }
    },
    "cda114d7f26f4aa3bb512aa19af3f13f": {
     "model_module": "@jupyter-widgets/base",
     "model_module_version": "1.2.0",
     "model_name": "LayoutModel",
     "state": {
      "_model_module": "@jupyter-widgets/base",
      "_model_module_version": "1.2.0",
      "_model_name": "LayoutModel",
      "_view_count": null,
      "_view_module": "@jupyter-widgets/base",
      "_view_module_version": "1.2.0",
      "_view_name": "LayoutView",
      "align_content": null,
      "align_items": null,
      "align_self": null,
      "border": null,
      "bottom": null,
      "display": null,
      "flex": null,
      "flex_flow": null,
      "grid_area": null,
      "grid_auto_columns": null,
      "grid_auto_flow": null,
      "grid_auto_rows": null,
      "grid_column": null,
      "grid_gap": null,
      "grid_row": null,
      "grid_template_areas": null,
      "grid_template_columns": null,
      "grid_template_rows": null,
      "height": null,
      "justify_content": null,
      "justify_items": null,
      "left": null,
      "margin": null,
      "max_height": null,
      "max_width": null,
      "min_height": null,
      "min_width": null,
      "object_fit": null,
      "object_position": null,
      "order": null,
      "overflow": null,
      "overflow_x": null,
      "overflow_y": null,
      "padding": null,
      "right": null,
      "top": null,
      "visibility": null,
      "width": null
     }
    },
    "d69e1cd9a195491fbd8110fc930be0c1": {
     "model_module": "@jupyter-widgets/controls",
     "model_module_version": "1.5.0",
     "model_name": "ProgressStyleModel",
     "state": {
      "_model_module": "@jupyter-widgets/controls",
      "_model_module_version": "1.5.0",
      "_model_name": "ProgressStyleModel",
      "_view_count": null,
      "_view_module": "@jupyter-widgets/base",
      "_view_module_version": "1.2.0",
      "_view_name": "StyleView",
      "bar_color": null,
      "description_width": ""
     }
    },
    "d8588fc796164284abd0999803a8f289": {
     "model_module": "@jupyter-widgets/controls",
     "model_module_version": "1.5.0",
     "model_name": "HBoxModel",
     "state": {
      "_dom_classes": [],
      "_model_module": "@jupyter-widgets/controls",
      "_model_module_version": "1.5.0",
      "_model_name": "HBoxModel",
      "_view_count": null,
      "_view_module": "@jupyter-widgets/controls",
      "_view_module_version": "1.5.0",
      "_view_name": "HBoxView",
      "box_style": "",
      "children": [
       "IPY_MODEL_12830a73fc5540f6aca36703a1d95544",
       "IPY_MODEL_e66a9a78dccc4e22a9c862103ab8649a",
       "IPY_MODEL_16498cd50f4f4947a13c12d8ce1b0e40"
      ],
      "layout": "IPY_MODEL_09aa7b5c0f2b40819d64324352fd0cde"
     }
    },
    "dd7fb86c1f7e424893f58df9534e64fd": {
     "model_module": "@jupyter-widgets/controls",
     "model_module_version": "1.5.0",
     "model_name": "FloatProgressModel",
     "state": {
      "_dom_classes": [],
      "_model_module": "@jupyter-widgets/controls",
      "_model_module_version": "1.5.0",
      "_model_name": "FloatProgressModel",
      "_view_count": null,
      "_view_module": "@jupyter-widgets/controls",
      "_view_module_version": "1.5.0",
      "_view_name": "ProgressView",
      "bar_style": "success",
      "description": "",
      "description_tooltip": null,
      "layout": "IPY_MODEL_c3381782cb254c49ba1e82a7616db653",
      "max": 1355256,
      "min": 0,
      "orientation": "horizontal",
      "style": "IPY_MODEL_0c7eb018977f4974bca3eaff6be24acf",
      "value": 1355256
     }
    },
    "de1714a82505472cad42a265ee5f23b4": {
     "model_module": "@jupyter-widgets/controls",
     "model_module_version": "1.5.0",
     "model_name": "HBoxModel",
     "state": {
      "_dom_classes": [],
      "_model_module": "@jupyter-widgets/controls",
      "_model_module_version": "1.5.0",
      "_model_name": "HBoxModel",
      "_view_count": null,
      "_view_module": "@jupyter-widgets/controls",
      "_view_module_version": "1.5.0",
      "_view_name": "HBoxView",
      "box_style": "",
      "children": [
       "IPY_MODEL_b2bcbbde1dce4c7d94ed27e22d18714d",
       "IPY_MODEL_62f48dde916541d39b7bcf282676daa1",
       "IPY_MODEL_16c0477ef1a240d3a4a19a79a502d087"
      ],
      "layout": "IPY_MODEL_cda114d7f26f4aa3bb512aa19af3f13f"
     }
    },
    "e5f37581b0fe40cf832cbaa267ade083": {
     "model_module": "@jupyter-widgets/base",
     "model_module_version": "1.2.0",
     "model_name": "LayoutModel",
     "state": {
      "_model_module": "@jupyter-widgets/base",
      "_model_module_version": "1.2.0",
      "_model_name": "LayoutModel",
      "_view_count": null,
      "_view_module": "@jupyter-widgets/base",
      "_view_module_version": "1.2.0",
      "_view_name": "LayoutView",
      "align_content": null,
      "align_items": null,
      "align_self": null,
      "border": null,
      "bottom": null,
      "display": null,
      "flex": null,
      "flex_flow": null,
      "grid_area": null,
      "grid_auto_columns": null,
      "grid_auto_flow": null,
      "grid_auto_rows": null,
      "grid_column": null,
      "grid_gap": null,
      "grid_row": null,
      "grid_template_areas": null,
      "grid_template_columns": null,
      "grid_template_rows": null,
      "height": null,
      "justify_content": null,
      "justify_items": null,
      "left": null,
      "margin": null,
      "max_height": null,
      "max_width": null,
      "min_height": null,
      "min_width": null,
      "object_fit": null,
      "object_position": null,
      "order": null,
      "overflow": null,
      "overflow_x": null,
      "overflow_y": null,
      "padding": null,
      "right": null,
      "top": null,
      "visibility": null,
      "width": null
     }
    },
    "e6215a07e507426894440a16697d6401": {
     "model_module": "@jupyter-widgets/controls",
     "model_module_version": "1.5.0",
     "model_name": "HBoxModel",
     "state": {
      "_dom_classes": [],
      "_model_module": "@jupyter-widgets/controls",
      "_model_module_version": "1.5.0",
      "_model_name": "HBoxModel",
      "_view_count": null,
      "_view_module": "@jupyter-widgets/controls",
      "_view_module_version": "1.5.0",
      "_view_name": "HBoxView",
      "box_style": "",
      "children": [
       "IPY_MODEL_9edb3a469f1c446998dcb569186c4276",
       "IPY_MODEL_f23c6e77242f409eb1ec8746ddb15785",
       "IPY_MODEL_54fa7dc39ce94a1185266421b902312c"
      ],
      "layout": "IPY_MODEL_ac6b7433ef1d4c148f969d6475c0ea73"
     }
    },
    "e66a9a78dccc4e22a9c862103ab8649a": {
     "model_module": "@jupyter-widgets/controls",
     "model_module_version": "1.5.0",
     "model_name": "FloatProgressModel",
     "state": {
      "_dom_classes": [],
      "_model_module": "@jupyter-widgets/controls",
      "_model_module_version": "1.5.0",
      "_model_name": "FloatProgressModel",
      "_view_count": null,
      "_view_module": "@jupyter-widgets/controls",
      "_view_module_version": "1.5.0",
      "_view_name": "ProgressView",
      "bar_style": "success",
      "description": "",
      "description_tooltip": null,
      "layout": "IPY_MODEL_0f41b0397f554ecea79ccac8f3d514fe",
      "max": 26,
      "min": 0,
      "orientation": "horizontal",
      "style": "IPY_MODEL_f99f433808e24fae972fa93d49e2c0c2",
      "value": 26
     }
    },
    "f23c6e77242f409eb1ec8746ddb15785": {
     "model_module": "@jupyter-widgets/controls",
     "model_module_version": "1.5.0",
     "model_name": "FloatProgressModel",
     "state": {
      "_dom_classes": [],
      "_model_module": "@jupyter-widgets/controls",
      "_model_module_version": "1.5.0",
      "_model_name": "FloatProgressModel",
      "_view_count": null,
      "_view_module": "@jupyter-widgets/controls",
      "_view_module_version": "1.5.0",
      "_view_name": "ProgressView",
      "bar_style": "success",
      "description": "",
      "description_tooltip": null,
      "layout": "IPY_MODEL_5c6935a1a6b44be3b52c3ec4c1d2d889",
      "max": 1042301,
      "min": 0,
      "orientation": "horizontal",
      "style": "IPY_MODEL_1ced7764d6bf43769b14b2a45d04ec89",
      "value": 1042301
     }
    },
    "f99f433808e24fae972fa93d49e2c0c2": {
     "model_module": "@jupyter-widgets/controls",
     "model_module_version": "1.5.0",
     "model_name": "ProgressStyleModel",
     "state": {
      "_model_module": "@jupyter-widgets/controls",
      "_model_module_version": "1.5.0",
      "_model_name": "ProgressStyleModel",
      "_view_count": null,
      "_view_module": "@jupyter-widgets/base",
      "_view_module_version": "1.2.0",
      "_view_name": "StyleView",
      "bar_color": null,
      "description_width": ""
     }
    },
    "fe9c6aff3e8d41cb9b20d6199e984b60": {
     "model_module": "@jupyter-widgets/controls",
     "model_module_version": "1.5.0",
     "model_name": "DescriptionStyleModel",
     "state": {
      "_model_module": "@jupyter-widgets/controls",
      "_model_module_version": "1.5.0",
      "_model_name": "DescriptionStyleModel",
      "_view_count": null,
      "_view_module": "@jupyter-widgets/base",
      "_view_module_version": "1.2.0",
      "_view_name": "StyleView",
      "description_width": ""
     }
    }
   }
  }
 },
 "nbformat": 4,
 "nbformat_minor": 4
}
