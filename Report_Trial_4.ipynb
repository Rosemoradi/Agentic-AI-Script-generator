{
  "nbformat": 4,
  "nbformat_minor": 0,
  "metadata": {
    "colab": {
      "provenance": [],
      "machine_shape": "hm",
      "gpuType": "A100"
    },
    "kernelspec": {
      "name": "python3",
      "display_name": "Python 3"
    },
    "language_info": {
      "name": "python"
    },
    "accelerator": "GPU",
    "widgets": {
      "application/vnd.jupyter.widget-state+json": {
        "ebce7d55362b41929d3c893d92355969": {
          "model_module": "@jupyter-widgets/controls",
          "model_name": "HBoxModel",
          "model_module_version": "1.5.0",
          "state": {
            "_dom_classes": [],
            "_model_module": "@jupyter-widgets/controls",
            "_model_module_version": "1.5.0",
            "_model_name": "HBoxModel",
            "_view_count": null,
            "_view_module": "@jupyter-widgets/controls",
            "_view_module_version": "1.5.0",
            "_view_name": "HBoxView",
            "box_style": "",
            "children": [
              "IPY_MODEL_9941c13f518c405ab6b38eaf5aca792d",
              "IPY_MODEL_17bbb57acff8409a854fb06274b981e4",
              "IPY_MODEL_49222a9262de4569bd0e9b47c820805a"
            ],
            "layout": "IPY_MODEL_2803977f4d8f44ac844a1e568d8834b2"
          }
        },
        "9941c13f518c405ab6b38eaf5aca792d": {
          "model_module": "@jupyter-widgets/controls",
          "model_name": "HTMLModel",
          "model_module_version": "1.5.0",
          "state": {
            "_dom_classes": [],
            "_model_module": "@jupyter-widgets/controls",
            "_model_module_version": "1.5.0",
            "_model_name": "HTMLModel",
            "_view_count": null,
            "_view_module": "@jupyter-widgets/controls",
            "_view_module_version": "1.5.0",
            "_view_name": "HTMLView",
            "description": "",
            "description_tooltip": null,
            "layout": "IPY_MODEL_f64f08349c624cbea9589a48f96525c2",
            "placeholder": "​",
            "style": "IPY_MODEL_1424b5f09e7b4b4ea1df1582eb64c483",
            "value": "tokenizer_config.json: 100%"
          }
        },
        "17bbb57acff8409a854fb06274b981e4": {
          "model_module": "@jupyter-widgets/controls",
          "model_name": "FloatProgressModel",
          "model_module_version": "1.5.0",
          "state": {
            "_dom_classes": [],
            "_model_module": "@jupyter-widgets/controls",
            "_model_module_version": "1.5.0",
            "_model_name": "FloatProgressModel",
            "_view_count": null,
            "_view_module": "@jupyter-widgets/controls",
            "_view_module_version": "1.5.0",
            "_view_name": "ProgressView",
            "bar_style": "success",
            "description": "",
            "description_tooltip": null,
            "layout": "IPY_MODEL_62416a0c0c854dda89cdd135a1c6ef15",
            "max": 26,
            "min": 0,
            "orientation": "horizontal",
            "style": "IPY_MODEL_36844e60a2b34b95acf72699679708ba",
            "value": 26
          }
        },
        "49222a9262de4569bd0e9b47c820805a": {
          "model_module": "@jupyter-widgets/controls",
          "model_name": "HTMLModel",
          "model_module_version": "1.5.0",
          "state": {
            "_dom_classes": [],
            "_model_module": "@jupyter-widgets/controls",
            "_model_module_version": "1.5.0",
            "_model_name": "HTMLModel",
            "_view_count": null,
            "_view_module": "@jupyter-widgets/controls",
            "_view_module_version": "1.5.0",
            "_view_name": "HTMLView",
            "description": "",
            "description_tooltip": null,
            "layout": "IPY_MODEL_aee473fa9d9b41dd8c8090ab40c4bd8c",
            "placeholder": "​",
            "style": "IPY_MODEL_df3f485db34449d483fd3599f0aee6b3",
            "value": " 26.0/26.0 [00:00&lt;00:00, 2.98kB/s]"
          }
        },
        "2803977f4d8f44ac844a1e568d8834b2": {
          "model_module": "@jupyter-widgets/base",
          "model_name": "LayoutModel",
          "model_module_version": "1.2.0",
          "state": {
            "_model_module": "@jupyter-widgets/base",
            "_model_module_version": "1.2.0",
            "_model_name": "LayoutModel",
            "_view_count": null,
            "_view_module": "@jupyter-widgets/base",
            "_view_module_version": "1.2.0",
            "_view_name": "LayoutView",
            "align_content": null,
            "align_items": null,
            "align_self": null,
            "border": null,
            "bottom": null,
            "display": null,
            "flex": null,
            "flex_flow": null,
            "grid_area": null,
            "grid_auto_columns": null,
            "grid_auto_flow": null,
            "grid_auto_rows": null,
            "grid_column": null,
            "grid_gap": null,
            "grid_row": null,
            "grid_template_areas": null,
            "grid_template_columns": null,
            "grid_template_rows": null,
            "height": null,
            "justify_content": null,
            "justify_items": null,
            "left": null,
            "margin": null,
            "max_height": null,
            "max_width": null,
            "min_height": null,
            "min_width": null,
            "object_fit": null,
            "object_position": null,
            "order": null,
            "overflow": null,
            "overflow_x": null,
            "overflow_y": null,
            "padding": null,
            "right": null,
            "top": null,
            "visibility": null,
            "width": null
          }
        },
        "f64f08349c624cbea9589a48f96525c2": {
          "model_module": "@jupyter-widgets/base",
          "model_name": "LayoutModel",
          "model_module_version": "1.2.0",
          "state": {
            "_model_module": "@jupyter-widgets/base",
            "_model_module_version": "1.2.0",
            "_model_name": "LayoutModel",
            "_view_count": null,
            "_view_module": "@jupyter-widgets/base",
            "_view_module_version": "1.2.0",
            "_view_name": "LayoutView",
            "align_content": null,
            "align_items": null,
            "align_self": null,
            "border": null,
            "bottom": null,
            "display": null,
            "flex": null,
            "flex_flow": null,
            "grid_area": null,
            "grid_auto_columns": null,
            "grid_auto_flow": null,
            "grid_auto_rows": null,
            "grid_column": null,
            "grid_gap": null,
            "grid_row": null,
            "grid_template_areas": null,
            "grid_template_columns": null,
            "grid_template_rows": null,
            "height": null,
            "justify_content": null,
            "justify_items": null,
            "left": null,
            "margin": null,
            "max_height": null,
            "max_width": null,
            "min_height": null,
            "min_width": null,
            "object_fit": null,
            "object_position": null,
            "order": null,
            "overflow": null,
            "overflow_x": null,
            "overflow_y": null,
            "padding": null,
            "right": null,
            "top": null,
            "visibility": null,
            "width": null
          }
        },
        "1424b5f09e7b4b4ea1df1582eb64c483": {
          "model_module": "@jupyter-widgets/controls",
          "model_name": "DescriptionStyleModel",
          "model_module_version": "1.5.0",
          "state": {
            "_model_module": "@jupyter-widgets/controls",
            "_model_module_version": "1.5.0",
            "_model_name": "DescriptionStyleModel",
            "_view_count": null,
            "_view_module": "@jupyter-widgets/base",
            "_view_module_version": "1.2.0",
            "_view_name": "StyleView",
            "description_width": ""
          }
        },
        "62416a0c0c854dda89cdd135a1c6ef15": {
          "model_module": "@jupyter-widgets/base",
          "model_name": "LayoutModel",
          "model_module_version": "1.2.0",
          "state": {
            "_model_module": "@jupyter-widgets/base",
            "_model_module_version": "1.2.0",
            "_model_name": "LayoutModel",
            "_view_count": null,
            "_view_module": "@jupyter-widgets/base",
            "_view_module_version": "1.2.0",
            "_view_name": "LayoutView",
            "align_content": null,
            "align_items": null,
            "align_self": null,
            "border": null,
            "bottom": null,
            "display": null,
            "flex": null,
            "flex_flow": null,
            "grid_area": null,
            "grid_auto_columns": null,
            "grid_auto_flow": null,
            "grid_auto_rows": null,
            "grid_column": null,
            "grid_gap": null,
            "grid_row": null,
            "grid_template_areas": null,
            "grid_template_columns": null,
            "grid_template_rows": null,
            "height": null,
            "justify_content": null,
            "justify_items": null,
            "left": null,
            "margin": null,
            "max_height": null,
            "max_width": null,
            "min_height": null,
            "min_width": null,
            "object_fit": null,
            "object_position": null,
            "order": null,
            "overflow": null,
            "overflow_x": null,
            "overflow_y": null,
            "padding": null,
            "right": null,
            "top": null,
            "visibility": null,
            "width": null
          }
        },
        "36844e60a2b34b95acf72699679708ba": {
          "model_module": "@jupyter-widgets/controls",
          "model_name": "ProgressStyleModel",
          "model_module_version": "1.5.0",
          "state": {
            "_model_module": "@jupyter-widgets/controls",
            "_model_module_version": "1.5.0",
            "_model_name": "ProgressStyleModel",
            "_view_count": null,
            "_view_module": "@jupyter-widgets/base",
            "_view_module_version": "1.2.0",
            "_view_name": "StyleView",
            "bar_color": null,
            "description_width": ""
          }
        },
        "aee473fa9d9b41dd8c8090ab40c4bd8c": {
          "model_module": "@jupyter-widgets/base",
          "model_name": "LayoutModel",
          "model_module_version": "1.2.0",
          "state": {
            "_model_module": "@jupyter-widgets/base",
            "_model_module_version": "1.2.0",
            "_model_name": "LayoutModel",
            "_view_count": null,
            "_view_module": "@jupyter-widgets/base",
            "_view_module_version": "1.2.0",
            "_view_name": "LayoutView",
            "align_content": null,
            "align_items": null,
            "align_self": null,
            "border": null,
            "bottom": null,
            "display": null,
            "flex": null,
            "flex_flow": null,
            "grid_area": null,
            "grid_auto_columns": null,
            "grid_auto_flow": null,
            "grid_auto_rows": null,
            "grid_column": null,
            "grid_gap": null,
            "grid_row": null,
            "grid_template_areas": null,
            "grid_template_columns": null,
            "grid_template_rows": null,
            "height": null,
            "justify_content": null,
            "justify_items": null,
            "left": null,
            "margin": null,
            "max_height": null,
            "max_width": null,
            "min_height": null,
            "min_width": null,
            "object_fit": null,
            "object_position": null,
            "order": null,
            "overflow": null,
            "overflow_x": null,
            "overflow_y": null,
            "padding": null,
            "right": null,
            "top": null,
            "visibility": null,
            "width": null
          }
        },
        "df3f485db34449d483fd3599f0aee6b3": {
          "model_module": "@jupyter-widgets/controls",
          "model_name": "DescriptionStyleModel",
          "model_module_version": "1.5.0",
          "state": {
            "_model_module": "@jupyter-widgets/controls",
            "_model_module_version": "1.5.0",
            "_model_name": "DescriptionStyleModel",
            "_view_count": null,
            "_view_module": "@jupyter-widgets/base",
            "_view_module_version": "1.2.0",
            "_view_name": "StyleView",
            "description_width": ""
          }
        },
        "7e10fa7ac6414870b3b032af7b7864ce": {
          "model_module": "@jupyter-widgets/controls",
          "model_name": "HBoxModel",
          "model_module_version": "1.5.0",
          "state": {
            "_dom_classes": [],
            "_model_module": "@jupyter-widgets/controls",
            "_model_module_version": "1.5.0",
            "_model_name": "HBoxModel",
            "_view_count": null,
            "_view_module": "@jupyter-widgets/controls",
            "_view_module_version": "1.5.0",
            "_view_name": "HBoxView",
            "box_style": "",
            "children": [
              "IPY_MODEL_49c109279bd24afbac61601fd762cf38",
              "IPY_MODEL_4b5642577a7b4511b6282bef70177e7a",
              "IPY_MODEL_83c15bc208d940cdb1135a379c4e57a6"
            ],
            "layout": "IPY_MODEL_8b462e7e836a4ff1be1148e42def7196"
          }
        },
        "49c109279bd24afbac61601fd762cf38": {
          "model_module": "@jupyter-widgets/controls",
          "model_name": "HTMLModel",
          "model_module_version": "1.5.0",
          "state": {
            "_dom_classes": [],
            "_model_module": "@jupyter-widgets/controls",
            "_model_module_version": "1.5.0",
            "_model_name": "HTMLModel",
            "_view_count": null,
            "_view_module": "@jupyter-widgets/controls",
            "_view_module_version": "1.5.0",
            "_view_name": "HTMLView",
            "description": "",
            "description_tooltip": null,
            "layout": "IPY_MODEL_26c577e169a940c9b3845fa1d6b04977",
            "placeholder": "​",
            "style": "IPY_MODEL_87d0a3ae9a944756877fbbb242c38fda",
            "value": "config.json: 100%"
          }
        },
        "4b5642577a7b4511b6282bef70177e7a": {
          "model_module": "@jupyter-widgets/controls",
          "model_name": "FloatProgressModel",
          "model_module_version": "1.5.0",
          "state": {
            "_dom_classes": [],
            "_model_module": "@jupyter-widgets/controls",
            "_model_module_version": "1.5.0",
            "_model_name": "FloatProgressModel",
            "_view_count": null,
            "_view_module": "@jupyter-widgets/controls",
            "_view_module_version": "1.5.0",
            "_view_name": "ProgressView",
            "bar_style": "success",
            "description": "",
            "description_tooltip": null,
            "layout": "IPY_MODEL_cf010f4a97984fa29de0175fcd3e9ed5",
            "max": 665,
            "min": 0,
            "orientation": "horizontal",
            "style": "IPY_MODEL_e33741d2e3784bc0a3b9d53e0fbc0d5f",
            "value": 665
          }
        },
        "83c15bc208d940cdb1135a379c4e57a6": {
          "model_module": "@jupyter-widgets/controls",
          "model_name": "HTMLModel",
          "model_module_version": "1.5.0",
          "state": {
            "_dom_classes": [],
            "_model_module": "@jupyter-widgets/controls",
            "_model_module_version": "1.5.0",
            "_model_name": "HTMLModel",
            "_view_count": null,
            "_view_module": "@jupyter-widgets/controls",
            "_view_module_version": "1.5.0",
            "_view_name": "HTMLView",
            "description": "",
            "description_tooltip": null,
            "layout": "IPY_MODEL_360c0911e22a40ebb7586631fbbf192b",
            "placeholder": "​",
            "style": "IPY_MODEL_4c65aeeeb2c34bfd959776151845a00d",
            "value": " 665/665 [00:00&lt;00:00, 61.0kB/s]"
          }
        },
        "8b462e7e836a4ff1be1148e42def7196": {
          "model_module": "@jupyter-widgets/base",
          "model_name": "LayoutModel",
          "model_module_version": "1.2.0",
          "state": {
            "_model_module": "@jupyter-widgets/base",
            "_model_module_version": "1.2.0",
            "_model_name": "LayoutModel",
            "_view_count": null,
            "_view_module": "@jupyter-widgets/base",
            "_view_module_version": "1.2.0",
            "_view_name": "LayoutView",
            "align_content": null,
            "align_items": null,
            "align_self": null,
            "border": null,
            "bottom": null,
            "display": null,
            "flex": null,
            "flex_flow": null,
            "grid_area": null,
            "grid_auto_columns": null,
            "grid_auto_flow": null,
            "grid_auto_rows": null,
            "grid_column": null,
            "grid_gap": null,
            "grid_row": null,
            "grid_template_areas": null,
            "grid_template_columns": null,
            "grid_template_rows": null,
            "height": null,
            "justify_content": null,
            "justify_items": null,
            "left": null,
            "margin": null,
            "max_height": null,
            "max_width": null,
            "min_height": null,
            "min_width": null,
            "object_fit": null,
            "object_position": null,
            "order": null,
            "overflow": null,
            "overflow_x": null,
            "overflow_y": null,
            "padding": null,
            "right": null,
            "top": null,
            "visibility": null,
            "width": null
          }
        },
        "26c577e169a940c9b3845fa1d6b04977": {
          "model_module": "@jupyter-widgets/base",
          "model_name": "LayoutModel",
          "model_module_version": "1.2.0",
          "state": {
            "_model_module": "@jupyter-widgets/base",
            "_model_module_version": "1.2.0",
            "_model_name": "LayoutModel",
            "_view_count": null,
            "_view_module": "@jupyter-widgets/base",
            "_view_module_version": "1.2.0",
            "_view_name": "LayoutView",
            "align_content": null,
            "align_items": null,
            "align_self": null,
            "border": null,
            "bottom": null,
            "display": null,
            "flex": null,
            "flex_flow": null,
            "grid_area": null,
            "grid_auto_columns": null,
            "grid_auto_flow": null,
            "grid_auto_rows": null,
            "grid_column": null,
            "grid_gap": null,
            "grid_row": null,
            "grid_template_areas": null,
            "grid_template_columns": null,
            "grid_template_rows": null,
            "height": null,
            "justify_content": null,
            "justify_items": null,
            "left": null,
            "margin": null,
            "max_height": null,
            "max_width": null,
            "min_height": null,
            "min_width": null,
            "object_fit": null,
            "object_position": null,
            "order": null,
            "overflow": null,
            "overflow_x": null,
            "overflow_y": null,
            "padding": null,
            "right": null,
            "top": null,
            "visibility": null,
            "width": null
          }
        },
        "87d0a3ae9a944756877fbbb242c38fda": {
          "model_module": "@jupyter-widgets/controls",
          "model_name": "DescriptionStyleModel",
          "model_module_version": "1.5.0",
          "state": {
            "_model_module": "@jupyter-widgets/controls",
            "_model_module_version": "1.5.0",
            "_model_name": "DescriptionStyleModel",
            "_view_count": null,
            "_view_module": "@jupyter-widgets/base",
            "_view_module_version": "1.2.0",
            "_view_name": "StyleView",
            "description_width": ""
          }
        },
        "cf010f4a97984fa29de0175fcd3e9ed5": {
          "model_module": "@jupyter-widgets/base",
          "model_name": "LayoutModel",
          "model_module_version": "1.2.0",
          "state": {
            "_model_module": "@jupyter-widgets/base",
            "_model_module_version": "1.2.0",
            "_model_name": "LayoutModel",
            "_view_count": null,
            "_view_module": "@jupyter-widgets/base",
            "_view_module_version": "1.2.0",
            "_view_name": "LayoutView",
            "align_content": null,
            "align_items": null,
            "align_self": null,
            "border": null,
            "bottom": null,
            "display": null,
            "flex": null,
            "flex_flow": null,
            "grid_area": null,
            "grid_auto_columns": null,
            "grid_auto_flow": null,
            "grid_auto_rows": null,
            "grid_column": null,
            "grid_gap": null,
            "grid_row": null,
            "grid_template_areas": null,
            "grid_template_columns": null,
            "grid_template_rows": null,
            "height": null,
            "justify_content": null,
            "justify_items": null,
            "left": null,
            "margin": null,
            "max_height": null,
            "max_width": null,
            "min_height": null,
            "min_width": null,
            "object_fit": null,
            "object_position": null,
            "order": null,
            "overflow": null,
            "overflow_x": null,
            "overflow_y": null,
            "padding": null,
            "right": null,
            "top": null,
            "visibility": null,
            "width": null
          }
        },
        "e33741d2e3784bc0a3b9d53e0fbc0d5f": {
          "model_module": "@jupyter-widgets/controls",
          "model_name": "ProgressStyleModel",
          "model_module_version": "1.5.0",
          "state": {
            "_model_module": "@jupyter-widgets/controls",
            "_model_module_version": "1.5.0",
            "_model_name": "ProgressStyleModel",
            "_view_count": null,
            "_view_module": "@jupyter-widgets/base",
            "_view_module_version": "1.2.0",
            "_view_name": "StyleView",
            "bar_color": null,
            "description_width": ""
          }
        },
        "360c0911e22a40ebb7586631fbbf192b": {
          "model_module": "@jupyter-widgets/base",
          "model_name": "LayoutModel",
          "model_module_version": "1.2.0",
          "state": {
            "_model_module": "@jupyter-widgets/base",
            "_model_module_version": "1.2.0",
            "_model_name": "LayoutModel",
            "_view_count": null,
            "_view_module": "@jupyter-widgets/base",
            "_view_module_version": "1.2.0",
            "_view_name": "LayoutView",
            "align_content": null,
            "align_items": null,
            "align_self": null,
            "border": null,
            "bottom": null,
            "display": null,
            "flex": null,
            "flex_flow": null,
            "grid_area": null,
            "grid_auto_columns": null,
            "grid_auto_flow": null,
            "grid_auto_rows": null,
            "grid_column": null,
            "grid_gap": null,
            "grid_row": null,
            "grid_template_areas": null,
            "grid_template_columns": null,
            "grid_template_rows": null,
            "height": null,
            "justify_content": null,
            "justify_items": null,
            "left": null,
            "margin": null,
            "max_height": null,
            "max_width": null,
            "min_height": null,
            "min_width": null,
            "object_fit": null,
            "object_position": null,
            "order": null,
            "overflow": null,
            "overflow_x": null,
            "overflow_y": null,
            "padding": null,
            "right": null,
            "top": null,
            "visibility": null,
            "width": null
          }
        },
        "4c65aeeeb2c34bfd959776151845a00d": {
          "model_module": "@jupyter-widgets/controls",
          "model_name": "DescriptionStyleModel",
          "model_module_version": "1.5.0",
          "state": {
            "_model_module": "@jupyter-widgets/controls",
            "_model_module_version": "1.5.0",
            "_model_name": "DescriptionStyleModel",
            "_view_count": null,
            "_view_module": "@jupyter-widgets/base",
            "_view_module_version": "1.2.0",
            "_view_name": "StyleView",
            "description_width": ""
          }
        },
        "f827c4e3f9414464ac987b73ae3db682": {
          "model_module": "@jupyter-widgets/controls",
          "model_name": "HBoxModel",
          "model_module_version": "1.5.0",
          "state": {
            "_dom_classes": [],
            "_model_module": "@jupyter-widgets/controls",
            "_model_module_version": "1.5.0",
            "_model_name": "HBoxModel",
            "_view_count": null,
            "_view_module": "@jupyter-widgets/controls",
            "_view_module_version": "1.5.0",
            "_view_name": "HBoxView",
            "box_style": "",
            "children": [
              "IPY_MODEL_ffb3b9b2ce5a453fad1b388a86a0cbde",
              "IPY_MODEL_eda61079cdd7463b81183fd682e6de08",
              "IPY_MODEL_2f0a68d531d44904be6df83ed3db110d"
            ],
            "layout": "IPY_MODEL_cef6f47948174c329047c218015d7f7a"
          }
        },
        "ffb3b9b2ce5a453fad1b388a86a0cbde": {
          "model_module": "@jupyter-widgets/controls",
          "model_name": "HTMLModel",
          "model_module_version": "1.5.0",
          "state": {
            "_dom_classes": [],
            "_model_module": "@jupyter-widgets/controls",
            "_model_module_version": "1.5.0",
            "_model_name": "HTMLModel",
            "_view_count": null,
            "_view_module": "@jupyter-widgets/controls",
            "_view_module_version": "1.5.0",
            "_view_name": "HTMLView",
            "description": "",
            "description_tooltip": null,
            "layout": "IPY_MODEL_f6529fa4d5ac46d28818bf4f21728fa9",
            "placeholder": "​",
            "style": "IPY_MODEL_1c2fbc3e1b874b038eef8edfe449a154",
            "value": "vocab.json: 100%"
          }
        },
        "eda61079cdd7463b81183fd682e6de08": {
          "model_module": "@jupyter-widgets/controls",
          "model_name": "FloatProgressModel",
          "model_module_version": "1.5.0",
          "state": {
            "_dom_classes": [],
            "_model_module": "@jupyter-widgets/controls",
            "_model_module_version": "1.5.0",
            "_model_name": "FloatProgressModel",
            "_view_count": null,
            "_view_module": "@jupyter-widgets/controls",
            "_view_module_version": "1.5.0",
            "_view_name": "ProgressView",
            "bar_style": "success",
            "description": "",
            "description_tooltip": null,
            "layout": "IPY_MODEL_d3b5c44bc3f74166879159a94741027b",
            "max": 1042301,
            "min": 0,
            "orientation": "horizontal",
            "style": "IPY_MODEL_91bbf010bc78494e9ba4ed552c6ab144",
            "value": 1042301
          }
        },
        "2f0a68d531d44904be6df83ed3db110d": {
          "model_module": "@jupyter-widgets/controls",
          "model_name": "HTMLModel",
          "model_module_version": "1.5.0",
          "state": {
            "_dom_classes": [],
            "_model_module": "@jupyter-widgets/controls",
            "_model_module_version": "1.5.0",
            "_model_name": "HTMLModel",
            "_view_count": null,
            "_view_module": "@jupyter-widgets/controls",
            "_view_module_version": "1.5.0",
            "_view_name": "HTMLView",
            "description": "",
            "description_tooltip": null,
            "layout": "IPY_MODEL_e8d8092ccf6b45e59ef3570aadefbf75",
            "placeholder": "​",
            "style": "IPY_MODEL_226d96681b824e0da6fc3897bd37b8ee",
            "value": " 1.04M/1.04M [00:00&lt;00:00, 3.19MB/s]"
          }
        },
        "cef6f47948174c329047c218015d7f7a": {
          "model_module": "@jupyter-widgets/base",
          "model_name": "LayoutModel",
          "model_module_version": "1.2.0",
          "state": {
            "_model_module": "@jupyter-widgets/base",
            "_model_module_version": "1.2.0",
            "_model_name": "LayoutModel",
            "_view_count": null,
            "_view_module": "@jupyter-widgets/base",
            "_view_module_version": "1.2.0",
            "_view_name": "LayoutView",
            "align_content": null,
            "align_items": null,
            "align_self": null,
            "border": null,
            "bottom": null,
            "display": null,
            "flex": null,
            "flex_flow": null,
            "grid_area": null,
            "grid_auto_columns": null,
            "grid_auto_flow": null,
            "grid_auto_rows": null,
            "grid_column": null,
            "grid_gap": null,
            "grid_row": null,
            "grid_template_areas": null,
            "grid_template_columns": null,
            "grid_template_rows": null,
            "height": null,
            "justify_content": null,
            "justify_items": null,
            "left": null,
            "margin": null,
            "max_height": null,
            "max_width": null,
            "min_height": null,
            "min_width": null,
            "object_fit": null,
            "object_position": null,
            "order": null,
            "overflow": null,
            "overflow_x": null,
            "overflow_y": null,
            "padding": null,
            "right": null,
            "top": null,
            "visibility": null,
            "width": null
          }
        },
        "f6529fa4d5ac46d28818bf4f21728fa9": {
          "model_module": "@jupyter-widgets/base",
          "model_name": "LayoutModel",
          "model_module_version": "1.2.0",
          "state": {
            "_model_module": "@jupyter-widgets/base",
            "_model_module_version": "1.2.0",
            "_model_name": "LayoutModel",
            "_view_count": null,
            "_view_module": "@jupyter-widgets/base",
            "_view_module_version": "1.2.0",
            "_view_name": "LayoutView",
            "align_content": null,
            "align_items": null,
            "align_self": null,
            "border": null,
            "bottom": null,
            "display": null,
            "flex": null,
            "flex_flow": null,
            "grid_area": null,
            "grid_auto_columns": null,
            "grid_auto_flow": null,
            "grid_auto_rows": null,
            "grid_column": null,
            "grid_gap": null,
            "grid_row": null,
            "grid_template_areas": null,
            "grid_template_columns": null,
            "grid_template_rows": null,
            "height": null,
            "justify_content": null,
            "justify_items": null,
            "left": null,
            "margin": null,
            "max_height": null,
            "max_width": null,
            "min_height": null,
            "min_width": null,
            "object_fit": null,
            "object_position": null,
            "order": null,
            "overflow": null,
            "overflow_x": null,
            "overflow_y": null,
            "padding": null,
            "right": null,
            "top": null,
            "visibility": null,
            "width": null
          }
        },
        "1c2fbc3e1b874b038eef8edfe449a154": {
          "model_module": "@jupyter-widgets/controls",
          "model_name": "DescriptionStyleModel",
          "model_module_version": "1.5.0",
          "state": {
            "_model_module": "@jupyter-widgets/controls",
            "_model_module_version": "1.5.0",
            "_model_name": "DescriptionStyleModel",
            "_view_count": null,
            "_view_module": "@jupyter-widgets/base",
            "_view_module_version": "1.2.0",
            "_view_name": "StyleView",
            "description_width": ""
          }
        },
        "d3b5c44bc3f74166879159a94741027b": {
          "model_module": "@jupyter-widgets/base",
          "model_name": "LayoutModel",
          "model_module_version": "1.2.0",
          "state": {
            "_model_module": "@jupyter-widgets/base",
            "_model_module_version": "1.2.0",
            "_model_name": "LayoutModel",
            "_view_count": null,
            "_view_module": "@jupyter-widgets/base",
            "_view_module_version": "1.2.0",
            "_view_name": "LayoutView",
            "align_content": null,
            "align_items": null,
            "align_self": null,
            "border": null,
            "bottom": null,
            "display": null,
            "flex": null,
            "flex_flow": null,
            "grid_area": null,
            "grid_auto_columns": null,
            "grid_auto_flow": null,
            "grid_auto_rows": null,
            "grid_column": null,
            "grid_gap": null,
            "grid_row": null,
            "grid_template_areas": null,
            "grid_template_columns": null,
            "grid_template_rows": null,
            "height": null,
            "justify_content": null,
            "justify_items": null,
            "left": null,
            "margin": null,
            "max_height": null,
            "max_width": null,
            "min_height": null,
            "min_width": null,
            "object_fit": null,
            "object_position": null,
            "order": null,
            "overflow": null,
            "overflow_x": null,
            "overflow_y": null,
            "padding": null,
            "right": null,
            "top": null,
            "visibility": null,
            "width": null
          }
        },
        "91bbf010bc78494e9ba4ed552c6ab144": {
          "model_module": "@jupyter-widgets/controls",
          "model_name": "ProgressStyleModel",
          "model_module_version": "1.5.0",
          "state": {
            "_model_module": "@jupyter-widgets/controls",
            "_model_module_version": "1.5.0",
            "_model_name": "ProgressStyleModel",
            "_view_count": null,
            "_view_module": "@jupyter-widgets/base",
            "_view_module_version": "1.2.0",
            "_view_name": "StyleView",
            "bar_color": null,
            "description_width": ""
          }
        },
        "e8d8092ccf6b45e59ef3570aadefbf75": {
          "model_module": "@jupyter-widgets/base",
          "model_name": "LayoutModel",
          "model_module_version": "1.2.0",
          "state": {
            "_model_module": "@jupyter-widgets/base",
            "_model_module_version": "1.2.0",
            "_model_name": "LayoutModel",
            "_view_count": null,
            "_view_module": "@jupyter-widgets/base",
            "_view_module_version": "1.2.0",
            "_view_name": "LayoutView",
            "align_content": null,
            "align_items": null,
            "align_self": null,
            "border": null,
            "bottom": null,
            "display": null,
            "flex": null,
            "flex_flow": null,
            "grid_area": null,
            "grid_auto_columns": null,
            "grid_auto_flow": null,
            "grid_auto_rows": null,
            "grid_column": null,
            "grid_gap": null,
            "grid_row": null,
            "grid_template_areas": null,
            "grid_template_columns": null,
            "grid_template_rows": null,
            "height": null,
            "justify_content": null,
            "justify_items": null,
            "left": null,
            "margin": null,
            "max_height": null,
            "max_width": null,
            "min_height": null,
            "min_width": null,
            "object_fit": null,
            "object_position": null,
            "order": null,
            "overflow": null,
            "overflow_x": null,
            "overflow_y": null,
            "padding": null,
            "right": null,
            "top": null,
            "visibility": null,
            "width": null
          }
        },
        "226d96681b824e0da6fc3897bd37b8ee": {
          "model_module": "@jupyter-widgets/controls",
          "model_name": "DescriptionStyleModel",
          "model_module_version": "1.5.0",
          "state": {
            "_model_module": "@jupyter-widgets/controls",
            "_model_module_version": "1.5.0",
            "_model_name": "DescriptionStyleModel",
            "_view_count": null,
            "_view_module": "@jupyter-widgets/base",
            "_view_module_version": "1.2.0",
            "_view_name": "StyleView",
            "description_width": ""
          }
        },
        "59cf170419464f919522a4a9ccc3a908": {
          "model_module": "@jupyter-widgets/controls",
          "model_name": "HBoxModel",
          "model_module_version": "1.5.0",
          "state": {
            "_dom_classes": [],
            "_model_module": "@jupyter-widgets/controls",
            "_model_module_version": "1.5.0",
            "_model_name": "HBoxModel",
            "_view_count": null,
            "_view_module": "@jupyter-widgets/controls",
            "_view_module_version": "1.5.0",
            "_view_name": "HBoxView",
            "box_style": "",
            "children": [
              "IPY_MODEL_ad08a75782aa4533a1ce1aafc59eb0c7",
              "IPY_MODEL_2bda44e80d3d430c9e5b0af137e278e7",
              "IPY_MODEL_01d0b667c827475eb35b2cdafb9acf3e"
            ],
            "layout": "IPY_MODEL_4464ef527bc5492899dc2a8f2d6bd144"
          }
        },
        "ad08a75782aa4533a1ce1aafc59eb0c7": {
          "model_module": "@jupyter-widgets/controls",
          "model_name": "HTMLModel",
          "model_module_version": "1.5.0",
          "state": {
            "_dom_classes": [],
            "_model_module": "@jupyter-widgets/controls",
            "_model_module_version": "1.5.0",
            "_model_name": "HTMLModel",
            "_view_count": null,
            "_view_module": "@jupyter-widgets/controls",
            "_view_module_version": "1.5.0",
            "_view_name": "HTMLView",
            "description": "",
            "description_tooltip": null,
            "layout": "IPY_MODEL_056cdffc3e104a8db9eeb86ea48275fc",
            "placeholder": "​",
            "style": "IPY_MODEL_2f61ecf93c2d4dcaab682eb5c6bdc403",
            "value": "merges.txt: 100%"
          }
        },
        "2bda44e80d3d430c9e5b0af137e278e7": {
          "model_module": "@jupyter-widgets/controls",
          "model_name": "FloatProgressModel",
          "model_module_version": "1.5.0",
          "state": {
            "_dom_classes": [],
            "_model_module": "@jupyter-widgets/controls",
            "_model_module_version": "1.5.0",
            "_model_name": "FloatProgressModel",
            "_view_count": null,
            "_view_module": "@jupyter-widgets/controls",
            "_view_module_version": "1.5.0",
            "_view_name": "ProgressView",
            "bar_style": "success",
            "description": "",
            "description_tooltip": null,
            "layout": "IPY_MODEL_545d5164480245d7a39aeba6792a4a2a",
            "max": 456318,
            "min": 0,
            "orientation": "horizontal",
            "style": "IPY_MODEL_f8b1bc6a8b4e42629538f9ccca1b6002",
            "value": 456318
          }
        },
        "01d0b667c827475eb35b2cdafb9acf3e": {
          "model_module": "@jupyter-widgets/controls",
          "model_name": "HTMLModel",
          "model_module_version": "1.5.0",
          "state": {
            "_dom_classes": [],
            "_model_module": "@jupyter-widgets/controls",
            "_model_module_version": "1.5.0",
            "_model_name": "HTMLModel",
            "_view_count": null,
            "_view_module": "@jupyter-widgets/controls",
            "_view_module_version": "1.5.0",
            "_view_name": "HTMLView",
            "description": "",
            "description_tooltip": null,
            "layout": "IPY_MODEL_ab18abe00ecf44d9994f38ae5785f6d1",
            "placeholder": "​",
            "style": "IPY_MODEL_e8d76ce94adf4224b851574a7fc8f894",
            "value": " 456k/456k [00:00&lt;00:00, 11.3MB/s]"
          }
        },
        "4464ef527bc5492899dc2a8f2d6bd144": {
          "model_module": "@jupyter-widgets/base",
          "model_name": "LayoutModel",
          "model_module_version": "1.2.0",
          "state": {
            "_model_module": "@jupyter-widgets/base",
            "_model_module_version": "1.2.0",
            "_model_name": "LayoutModel",
            "_view_count": null,
            "_view_module": "@jupyter-widgets/base",
            "_view_module_version": "1.2.0",
            "_view_name": "LayoutView",
            "align_content": null,
            "align_items": null,
            "align_self": null,
            "border": null,
            "bottom": null,
            "display": null,
            "flex": null,
            "flex_flow": null,
            "grid_area": null,
            "grid_auto_columns": null,
            "grid_auto_flow": null,
            "grid_auto_rows": null,
            "grid_column": null,
            "grid_gap": null,
            "grid_row": null,
            "grid_template_areas": null,
            "grid_template_columns": null,
            "grid_template_rows": null,
            "height": null,
            "justify_content": null,
            "justify_items": null,
            "left": null,
            "margin": null,
            "max_height": null,
            "max_width": null,
            "min_height": null,
            "min_width": null,
            "object_fit": null,
            "object_position": null,
            "order": null,
            "overflow": null,
            "overflow_x": null,
            "overflow_y": null,
            "padding": null,
            "right": null,
            "top": null,
            "visibility": null,
            "width": null
          }
        },
        "056cdffc3e104a8db9eeb86ea48275fc": {
          "model_module": "@jupyter-widgets/base",
          "model_name": "LayoutModel",
          "model_module_version": "1.2.0",
          "state": {
            "_model_module": "@jupyter-widgets/base",
            "_model_module_version": "1.2.0",
            "_model_name": "LayoutModel",
            "_view_count": null,
            "_view_module": "@jupyter-widgets/base",
            "_view_module_version": "1.2.0",
            "_view_name": "LayoutView",
            "align_content": null,
            "align_items": null,
            "align_self": null,
            "border": null,
            "bottom": null,
            "display": null,
            "flex": null,
            "flex_flow": null,
            "grid_area": null,
            "grid_auto_columns": null,
            "grid_auto_flow": null,
            "grid_auto_rows": null,
            "grid_column": null,
            "grid_gap": null,
            "grid_row": null,
            "grid_template_areas": null,
            "grid_template_columns": null,
            "grid_template_rows": null,
            "height": null,
            "justify_content": null,
            "justify_items": null,
            "left": null,
            "margin": null,
            "max_height": null,
            "max_width": null,
            "min_height": null,
            "min_width": null,
            "object_fit": null,
            "object_position": null,
            "order": null,
            "overflow": null,
            "overflow_x": null,
            "overflow_y": null,
            "padding": null,
            "right": null,
            "top": null,
            "visibility": null,
            "width": null
          }
        },
        "2f61ecf93c2d4dcaab682eb5c6bdc403": {
          "model_module": "@jupyter-widgets/controls",
          "model_name": "DescriptionStyleModel",
          "model_module_version": "1.5.0",
          "state": {
            "_model_module": "@jupyter-widgets/controls",
            "_model_module_version": "1.5.0",
            "_model_name": "DescriptionStyleModel",
            "_view_count": null,
            "_view_module": "@jupyter-widgets/base",
            "_view_module_version": "1.2.0",
            "_view_name": "StyleView",
            "description_width": ""
          }
        },
        "545d5164480245d7a39aeba6792a4a2a": {
          "model_module": "@jupyter-widgets/base",
          "model_name": "LayoutModel",
          "model_module_version": "1.2.0",
          "state": {
            "_model_module": "@jupyter-widgets/base",
            "_model_module_version": "1.2.0",
            "_model_name": "LayoutModel",
            "_view_count": null,
            "_view_module": "@jupyter-widgets/base",
            "_view_module_version": "1.2.0",
            "_view_name": "LayoutView",
            "align_content": null,
            "align_items": null,
            "align_self": null,
            "border": null,
            "bottom": null,
            "display": null,
            "flex": null,
            "flex_flow": null,
            "grid_area": null,
            "grid_auto_columns": null,
            "grid_auto_flow": null,
            "grid_auto_rows": null,
            "grid_column": null,
            "grid_gap": null,
            "grid_row": null,
            "grid_template_areas": null,
            "grid_template_columns": null,
            "grid_template_rows": null,
            "height": null,
            "justify_content": null,
            "justify_items": null,
            "left": null,
            "margin": null,
            "max_height": null,
            "max_width": null,
            "min_height": null,
            "min_width": null,
            "object_fit": null,
            "object_position": null,
            "order": null,
            "overflow": null,
            "overflow_x": null,
            "overflow_y": null,
            "padding": null,
            "right": null,
            "top": null,
            "visibility": null,
            "width": null
          }
        },
        "f8b1bc6a8b4e42629538f9ccca1b6002": {
          "model_module": "@jupyter-widgets/controls",
          "model_name": "ProgressStyleModel",
          "model_module_version": "1.5.0",
          "state": {
            "_model_module": "@jupyter-widgets/controls",
            "_model_module_version": "1.5.0",
            "_model_name": "ProgressStyleModel",
            "_view_count": null,
            "_view_module": "@jupyter-widgets/base",
            "_view_module_version": "1.2.0",
            "_view_name": "StyleView",
            "bar_color": null,
            "description_width": ""
          }
        },
        "ab18abe00ecf44d9994f38ae5785f6d1": {
          "model_module": "@jupyter-widgets/base",
          "model_name": "LayoutModel",
          "model_module_version": "1.2.0",
          "state": {
            "_model_module": "@jupyter-widgets/base",
            "_model_module_version": "1.2.0",
            "_model_name": "LayoutModel",
            "_view_count": null,
            "_view_module": "@jupyter-widgets/base",
            "_view_module_version": "1.2.0",
            "_view_name": "LayoutView",
            "align_content": null,
            "align_items": null,
            "align_self": null,
            "border": null,
            "bottom": null,
            "display": null,
            "flex": null,
            "flex_flow": null,
            "grid_area": null,
            "grid_auto_columns": null,
            "grid_auto_flow": null,
            "grid_auto_rows": null,
            "grid_column": null,
            "grid_gap": null,
            "grid_row": null,
            "grid_template_areas": null,
            "grid_template_columns": null,
            "grid_template_rows": null,
            "height": null,
            "justify_content": null,
            "justify_items": null,
            "left": null,
            "margin": null,
            "max_height": null,
            "max_width": null,
            "min_height": null,
            "min_width": null,
            "object_fit": null,
            "object_position": null,
            "order": null,
            "overflow": null,
            "overflow_x": null,
            "overflow_y": null,
            "padding": null,
            "right": null,
            "top": null,
            "visibility": null,
            "width": null
          }
        },
        "e8d76ce94adf4224b851574a7fc8f894": {
          "model_module": "@jupyter-widgets/controls",
          "model_name": "DescriptionStyleModel",
          "model_module_version": "1.5.0",
          "state": {
            "_model_module": "@jupyter-widgets/controls",
            "_model_module_version": "1.5.0",
            "_model_name": "DescriptionStyleModel",
            "_view_count": null,
            "_view_module": "@jupyter-widgets/base",
            "_view_module_version": "1.2.0",
            "_view_name": "StyleView",
            "description_width": ""
          }
        },
        "4a65d697f4be404491a244b5118829f8": {
          "model_module": "@jupyter-widgets/controls",
          "model_name": "HBoxModel",
          "model_module_version": "1.5.0",
          "state": {
            "_dom_classes": [],
            "_model_module": "@jupyter-widgets/controls",
            "_model_module_version": "1.5.0",
            "_model_name": "HBoxModel",
            "_view_count": null,
            "_view_module": "@jupyter-widgets/controls",
            "_view_module_version": "1.5.0",
            "_view_name": "HBoxView",
            "box_style": "",
            "children": [
              "IPY_MODEL_7a908c3da45c4b588721a4a4f572a68f",
              "IPY_MODEL_b6fbd8352b5b4b08bbcf8988f463c9d6",
              "IPY_MODEL_de8465bf6c094a9e901d7ae6d53aff10"
            ],
            "layout": "IPY_MODEL_d6ce345b048a49a7a47867c4f5c62999"
          }
        },
        "7a908c3da45c4b588721a4a4f572a68f": {
          "model_module": "@jupyter-widgets/controls",
          "model_name": "HTMLModel",
          "model_module_version": "1.5.0",
          "state": {
            "_dom_classes": [],
            "_model_module": "@jupyter-widgets/controls",
            "_model_module_version": "1.5.0",
            "_model_name": "HTMLModel",
            "_view_count": null,
            "_view_module": "@jupyter-widgets/controls",
            "_view_module_version": "1.5.0",
            "_view_name": "HTMLView",
            "description": "",
            "description_tooltip": null,
            "layout": "IPY_MODEL_a356fd05ae334cbbb39e5d3d384d3cb1",
            "placeholder": "​",
            "style": "IPY_MODEL_e3af0a6b89f348a39242763efc6146c7",
            "value": "tokenizer.json: 100%"
          }
        },
        "b6fbd8352b5b4b08bbcf8988f463c9d6": {
          "model_module": "@jupyter-widgets/controls",
          "model_name": "FloatProgressModel",
          "model_module_version": "1.5.0",
          "state": {
            "_dom_classes": [],
            "_model_module": "@jupyter-widgets/controls",
            "_model_module_version": "1.5.0",
            "_model_name": "FloatProgressModel",
            "_view_count": null,
            "_view_module": "@jupyter-widgets/controls",
            "_view_module_version": "1.5.0",
            "_view_name": "ProgressView",
            "bar_style": "success",
            "description": "",
            "description_tooltip": null,
            "layout": "IPY_MODEL_8dca53e6b437423cab99f00c6a779192",
            "max": 1355256,
            "min": 0,
            "orientation": "horizontal",
            "style": "IPY_MODEL_b2a06ea2bc594ce2825c85ef9d30e51e",
            "value": 1355256
          }
        },
        "de8465bf6c094a9e901d7ae6d53aff10": {
          "model_module": "@jupyter-widgets/controls",
          "model_name": "HTMLModel",
          "model_module_version": "1.5.0",
          "state": {
            "_dom_classes": [],
            "_model_module": "@jupyter-widgets/controls",
            "_model_module_version": "1.5.0",
            "_model_name": "HTMLModel",
            "_view_count": null,
            "_view_module": "@jupyter-widgets/controls",
            "_view_module_version": "1.5.0",
            "_view_name": "HTMLView",
            "description": "",
            "description_tooltip": null,
            "layout": "IPY_MODEL_90e48ba1a7914518b197f29a4e226fe6",
            "placeholder": "​",
            "style": "IPY_MODEL_47cdf4f57a624d7191a95354fdd0cc08",
            "value": " 1.36M/1.36M [00:00&lt;00:00, 12.3MB/s]"
          }
        },
        "d6ce345b048a49a7a47867c4f5c62999": {
          "model_module": "@jupyter-widgets/base",
          "model_name": "LayoutModel",
          "model_module_version": "1.2.0",
          "state": {
            "_model_module": "@jupyter-widgets/base",
            "_model_module_version": "1.2.0",
            "_model_name": "LayoutModel",
            "_view_count": null,
            "_view_module": "@jupyter-widgets/base",
            "_view_module_version": "1.2.0",
            "_view_name": "LayoutView",
            "align_content": null,
            "align_items": null,
            "align_self": null,
            "border": null,
            "bottom": null,
            "display": null,
            "flex": null,
            "flex_flow": null,
            "grid_area": null,
            "grid_auto_columns": null,
            "grid_auto_flow": null,
            "grid_auto_rows": null,
            "grid_column": null,
            "grid_gap": null,
            "grid_row": null,
            "grid_template_areas": null,
            "grid_template_columns": null,
            "grid_template_rows": null,
            "height": null,
            "justify_content": null,
            "justify_items": null,
            "left": null,
            "margin": null,
            "max_height": null,
            "max_width": null,
            "min_height": null,
            "min_width": null,
            "object_fit": null,
            "object_position": null,
            "order": null,
            "overflow": null,
            "overflow_x": null,
            "overflow_y": null,
            "padding": null,
            "right": null,
            "top": null,
            "visibility": null,
            "width": null
          }
        },
        "a356fd05ae334cbbb39e5d3d384d3cb1": {
          "model_module": "@jupyter-widgets/base",
          "model_name": "LayoutModel",
          "model_module_version": "1.2.0",
          "state": {
            "_model_module": "@jupyter-widgets/base",
            "_model_module_version": "1.2.0",
            "_model_name": "LayoutModel",
            "_view_count": null,
            "_view_module": "@jupyter-widgets/base",
            "_view_module_version": "1.2.0",
            "_view_name": "LayoutView",
            "align_content": null,
            "align_items": null,
            "align_self": null,
            "border": null,
            "bottom": null,
            "display": null,
            "flex": null,
            "flex_flow": null,
            "grid_area": null,
            "grid_auto_columns": null,
            "grid_auto_flow": null,
            "grid_auto_rows": null,
            "grid_column": null,
            "grid_gap": null,
            "grid_row": null,
            "grid_template_areas": null,
            "grid_template_columns": null,
            "grid_template_rows": null,
            "height": null,
            "justify_content": null,
            "justify_items": null,
            "left": null,
            "margin": null,
            "max_height": null,
            "max_width": null,
            "min_height": null,
            "min_width": null,
            "object_fit": null,
            "object_position": null,
            "order": null,
            "overflow": null,
            "overflow_x": null,
            "overflow_y": null,
            "padding": null,
            "right": null,
            "top": null,
            "visibility": null,
            "width": null
          }
        },
        "e3af0a6b89f348a39242763efc6146c7": {
          "model_module": "@jupyter-widgets/controls",
          "model_name": "DescriptionStyleModel",
          "model_module_version": "1.5.0",
          "state": {
            "_model_module": "@jupyter-widgets/controls",
            "_model_module_version": "1.5.0",
            "_model_name": "DescriptionStyleModel",
            "_view_count": null,
            "_view_module": "@jupyter-widgets/base",
            "_view_module_version": "1.2.0",
            "_view_name": "StyleView",
            "description_width": ""
          }
        },
        "8dca53e6b437423cab99f00c6a779192": {
          "model_module": "@jupyter-widgets/base",
          "model_name": "LayoutModel",
          "model_module_version": "1.2.0",
          "state": {
            "_model_module": "@jupyter-widgets/base",
            "_model_module_version": "1.2.0",
            "_model_name": "LayoutModel",
            "_view_count": null,
            "_view_module": "@jupyter-widgets/base",
            "_view_module_version": "1.2.0",
            "_view_name": "LayoutView",
            "align_content": null,
            "align_items": null,
            "align_self": null,
            "border": null,
            "bottom": null,
            "display": null,
            "flex": null,
            "flex_flow": null,
            "grid_area": null,
            "grid_auto_columns": null,
            "grid_auto_flow": null,
            "grid_auto_rows": null,
            "grid_column": null,
            "grid_gap": null,
            "grid_row": null,
            "grid_template_areas": null,
            "grid_template_columns": null,
            "grid_template_rows": null,
            "height": null,
            "justify_content": null,
            "justify_items": null,
            "left": null,
            "margin": null,
            "max_height": null,
            "max_width": null,
            "min_height": null,
            "min_width": null,
            "object_fit": null,
            "object_position": null,
            "order": null,
            "overflow": null,
            "overflow_x": null,
            "overflow_y": null,
            "padding": null,
            "right": null,
            "top": null,
            "visibility": null,
            "width": null
          }
        },
        "b2a06ea2bc594ce2825c85ef9d30e51e": {
          "model_module": "@jupyter-widgets/controls",
          "model_name": "ProgressStyleModel",
          "model_module_version": "1.5.0",
          "state": {
            "_model_module": "@jupyter-widgets/controls",
            "_model_module_version": "1.5.0",
            "_model_name": "ProgressStyleModel",
            "_view_count": null,
            "_view_module": "@jupyter-widgets/base",
            "_view_module_version": "1.2.0",
            "_view_name": "StyleView",
            "bar_color": null,
            "description_width": ""
          }
        },
        "90e48ba1a7914518b197f29a4e226fe6": {
          "model_module": "@jupyter-widgets/base",
          "model_name": "LayoutModel",
          "model_module_version": "1.2.0",
          "state": {
            "_model_module": "@jupyter-widgets/base",
            "_model_module_version": "1.2.0",
            "_model_name": "LayoutModel",
            "_view_count": null,
            "_view_module": "@jupyter-widgets/base",
            "_view_module_version": "1.2.0",
            "_view_name": "LayoutView",
            "align_content": null,
            "align_items": null,
            "align_self": null,
            "border": null,
            "bottom": null,
            "display": null,
            "flex": null,
            "flex_flow": null,
            "grid_area": null,
            "grid_auto_columns": null,
            "grid_auto_flow": null,
            "grid_auto_rows": null,
            "grid_column": null,
            "grid_gap": null,
            "grid_row": null,
            "grid_template_areas": null,
            "grid_template_columns": null,
            "grid_template_rows": null,
            "height": null,
            "justify_content": null,
            "justify_items": null,
            "left": null,
            "margin": null,
            "max_height": null,
            "max_width": null,
            "min_height": null,
            "min_width": null,
            "object_fit": null,
            "object_position": null,
            "order": null,
            "overflow": null,
            "overflow_x": null,
            "overflow_y": null,
            "padding": null,
            "right": null,
            "top": null,
            "visibility": null,
            "width": null
          }
        },
        "47cdf4f57a624d7191a95354fdd0cc08": {
          "model_module": "@jupyter-widgets/controls",
          "model_name": "DescriptionStyleModel",
          "model_module_version": "1.5.0",
          "state": {
            "_model_module": "@jupyter-widgets/controls",
            "_model_module_version": "1.5.0",
            "_model_name": "DescriptionStyleModel",
            "_view_count": null,
            "_view_module": "@jupyter-widgets/base",
            "_view_module_version": "1.2.0",
            "_view_name": "StyleView",
            "description_width": ""
          }
        }
      }
    }
  },
  "cells": [
    {
      "cell_type": "markdown",
      "source": [
        "**1. Imports**"
      ],
      "metadata": {
        "id": "dUM0yLdkzG-7"
      }
    },
    {
      "cell_type": "markdown",
      "source": [
        "Let's start with imports and installing Hugging Face datasets."
      ],
      "metadata": {
        "id": "1b3Hh5EawcGr"
      }
    },
    {
      "cell_type": "code",
      "execution_count": 1,
      "metadata": {
        "id": "Dv7EHbBAaqB9"
      },
      "outputs": [],
      "source": [
        "%%capture\n",
        "!pip install datasets"
      ]
    },
    {
      "cell_type": "code",
      "source": [
        "import torch\n",
        "import numpy as np\n",
        "from transformers import AutoTokenizer, Trainer, TrainingArguments, DataCollatorForLanguageModeling, AutoModelForCausalLM\n",
        "from datasets import load_dataset, concatenate_datasets, Dataset, DatasetDict\n",
        "from peft import LoraConfig, get_peft_model, TaskType"
      ],
      "metadata": {
        "id": "1NoSyaLbwgiz"
      },
      "execution_count": 2,
      "outputs": []
    },
    {
      "cell_type": "markdown",
      "source": [
        "**2. Tokenization and Data Blocks**"
      ],
      "metadata": {
        "id": "UWgtZ8AUzOKS"
      }
    },
    {
      "cell_type": "markdown",
      "source": [
        "Let's access our .txt files from Google Drive and prepare them with the tokenzier.\n",
        "\n",
        "*   Step 1. Read all files as a concatenated text and Tokenize everything.\n",
        "*   Step 2. Create blocks of data from the one long piece of tokens.\n",
        "*   Step 3. Make Hugging Face dataset.\n",
        "\n"
      ],
      "metadata": {
        "id": "3fdxReNcwhjx"
      }
    },
    {
      "cell_type": "code",
      "source": [
        "# mount Google Drive\n",
        "from google.colab import drive\n",
        "drive.mount('/content/drive')\n",
        "\n",
        "# set up tokenizer\n",
        "tokenizer = AutoTokenizer.from_pretrained(\"gpt2\")\n",
        "tokenizer.pad_token = tokenizer.eos_token"
      ],
      "metadata": {
        "colab": {
          "base_uri": "https://localhost:8080/",
          "height": 194,
          "referenced_widgets": [
            "ebce7d55362b41929d3c893d92355969",
            "9941c13f518c405ab6b38eaf5aca792d",
            "17bbb57acff8409a854fb06274b981e4",
            "49222a9262de4569bd0e9b47c820805a",
            "2803977f4d8f44ac844a1e568d8834b2",
            "f64f08349c624cbea9589a48f96525c2",
            "1424b5f09e7b4b4ea1df1582eb64c483",
            "62416a0c0c854dda89cdd135a1c6ef15",
            "36844e60a2b34b95acf72699679708ba",
            "aee473fa9d9b41dd8c8090ab40c4bd8c",
            "df3f485db34449d483fd3599f0aee6b3",
            "7e10fa7ac6414870b3b032af7b7864ce",
            "49c109279bd24afbac61601fd762cf38",
            "4b5642577a7b4511b6282bef70177e7a",
            "83c15bc208d940cdb1135a379c4e57a6",
            "8b462e7e836a4ff1be1148e42def7196",
            "26c577e169a940c9b3845fa1d6b04977",
            "87d0a3ae9a944756877fbbb242c38fda",
            "cf010f4a97984fa29de0175fcd3e9ed5",
            "e33741d2e3784bc0a3b9d53e0fbc0d5f",
            "360c0911e22a40ebb7586631fbbf192b",
            "4c65aeeeb2c34bfd959776151845a00d",
            "f827c4e3f9414464ac987b73ae3db682",
            "ffb3b9b2ce5a453fad1b388a86a0cbde",
            "eda61079cdd7463b81183fd682e6de08",
            "2f0a68d531d44904be6df83ed3db110d",
            "cef6f47948174c329047c218015d7f7a",
            "f6529fa4d5ac46d28818bf4f21728fa9",
            "1c2fbc3e1b874b038eef8edfe449a154",
            "d3b5c44bc3f74166879159a94741027b",
            "91bbf010bc78494e9ba4ed552c6ab144",
            "e8d8092ccf6b45e59ef3570aadefbf75",
            "226d96681b824e0da6fc3897bd37b8ee",
            "59cf170419464f919522a4a9ccc3a908",
            "ad08a75782aa4533a1ce1aafc59eb0c7",
            "2bda44e80d3d430c9e5b0af137e278e7",
            "01d0b667c827475eb35b2cdafb9acf3e",
            "4464ef527bc5492899dc2a8f2d6bd144",
            "056cdffc3e104a8db9eeb86ea48275fc",
            "2f61ecf93c2d4dcaab682eb5c6bdc403",
            "545d5164480245d7a39aeba6792a4a2a",
            "f8b1bc6a8b4e42629538f9ccca1b6002",
            "ab18abe00ecf44d9994f38ae5785f6d1",
            "e8d76ce94adf4224b851574a7fc8f894",
            "4a65d697f4be404491a244b5118829f8",
            "7a908c3da45c4b588721a4a4f572a68f",
            "b6fbd8352b5b4b08bbcf8988f463c9d6",
            "de8465bf6c094a9e901d7ae6d53aff10",
            "d6ce345b048a49a7a47867c4f5c62999",
            "a356fd05ae334cbbb39e5d3d384d3cb1",
            "e3af0a6b89f348a39242763efc6146c7",
            "8dca53e6b437423cab99f00c6a779192",
            "b2a06ea2bc594ce2825c85ef9d30e51e",
            "90e48ba1a7914518b197f29a4e226fe6",
            "47cdf4f57a624d7191a95354fdd0cc08"
          ]
        },
        "id": "gX_6G1gLwg4I",
        "outputId": "266a3403-0990-4c79-dda7-ba2596c09ead"
      },
      "execution_count": 15,
      "outputs": [
        {
          "output_type": "stream",
          "name": "stdout",
          "text": [
            "Drive already mounted at /content/drive; to attempt to forcibly remount, call drive.mount(\"/content/drive\", force_remount=True).\n"
          ]
        },
        {
          "output_type": "display_data",
          "data": {
            "text/plain": [
              "tokenizer_config.json:   0%|          | 0.00/26.0 [00:00<?, ?B/s]"
            ],
            "application/vnd.jupyter.widget-view+json": {
              "version_major": 2,
              "version_minor": 0,
              "model_id": "ebce7d55362b41929d3c893d92355969"
            }
          },
          "metadata": {}
        },
        {
          "output_type": "display_data",
          "data": {
            "text/plain": [
              "config.json:   0%|          | 0.00/665 [00:00<?, ?B/s]"
            ],
            "application/vnd.jupyter.widget-view+json": {
              "version_major": 2,
              "version_minor": 0,
              "model_id": "7e10fa7ac6414870b3b032af7b7864ce"
            }
          },
          "metadata": {}
        },
        {
          "output_type": "display_data",
          "data": {
            "text/plain": [
              "vocab.json:   0%|          | 0.00/1.04M [00:00<?, ?B/s]"
            ],
            "application/vnd.jupyter.widget-view+json": {
              "version_major": 2,
              "version_minor": 0,
              "model_id": "f827c4e3f9414464ac987b73ae3db682"
            }
          },
          "metadata": {}
        },
        {
          "output_type": "display_data",
          "data": {
            "text/plain": [
              "merges.txt:   0%|          | 0.00/456k [00:00<?, ?B/s]"
            ],
            "application/vnd.jupyter.widget-view+json": {
              "version_major": 2,
              "version_minor": 0,
              "model_id": "59cf170419464f919522a4a9ccc3a908"
            }
          },
          "metadata": {}
        },
        {
          "output_type": "display_data",
          "data": {
            "text/plain": [
              "tokenizer.json:   0%|          | 0.00/1.36M [00:00<?, ?B/s]"
            ],
            "application/vnd.jupyter.widget-view+json": {
              "version_major": 2,
              "version_minor": 0,
              "model_id": "4a65d697f4be404491a244b5118829f8"
            }
          },
          "metadata": {}
        }
      ]
    },
    {
      "cell_type": "code",
      "source": [
        "# ---------Saber's path--------------\n",
        "\n",
        "# read and tokenize each file\n",
        "def load_and_tokenize(file_path):\n",
        "    with open(file_path, 'r', encoding='utf-8') as f:\n",
        "        text = f.read()\n",
        "    tokenized = tokenizer(text)\n",
        "    return tokenized['input_ids']\n",
        "\n",
        "# specify file path in Google Drive\n",
        "data_path = \"/content/drive/MyDrive/SEP775NLP_Final_Project/Friends_script/\"\n",
        "\n",
        "# run the function above to tokenize the data\n",
        "train_ids = load_and_tokenize(f\"{data_path}/cleaned_train_data.txt\") # used latest version of processed data here\n",
        "val_ids = load_and_tokenize(f\"{data_path}/cleaned_val_data.txt\")\n",
        "test_ids = load_and_tokenize(f\"{data_path}/cleaned_test_data.txt\")\n",
        "general_test_ids = load_and_tokenize(f\"{data_path}/wikitext103_test.txt\")"
      ],
      "metadata": {
        "colab": {
          "base_uri": "https://localhost:8080/"
        },
        "id": "bGmWSfaUwo_p",
        "outputId": "c66e5f79-854b-4734-dac3-e0d7d6c2be9f"
      },
      "execution_count": 16,
      "outputs": [
        {
          "output_type": "stream",
          "name": "stderr",
          "text": [
            "Token indices sequence length is longer than the specified maximum sequence length for this model (1062284 > 1024). Running this sequence through the model will result in indexing errors\n"
          ]
        }
      ]
    },
    {
      "cell_type": "code",
      "source": [
        "# create blocks of sequences\n",
        "block_size=512\n",
        "\n",
        "def create_blocks(all_tokens, block_size):\n",
        "  blocks = []\n",
        "  # loop through all of the tokens, split them by block_size\n",
        "  for i in range(0, len(all_tokens), block_size):\n",
        "    tokens_in_this_block = all_tokens[i:i+block_size] # takes [0:512], then [512:1024]...\n",
        "    blocks.append(tokens_in_this_block)\n",
        "  return blocks # returns a list of list of blocks\n",
        "\n",
        "# run the function above to create the data blocks\n",
        "train_blocks = create_blocks(train_ids, block_size)\n",
        "val_blocks = create_blocks(val_ids, block_size)\n",
        "test_blocks = create_blocks(test_ids, block_size)\n",
        "general_test_blocks = create_blocks(general_test_ids, block_size)\n",
        "\n",
        "# verify that one block contains multiple lines of the script\n",
        "print(train_blocks[0])"
      ],
      "metadata": {
        "colab": {
          "base_uri": "https://localhost:8080/"
        },
        "id": "EomUpUYFwxQN",
        "outputId": "635332e9-dabf-4090-9469-bcb502ed54e7"
      },
      "execution_count": 17,
      "outputs": [
        {
          "output_type": "stream",
          "name": "stdout",
          "text": [
            "[464, 1881, 6350, 23240, 29620, 257, 968, 5564, 2002, 378, 357, 464, 21697, 12, 464, 791, 8968, 10628, 8, 198, 25354, 416, 25, 3981, 64, 28148, 487, 805, 1222, 3271, 38376, 628, 198, 58, 36542, 25, 5694, 2448, 74, 11, 28346, 11, 26154, 11, 1380, 2577, 1350, 11, 290, 23240, 389, 612, 8183, 198, 198, 9069, 3970, 25, 1318, 338, 2147, 284, 1560, 0, 679, 338, 655, 617, 3516, 314, 670, 351, 0, 198, 198, 19585, 88, 25, 327, 1101, 261, 11, 345, 821, 1016, 503, 351, 262, 3516, 0, 1318, 338, 17753, 307, 1223, 2642, 351, 683, 0, 198, 198, 1925, 392, 1754, 25, 1439, 826, 26154, 11, 307, 3621, 13, 220, 1406, 857, 339, 423, 257, 49779, 30, 317, 49779, 290, 257, 4190, 12239, 30, 198, 198, 2725, 2577, 1350, 25, 16314, 11, 857, 339, 4483, 30860, 30, 198, 198, 7, 2990, 477, 24170, 11, 307, 76, 1484, 2014, 198, 198, 2725, 2577, 1350, 25, 2329, 11, 705, 25587, 11, 314, 836, 470, 765, 607, 284, 467, 832, 644, 314, 1816, 832, 351, 8124, 12, 11752, 0, 198, 198, 9069, 3970, 25, 16805, 11, 7288, 8960, 13, 770, 318, 407, 772, 257, 3128, 13, 632, 338, 655, 734, 661, 1016, 503, 284, 8073, 290, 12, 407, 1719, 1714, 13, 198, 198, 1925, 392, 1754, 25, 27107, 588, 257, 3128, 284, 502, 13, 198, 198, 58, 7575, 406, 7512, 60, 198, 198, 1925, 392, 1754, 25, 40967, 11, 523, 314, 1101, 736, 287, 1029, 1524, 11, 314, 1101, 5055, 287, 262, 3504, 286, 262, 43075, 11, 290, 314, 6537, 314, 716, 6635, 12105, 13, 198, 198, 3237, 25, 3966, 11, 10194, 13, 11161, 326, 4320, 13, 198, 198, 1925, 392, 1754, 25, 3244, 314, 804, 866, 11, 290, 314, 6537, 612, 338, 257, 3072, 986, 612, 13, 198, 198, 19585, 88, 25, 5455, 286, 44825, 198, 198, 1925, 392, 1754, 25, 1320, 338, 826, 13, 198, 198, 19585, 88, 25, 7236, 550, 326, 4320, 13, 198, 198, 2725, 2577, 1350, 25, 1400, 13, 198, 198, 1925, 392, 1754, 25, 1439, 286, 257, 4802, 11, 262, 3072, 4940, 284, 5858, 13, 2735, 314, 836, 470, 760, 644, 284, 466, 11, 7288, 4940, 2045, 379, 502, 13, 198, 198, 9069, 3970, 25, 843, 484, 6304, 470, 2045, 379, 345, 878, 12248, 198, 198, 1925, 392, 1754, 25, 9461, 11, 314, 3785, 314, 1549, 1365, 3280, 340, 11, 290, 340, 4962, 503, 340, 338, 616, 2802, 11, 543, 318, 845, 12, 548, 7650, 11, 780, 12, 673, 1239, 3848, 502, 0, 198, 198, 58, 7575, 406, 7512, 11, 9847, 468, 5982, 8183, 198, 198, 38328, 25, 357, 30171, 1431, 8, 15902, 13, 198, 198, 19585, 88, 25, 770, 3516, 1139, 23748, 11, 314, 18869, 1494, 3589, 13, 198, 198, 9069, 3970, 25, 4231, 345, 8788, 11, 6029, 494, 30, 198, 198, 38328, 25, 314, 655, 1254, 588, 2130, 4251, 866, 616, 13589, 11, 13176, 616, 1402, 45426, 11, 5954, 340, 503, 286, 616, 5422, 290, 8165, 340, 1088, 616, 7393, 986, 198, 198, 1925, 392, 1754, 25, 39606, 30, 198, 198, 9069, 3970, 25]\n"
          ]
        }
      ]
    },
    {
      "cell_type": "code",
      "source": [
        "# make dictionaries and then turn them into hugging face datasets\n",
        "train_dataset = Dataset.from_dict({\"input_ids\": train_blocks})\n",
        "val_dataset = Dataset.from_dict({\"input_ids\": val_blocks})\n",
        "test_dataset = Dataset.from_dict({\"input_ids\": test_blocks})\n",
        "general_test_dataset = Dataset.from_dict({\"input_ids\": general_test_blocks})\n",
        "\n",
        "# create the Hugging Face dataset dict\n",
        "dataset_dict = DatasetDict({\"train\": train_dataset, \"validation\": val_dataset, \"test\": test_dataset,\n",
        "                            \"general_test\": general_test_dataset})"
      ],
      "metadata": {
        "id": "ENtNC1bdxiww"
      },
      "execution_count": 18,
      "outputs": []
    },
    {
      "cell_type": "code",
      "source": [
        "# set up data collator\n",
        "data_collator = DataCollatorForLanguageModeling(tokenizer=tokenizer, mlm=False)  # For causal LM"
      ],
      "metadata": {
        "id": "ZzWG_j0lxk0T"
      },
      "execution_count": 19,
      "outputs": []
    },
    {
      "cell_type": "markdown",
      "source": [
        "**3. Model Training**"
      ],
      "metadata": {
        "id": "3zMIU4CTzcuw"
      }
    },
    {
      "cell_type": "markdown",
      "source": [
        "Let's set up the parameters for training here. We will also benchmark the pre-trained model's ability on a general Wiki language dataset (before fine-tuning). We will test the model again on this dataset after fine-tuning to see if our model retains the general language capability."
      ],
      "metadata": {
        "id": "hC-71uLMxmW_"
      }
    },
    {
      "cell_type": "code",
      "source": [
        "# access the model from Hugging Face\n",
        "model = AutoModelForCausalLM.from_pretrained(\"gpt2\")\n",
        "model.config.pad_token_id = model.config.eos_token_id\n",
        "\n",
        "# --------------------------------------------------------------------------------(comment this section out if running without LoRA)\n",
        "# freeze all the weights\n",
        "#for param in model.parameters():\n",
        "    #param.requires_grad = False\n",
        "# -------------------------------------------------------------------------------- (this code might not be needed even when running LoRa, but just in case)"
      ],
      "metadata": {
        "id": "QIfV8PVLxlO-"
      },
      "execution_count": 28,
      "outputs": []
    },
    {
      "cell_type": "code",
      "source": [
        "# set up dummy trainer to benchmark the pre-trained model's capability on the general wiki test set\n",
        "dummy_training_args = TrainingArguments(output_dir=\"./eval_output\", do_train=False, per_device_eval_batch_size=4, report_to=\"none\")\n",
        "dummy_trainer = Trainer(model=model, args=dummy_training_args, eval_dataset=dataset_dict[\"general_test\"], data_collator=data_collator)\n",
        "\n",
        "# test the pre-trained model\n",
        "benchmark_general_eval_results = dummy_trainer.evaluate(dataset_dict[\"general_test\"])\n",
        "print(f\"General Wiki Data before Fine-Tuning: eval_loss = {benchmark_general_eval_results['eval_loss']:.2f}\")"
      ],
      "metadata": {
        "colab": {
          "base_uri": "https://localhost:8080/",
          "height": 71
        },
        "id": "yfHy88_VxqZ1",
        "outputId": "a18f7576-30e3-4415-bb40-619f2e2dbbca",
        "collapsed": true
      },
      "execution_count": 9,
      "outputs": [
        {
          "output_type": "stream",
          "name": "stderr",
          "text": [
            "`loss_type=None` was set in the config but it is unrecognised.Using the default loss: `ForCausalLMLoss`.\n"
          ]
        },
        {
          "output_type": "display_data",
          "data": {
            "text/plain": [
              "<IPython.core.display.HTML object>"
            ],
            "text/html": [
              "\n",
              "    <div>\n",
              "      \n",
              "      <progress value='138' max='138' style='width:300px; height:20px; vertical-align: middle;'></progress>\n",
              "      [138/138 00:56]\n",
              "    </div>\n",
              "    "
            ]
          },
          "metadata": {}
        },
        {
          "output_type": "stream",
          "name": "stdout",
          "text": [
            "General Wiki Data before Fine-Tuning: eval_loss = 2.96\n"
          ]
        }
      ]
    },
    {
      "cell_type": "code",
      "source": [
        "# take a look at how many steps will be one epoch\n",
        "num_of_train_blocks=(len(train_blocks))\n",
        "step_per_epoch = num_of_train_blocks // 4 # note 4 here is the batch_size\n",
        "print(step_per_epoch)"
      ],
      "metadata": {
        "colab": {
          "base_uri": "https://localhost:8080/"
        },
        "id": "Wy_lskICZwTT",
        "outputId": "0555187a-c612-438b-bf24-afec5cec196d"
      },
      "execution_count": 10,
      "outputs": [
        {
          "output_type": "stream",
          "name": "stdout",
          "text": [
            "518\n"
          ]
        }
      ]
    },
    {
      "cell_type": "code",
      "source": [
        "# --------------------------------------------------------------------------------(comment this section out if running without LoRA)\n",
        "# setup LoRA configuration and wrap the model with it\n",
        "#lora_config = LoraConfig(r=32, lora_alpha=32, lora_dropout=0.05, bias=\"none\", task_type=TaskType.CAUSAL_LM) # increase r for a more powerful adapter\n",
        "#model = get_peft_model(model, lora_config)\n",
        "#model.print_trainable_parameters()# verify we're only training LoRA weights\n",
        "# --------------------------------------------------------------------------------\n",
        "\n",
        "# set up training_args\n",
        "training_args = TrainingArguments(output_dir=\"/content/drive/MyDrive/SEP775NLP_Final_Project/Models/gpt2-xl\", # Rose: \"/content/drive/MyDrive/datasets\"\n",
        "                                  evaluation_strategy=\"steps\",\n",
        "                                  save_strategy=\"steps\",\n",
        "                                  max_steps=2000,\n",
        "                                  eval_steps=400,\n",
        "                                  save_steps=400,\n",
        "                                  logging_steps=400,\n",
        "                                  #num_train_epochs=3,\n",
        "                                  per_device_train_batch_size=4,\n",
        "                                  per_device_eval_batch_size=4,\n",
        "                                  learning_rate=8e-5,\n",
        "                                  #save_total_limit=1,\n",
        "                                  resume_from_checkpoint=True,\n",
        "                                  load_best_model_at_end=True,\n",
        "                                  metric_for_best_model=\"eval_loss\",\n",
        "                                  weight_decay=0.01, # added regularization\n",
        "                                  warmup_steps=5, # added lr scheduler and warmup\n",
        "                                  lr_scheduler_type=\"linear\",\n",
        "                                  report_to=\"none\" # disable wandb\n",
        "                                  ) # default optimizer is adamw\n",
        "\n",
        "# setup trainer\n",
        "trainer = Trainer(model=model,\n",
        "                  args=training_args,\n",
        "                  train_dataset=dataset_dict[\"train\"],\n",
        "                  eval_dataset=dataset_dict[\"validation\"],\n",
        "                  data_collator=data_collator)"
      ],
      "metadata": {
        "colab": {
          "base_uri": "https://localhost:8080/"
        },
        "id": "vidjgxSRx-80",
        "outputId": "952cbbff-4218-49b9-c1e3-6bee073bf830"
      },
      "execution_count": 29,
      "outputs": [
        {
          "output_type": "stream",
          "name": "stderr",
          "text": [
            "/usr/local/lib/python3.11/dist-packages/transformers/training_args.py:1611: FutureWarning: `evaluation_strategy` is deprecated and will be removed in version 4.46 of 🤗 Transformers. Use `eval_strategy` instead\n",
            "  warnings.warn(\n"
          ]
        }
      ]
    },
    {
      "cell_type": "code",
      "source": [
        "# start training\n",
        "trainer.train()"
      ],
      "metadata": {
        "colab": {
          "base_uri": "https://localhost:8080/",
          "height": 281
        },
        "id": "7GO0loM4yBu3",
        "outputId": "3c1339fb-f172-4529-d6ea-1cac0bacb20d"
      },
      "execution_count": 30,
      "outputs": [
        {
          "output_type": "display_data",
          "data": {
            "text/plain": [
              "<IPython.core.display.HTML object>"
            ],
            "text/html": [
              "\n",
              "    <div>\n",
              "      \n",
              "      <progress value='2000' max='2000' style='width:300px; height:20px; vertical-align: middle;'></progress>\n",
              "      [2000/2000 04:57, Epoch 3/4]\n",
              "    </div>\n",
              "    <table border=\"1\" class=\"dataframe\">\n",
              "  <thead>\n",
              " <tr style=\"text-align: left;\">\n",
              "      <th>Step</th>\n",
              "      <th>Training Loss</th>\n",
              "      <th>Validation Loss</th>\n",
              "    </tr>\n",
              "  </thead>\n",
              "  <tbody>\n",
              "    <tr>\n",
              "      <td>400</td>\n",
              "      <td>2.527500</td>\n",
              "      <td>2.302346</td>\n",
              "    </tr>\n",
              "    <tr>\n",
              "      <td>800</td>\n",
              "      <td>2.340400</td>\n",
              "      <td>2.280562</td>\n",
              "    </tr>\n",
              "    <tr>\n",
              "      <td>1200</td>\n",
              "      <td>2.248300</td>\n",
              "      <td>2.268317</td>\n",
              "    </tr>\n",
              "    <tr>\n",
              "      <td>1600</td>\n",
              "      <td>2.181800</td>\n",
              "      <td>2.269105</td>\n",
              "    </tr>\n",
              "    <tr>\n",
              "      <td>2000</td>\n",
              "      <td>2.130100</td>\n",
              "      <td>2.264441</td>\n",
              "    </tr>\n",
              "  </tbody>\n",
              "</table><p>"
            ]
          },
          "metadata": {}
        },
        {
          "output_type": "stream",
          "name": "stderr",
          "text": [
            "There were missing keys in the checkpoint model loaded: ['lm_head.weight'].\n"
          ]
        },
        {
          "output_type": "execute_result",
          "data": {
            "text/plain": [
              "TrainOutput(global_step=2000, training_loss=2.2856219787597656, metrics={'train_runtime': 297.2353, 'train_samples_per_second': 26.915, 'train_steps_per_second': 6.729, 'total_flos': 2089552379904000.0, 'train_loss': 2.2856219787597656, 'epoch': 3.8535645472061657})"
            ]
          },
          "metadata": {},
          "execution_count": 30
        }
      ]
    },
    {
      "cell_type": "markdown",
      "source": [
        "**4. Evaluation**"
      ],
      "metadata": {
        "id": "nMVub5s804NF"
      }
    },
    {
      "cell_type": "markdown",
      "source": [
        "Take the trained model, and evaluate its performance on the two different tests sets.\n",
        "\n",
        "*   Test 1. Unseen FRIENDS scripts - to test model's ability to pick up the specific style of the show.\n",
        "*   Test 2. General Wiki English data - to test model's general language capabilities. (compare to benchmark)\n",
        "\n"
      ],
      "metadata": {
        "id": "EfkHAYzJylvo"
      }
    },
    {
      "cell_type": "code",
      "source": [
        "# evaluation process\n",
        "eval_results = trainer.evaluate(dataset_dict[\"test\"])\n",
        "general_eval_results = trainer.evaluate(dataset_dict[\"general_test\"])\n",
        "\n",
        "print(f\"Unseen FRIENDS scripts: eval_loss = {eval_results['eval_loss']:.2f}\")\n",
        "print(f\"General Wiki Data after Fine-Tuning: eval_loss = {general_eval_results['eval_loss']:.2f}\")"
      ],
      "metadata": {
        "colab": {
          "base_uri": "https://localhost:8080/",
          "height": 71
        },
        "id": "9TvALc3vymHN",
        "outputId": "cf1e7c01-4c44-4a6c-fa48-695ed97a23f2"
      },
      "execution_count": 31,
      "outputs": [
        {
          "output_type": "display_data",
          "data": {
            "text/plain": [
              "<IPython.core.display.HTML object>"
            ],
            "text/html": [
              "\n",
              "    <div>\n",
              "      \n",
              "      <progress value='301' max='163' style='width:300px; height:20px; vertical-align: middle;'></progress>\n",
              "      [163/163 00:12]\n",
              "    </div>\n",
              "    "
            ]
          },
          "metadata": {}
        },
        {
          "output_type": "stream",
          "name": "stdout",
          "text": [
            "Unseen FRIENDS scripts: eval_loss = 2.60\n",
            "General Wiki Data after Fine-Tuning: eval_loss = 4.23\n"
          ]
        }
      ]
    },
    {
      "cell_type": "markdown",
      "source": [
        "**5. Generation**"
      ],
      "metadata": {
        "id": "RiBVfQ0f06Xq"
      }
    },
    {
      "cell_type": "markdown",
      "source": [
        "Finally, we'll use this model to generate a new episode to see for ourselves how the model performs. We trialed the following different approaches for text generation and found that better results can be obtained with the last approach, so in this version of the code we only kept that approach.\n",
        "\n",
        "*   Approach 1. Greedy Search (using argmax)\n",
        "*   Approach 2. MultiNomial selection\n",
        "*   Approach 3. MultiNomial selection with top_k and top_p filters\n",
        "\n",
        "\n",
        "\n"
      ],
      "metadata": {
        "id": "W0fjbxZlyqkr"
      }
    },
    {
      "cell_type": "code",
      "source": [
        "# create initial prompt and tokenize it\n",
        "prompt = \"\"\"\n",
        "The One with students from McMaster University\n",
        "Written by: GPT2-Base\n",
        "\n",
        "[Scene: Monica's Apartment. Monica, Ross, Rachel, and Chandler are there.]\n",
        "\n",
        "Monica: Hey guys! Big news—I heard there's going to be a party at McMaster University.\n",
        "\n",
        "Ross: A party?\n",
        "\n",
        "Rachel: Oh yeah! The students are celebrating their SEP775 class with the professors!\n",
        "\n",
        "Chandler: We should join them! I mean, where is the fun in a party without your favorite FRIENDS characters?\n",
        "\n",
        "(They all leave for the party.)\n",
        "\n",
        "[Scene: SEP775 classroom at McMaster University. Rachel, Chandler, Ross, Monica, and Phoebe are hanging out with the students.]\n",
        "\n",
        "Rachel: Wow, this place kicks ass! Look, isn’t that Professor Mahyar who teaches Natural Language Processing?\n",
        "\n",
        "\"\"\"\n",
        "\n",
        "model_inputs = tokenizer(prompt, return_tensors=\"pt\", return_attention_mask=True).to(model.device)\n",
        "model.generation_config.pad_token_id = tokenizer.pad_token_id # suppress padding warning\n",
        "\n",
        "# create a list that holds the prompt, future tokens will be appended into this list later on\n",
        "all_tokens = model_inputs[\"input_ids\"][0].tolist()\n",
        "\n",
        "# to avoid hitting memory limits, generate only one batch with the initial prompt, take last few tokens out to generate the next batch.\n",
        "context_window = 700 # this is the sliding window - take this many tokens to set up next batch's generation\n",
        "max_token = 2500\n",
        "step_size = 128 # generate this many tokens at a time\n",
        "num_of_loops = max_token // step_size\n",
        "\n",
        "# end episode management\n",
        "min_tokens_before_end = 2000 # generate this many tokens before being allowed to generate the word \"end\"\n",
        "end_id = tokenizer.encode(\"end\", add_special_tokens=False) # token_id of the word \"end\" (I checked it previously and it is only 1 token id, meaning it is the standalone word \"end\")\n",
        "end_of_episode_marker = \"### END OF EPISODE ###\" # this marker was added during data pre-processing. it should come right after the \"end\" word\n",
        "\n",
        "# generation loop\n",
        "for i in range(num_of_loops):\n",
        "\n",
        "  # suppresses the word \"end\" before reaching certain number of tokens\n",
        "  if len(all_tokens) < min_tokens_before_end:\n",
        "    bad_words = [end_id]\n",
        "  else:\n",
        "    bad_words = None\n",
        "\n",
        "  output = model.generate(**model_inputs,\n",
        "                          max_new_tokens=step_size,\n",
        "                          do_sample=True,\n",
        "                          top_k=40, # keep k highest probable options\n",
        "                          top_p=0.75, # keep only the options that add up to p% probability, filter out the remaining less probable options\n",
        "                          temperature=1, # to add a little bit more creativity if needed\n",
        "                          repetition_penalty=1.2,\n",
        "                          bad_words_ids=bad_words # bad words to generate before hitting certain number of tokens\n",
        "                          )\n",
        "\n",
        "  output_tokens = output[0].tolist()\n",
        "  new_tokens = output_tokens[-step_size:] # get rid of the previous context and keep only new tokens\n",
        "\n",
        "  new_text = tokenizer.decode(new_tokens, skip_special_tokens=True) # turn tokens to text to check if end marker has been generated\n",
        "  start_index_of_end_marker = new_text.find(end_of_episode_marker) # returns -1 if the marker is not found, otherwise returns the start index\n",
        "\n",
        "  if start_index_of_end_marker != -1: # if end marker is present\n",
        "    truncated_new_text = new_text[: start_index_of_end_marker + len(end_of_episode_marker)] # get rid of what is after the end marker\n",
        "    truncated_new_tokens = tokenizer.encode(truncated_new_text, add_special_tokens=False) # turn them into tokens\n",
        "    all_tokens.extend(truncated_new_tokens) # and put them in the list\n",
        "    break\n",
        "\n",
        "  else:\n",
        "      all_tokens.extend(new_tokens) # otherwise place the whole thing into the list without truncating\n",
        "\n",
        "  previous_context = output_tokens[-context_window:] # set new previous_context for next loop\n",
        "  previous_context_tensor = torch.tensor([previous_context]).to(model.device) # prepare the inputs and attention mask for next loop\n",
        "  attention_mask = (previous_context_tensor != tokenizer.pad_token_id).long()\n",
        "  model_inputs = {\"input_ids\": previous_context_tensor, \"attention_mask\":attention_mask}\n",
        "\n",
        "# decode from the list and print results\n",
        "generated_script = tokenizer.decode(all_tokens, skip_special_tokens=True)\n",
        "print(generated_script)"
      ],
      "metadata": {
        "colab": {
          "base_uri": "https://localhost:8080/"
        },
        "id": "TCG_9QDzyq7A",
        "outputId": "ec998127-70b8-48bf-fe71-3607198a3953"
      },
      "execution_count": 32,
      "outputs": [
        {
          "output_type": "stream",
          "name": "stdout",
          "text": [
            "\n",
            "The One with students from McMaster University\n",
            "Written by: GPT2-Base\n",
            "\n",
            "[Scene: Monica's Apartment. Monica, Ross, Rachel, and Chandler are there.]\n",
            "\n",
            "Monica: Hey guys! Big news—I heard there's going to be a party at McMaster University.\n",
            "\n",
            "Ross: A party?\n",
            "\n",
            "Rachel: Oh yeah! The students are celebrating their SEP775 class with the professors!\n",
            "\n",
            "Chandler: We should join them! I mean, where is the fun in a party without your favorite FRIENDS characters?\n",
            "\n",
            "(They all leave for the party.)\n",
            "\n",
            "[Scene: SEP775 classroom at McMaster University. Rachel, Chandler, Ross, Monica, and Phoebe are hanging out with the students.]\n",
            "\n",
            "Rachel: Wow, this place kicks ass! Look, isn’t that Professor Mahyar who teaches Natural Language Processing?\n",
            "\n",
            "  (Monica nods yes) Yeah!\n",
            "…Okay, so let’s go see what else we can do about our classes.\n",
            "(Phoebs walks over to talk to her parents.)\n",
            "All: Hey!\n",
            "Phoeb: Hi!\n",
            "Monica: You know when you first started taking pictures, you had to take care of your family members. And now it looks like you”re finally taking responsibility for yourself. Well then why would anyone ask me how to make them look good?\n",
            "Phyllis: Umm, actually my mom taught me how not wearing too much makeup.\n",
            "Monica: But don't worry she did give you lots more advice than that! All right great, thanks but no thanks. So uhh, here’s what we need help on. Y’know, what kind eraser do I need? What kind will uh show it’s just my hair?!\n",
            "Phyllisa: Yeah, I already got it. Okay? Just one tip though. If you don ‘t have scissors, you can always use whatever you want, but if someone asks you out, y’know say you might not work hard enough to do that anyway. (They start laughing uh show it’s just my hair?!\n",
            "Phyllisa: Yeah, I already got it. Okay? Just one tip though. If you don ‘t have scissors, you can always use whatever you want, but if someone asks you out, y’know say you might not work hard enough to do that anyway. (They start laughing.)\n",
            "Monica: Really?! That’s really funny.\n",
            "\n",
            "Phyllisa:: Yeah! Yeah! Yeah, I knew maybe tomorrow night he won his chance to make me a sandwich and I could eat anything I wanted!\n",
            "Commercial Break\n",
            "Opening CreditsWe hear Joey talking to Monica about the wedding and also hearing Dr. Burke saying \"It was never gonna happen.\" Which brings us back to earlier scenes; unfortunately these were cut short after they ended because they involved multiple flashbacks between Janice and Richard. However those flashback shots feature both men kissing passionately as well or being passionately attracted to each other instead.(See below…)Now lets get some background information into perspective before jumping up and down trying desperately wanting to figure things out... Anyway.... It starts off innocently enough..... At least two women come rushing towards him looking for something to kiss while holding hands.. This causes an awkward silence which serves to further confuse everyone until suddenly Susan comes running away happily carrying another woman through the apartment window causing people to scream......\"He's gone!\"...In desperation Julie tries frantically searching for something to bite Richard!! She stops only seconds later when Paul is interrupted by the sound again....\n",
            "Richard is getting ready to return home having been abandoned inside the building!!! Everyone screams ..\"Oh my God!\".....Finally Marcel arrives outside calling everybody to follow him!!!! Finally everything falls apart leaving Carol waiting patiently anxiously for Mr.-Geller to arrive...)Meanwhile Emily is pacing around wondering whether ornot she wants to meet Gary once again. As time goes on nothing ever happens except for Marcel waking up screaming from his coma...\"I'm fine!\"\n",
            "(As soon thereafter Elizabeth enters...] Meanwhile Jill is still fighting to stay alive against the terrible heat waves coming across the city....\n",
            "Suddenly Terry and Kathy enter together yelling ....\"Hey hey-hey, hi! I found your keys!\"..And continued upon arriving under intense fire. Suddenly Barry realizes there is an opening)...So Gunther gets depressed and decides to jump ship somewhere faster. After landing safely near a remote controlled airplane crash scene Eddie rushes ahead slowly toward the cockpit....Gunner knocks himself onto the ventral exit port side of the jetway behind Barbara, who escapes in disgust.]\n",
            "Gunther: (coming past this moment) Look at ya! (Walks quickly forward next door to try catching sight unseen) Ohhhh! There we are, there we are! Here we beare!!\n",
            "(The entire gang cheers loudly)-Yeahh, yeahh, yeahh, yeah! Okay, listen Ross says bye, okayay please tell me where all of the food is. Okay, okay, OKay, oh, ooh, oh, oh, oh, oh, oh, oh, oh! Waitie, waitie, waitie, waitie, waitie, waitie!\n",
            "(Ross returns with Bonnie and Phoebe eating pizza.)\n",
            "Gary: Hey Pheebs! Thanks for letting me hang out with you guys today.\n",
            "Pheeb: Yes, yes!\n",
            "Gary: We met yesterday morning during lunch, so ah, would like dinner tonight too.\n",
            "(Susan gives them her number along with her book.) [to Leslie] Uh, sorry. Sorry.\n",
            "[Scene: The airport lobby Chandler opens the gatehouse doors revealing Mrs. Bing standing close to the front entrance.]\n",
            "Mrs.: Hi.\n",
            "Chandler: Good afternoon. Hello. How're you doing?\n",
            "\n",
            "Mrs., Bing: Umm, it's good to see you.\n",
            "All: Hey!\n",
            "\n",
            "Mrs.?\n",
            "\n",
            "Mrs.?\n",
            "\n",
            "Mrs..?A: Excuse me. You know what? Let me just say that uh one thing here is totally unexpected. A beautiful girl called Rachel has recently left for China, and um, apparently you don't understand why.\n",
            "Rachel: Well y'know how sometimes if you feel uncomfortable speaking English, you can always ask someone else to do the same thing? Y'know right? But then every time somebody asks you, you have to learn exactly their reason. So no problem, alright? That was very exciting, thank you very much.\n",
            "Phoebel: Thank you.\n",
            "Monica: All right look, thanks man, sweetheart. Bye. (She leaves as Monica approaches after knocking over Ms. Bing's table.)\n",
            "\n",
            "Mr. Bing: No problem.\n",
            "They both go back upstairs talking.\n",
            "\n",
            "Monica: Alrighty, but since they had to leave tomorrow night, maybe not 'cause of you.\n",
            "Joey: Yeah, well let's face it, honey, actually he didn’t even notice us last night. And besides, because he got drunk first, I think I kinda need a drink before work, so when we get home, I might need to pick up some stuff...\n",
            "Marge: Come on Joey, remember about those boxes marked \"Take care of yourself\"?!\n",
            "Janice: Oooh! It's been four months! What happened?\n",
            "Frank Sr.: Huh?\n",
            "Frank Sr.: When did the divorce happen?\n",
            "\n",
            "Frank Jr.'s Wife: In December 1982!\n",
            "\n",
            "Frank Sr.: My ex-wife was married two months later.\n",
            "Megan: Wow! Do anybody really think that she could handle being married twice now?!\n",
            "Doug: Actually, never mind. Now suppose my ex went away long ago.\n",
            "Opening Credits\n",
            "\n",
            "                                                  \n",
            "Opening Credits Note: This episode features flashbacks from Seasons 1-4 . Each flashback represents episodes 038 through 517; scenes will take place between these stories which may or possibly should occur within certain order of appearance by viewers only. For information on any particular part however please consult your                                        \n",
            "Opening Credits Note: This episode features flashbacks from Seasons 1-4 . Each flashback represents episodes 038 through 517; scenes will take place between these stories which may or possibly should occur within certain order of appearance by viewers only. For information on any particular part however please consult your own history page.(The credits also feature several alternate ending sequence involving Frank Sr. in his present life) See more movies ‘Star Wars”Commercial Break....\n",
            "\n",
            "Ending Credits\n",
            "Written by Andrew Reich & Ted Cohen\n",
            "Directed by Jeffrey Astrof\n",
            "\n",
            "Story follows below using voice acting lessons learned under various circumstances throughout Season One where Eddie Van Halen joins forces with fellow cast members Richard Dreyfusson , Scott McClelland,...(Readers note): ....to form the Fantastic Four..\n",
            "\n",
            "There are three main characters who meet at an audition dressed like men--Richard, Chandler, and himself. They all become friends while still together and start making jokes based upon each other�s appearances. Unfortunately, this doesn`t match our previous understanding of friendship, especially given that most of them were born during the Great War and would rather be known simply as the Mr.-Guy-Boy than Guy F.\n",
            "We hear nothing coming out of Tony Curtis dressing up as the Fantastic Four, until Danny Boyle comes into his office wearing an orange jumpsuit instead.[...]\n",
            "Richard goes shopping[...]\n",
            "Danny enters carrying a magazine full oatmeal cereal along with a box of cookies and drinks]\n",
            "Danny: Here you go. [He grabs the magazine off the counter and starts rummaging around behind it. He finds the magazines inside the box] Ohhh. Ohh, ohh. Ohhh. Ohh. Ohhh., ohh. Ohh. Ohh. Ohhh......Oh. Ohh.....\n",
            "Danny opens the box, finds a bunch covered peanuts wrapped round the outside of the box, drops one down, and throws the rest onto a couch.\n",
            "Chandler: Oh my God. Oh. Ohh. Oh. Oh....Oh.\n",
            "\n",
            "Mrs. Geller: Oh dear. Oh....Ohh. Oh.\n",
            "All: Oh.\n",
            "CHANDLER: Oh....\n",
            "RACHEL: Oh....Yes....Yeah. Oh. Ohh. Ohh....Oh.....\n",
            "ALL: Ahh!! Ha!!\n",
            "\n",
            "MONICA: Yeah, but wait they're not here yet, okay? That means Rachel isn't gonna see Phoebe anymore unless she calls her parents tonight. So why is there something wrong with her? She has to marry him tomorrow (Looks over at the kids) huh? Well apparently none have ever called their parents… (Walks towards the living room)\n",
            "Monica: Hey man, what do ya guys know about the babies?!\n",
            "DRIVER: Oh no.\n",
            "MR. GREENE: We had fun just getting back from the audition.\n",
            "PHOEBE: Uh-oh, uh-oh. Uh honey, can I talk for a second before I get a cup of coffee?\n",
            "JOEY: No.\n",
            "CLOSING CREDITS\n",
            "END TITLES ### END OF EPISODE ###\n"
          ]
        }
      ]
    },
    {
      "cell_type": "code",
      "source": [],
      "metadata": {
        "id": "nGEqb17Ur5V4"
      },
      "execution_count": null,
      "outputs": []
    }
  ]
}