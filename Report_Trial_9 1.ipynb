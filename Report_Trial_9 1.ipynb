{
  "nbformat": 4,
  "nbformat_minor": 0,
  "metadata": {
    "colab": {
      "provenance": [],
      "machine_shape": "hm",
      "gpuType": "A100"
    },
    "kernelspec": {
      "name": "python3",
      "display_name": "Python 3"
    },
    "language_info": {
      "name": "python"
    },
    "accelerator": "GPU",
    "widgets": {
      "application/vnd.jupyter.widget-state+json": {
        "b7f08595d682481b9134489eadbb597c": {
          "model_module": "@jupyter-widgets/controls",
          "model_name": "HBoxModel",
          "model_module_version": "1.5.0",
          "state": {
            "_dom_classes": [],
            "_model_module": "@jupyter-widgets/controls",
            "_model_module_version": "1.5.0",
            "_model_name": "HBoxModel",
            "_view_count": null,
            "_view_module": "@jupyter-widgets/controls",
            "_view_module_version": "1.5.0",
            "_view_name": "HBoxView",
            "box_style": "",
            "children": [
              "IPY_MODEL_4de224af2abb460eaec401439b47e090",
              "IPY_MODEL_c4528b285d47457eb3c56dcfd6f9b530",
              "IPY_MODEL_b0cdf30300584eb7a5840674d9e7e2d5"
            ],
            "layout": "IPY_MODEL_00838964ca1b457f8d32f9f8d1d63004"
          }
        },
        "4de224af2abb460eaec401439b47e090": {
          "model_module": "@jupyter-widgets/controls",
          "model_name": "HTMLModel",
          "model_module_version": "1.5.0",
          "state": {
            "_dom_classes": [],
            "_model_module": "@jupyter-widgets/controls",
            "_model_module_version": "1.5.0",
            "_model_name": "HTMLModel",
            "_view_count": null,
            "_view_module": "@jupyter-widgets/controls",
            "_view_module_version": "1.5.0",
            "_view_name": "HTMLView",
            "description": "",
            "description_tooltip": null,
            "layout": "IPY_MODEL_ca5f9615b09b40d9b2d7dfafd0c5b793",
            "placeholder": "​",
            "style": "IPY_MODEL_75cde24a6a364d21a950a7ac6f7b3ffd",
            "value": "tokenizer_config.json: 100%"
          }
        },
        "c4528b285d47457eb3c56dcfd6f9b530": {
          "model_module": "@jupyter-widgets/controls",
          "model_name": "FloatProgressModel",
          "model_module_version": "1.5.0",
          "state": {
            "_dom_classes": [],
            "_model_module": "@jupyter-widgets/controls",
            "_model_module_version": "1.5.0",
            "_model_name": "FloatProgressModel",
            "_view_count": null,
            "_view_module": "@jupyter-widgets/controls",
            "_view_module_version": "1.5.0",
            "_view_name": "ProgressView",
            "bar_style": "success",
            "description": "",
            "description_tooltip": null,
            "layout": "IPY_MODEL_5b9b56416a9748898273dcfd09d1fc74",
            "max": 26,
            "min": 0,
            "orientation": "horizontal",
            "style": "IPY_MODEL_4e3c06667c94470b90687aa4d07e3b82",
            "value": 26
          }
        },
        "b0cdf30300584eb7a5840674d9e7e2d5": {
          "model_module": "@jupyter-widgets/controls",
          "model_name": "HTMLModel",
          "model_module_version": "1.5.0",
          "state": {
            "_dom_classes": [],
            "_model_module": "@jupyter-widgets/controls",
            "_model_module_version": "1.5.0",
            "_model_name": "HTMLModel",
            "_view_count": null,
            "_view_module": "@jupyter-widgets/controls",
            "_view_module_version": "1.5.0",
            "_view_name": "HTMLView",
            "description": "",
            "description_tooltip": null,
            "layout": "IPY_MODEL_1638ffa23c5a47bea0c23c297d444d3f",
            "placeholder": "​",
            "style": "IPY_MODEL_5bf63f7a2b7344f19dd11939c9375a5c",
            "value": " 26.0/26.0 [00:00&lt;00:00, 2.41kB/s]"
          }
        },
        "00838964ca1b457f8d32f9f8d1d63004": {
          "model_module": "@jupyter-widgets/base",
          "model_name": "LayoutModel",
          "model_module_version": "1.2.0",
          "state": {
            "_model_module": "@jupyter-widgets/base",
            "_model_module_version": "1.2.0",
            "_model_name": "LayoutModel",
            "_view_count": null,
            "_view_module": "@jupyter-widgets/base",
            "_view_module_version": "1.2.0",
            "_view_name": "LayoutView",
            "align_content": null,
            "align_items": null,
            "align_self": null,
            "border": null,
            "bottom": null,
            "display": null,
            "flex": null,
            "flex_flow": null,
            "grid_area": null,
            "grid_auto_columns": null,
            "grid_auto_flow": null,
            "grid_auto_rows": null,
            "grid_column": null,
            "grid_gap": null,
            "grid_row": null,
            "grid_template_areas": null,
            "grid_template_columns": null,
            "grid_template_rows": null,
            "height": null,
            "justify_content": null,
            "justify_items": null,
            "left": null,
            "margin": null,
            "max_height": null,
            "max_width": null,
            "min_height": null,
            "min_width": null,
            "object_fit": null,
            "object_position": null,
            "order": null,
            "overflow": null,
            "overflow_x": null,
            "overflow_y": null,
            "padding": null,
            "right": null,
            "top": null,
            "visibility": null,
            "width": null
          }
        },
        "ca5f9615b09b40d9b2d7dfafd0c5b793": {
          "model_module": "@jupyter-widgets/base",
          "model_name": "LayoutModel",
          "model_module_version": "1.2.0",
          "state": {
            "_model_module": "@jupyter-widgets/base",
            "_model_module_version": "1.2.0",
            "_model_name": "LayoutModel",
            "_view_count": null,
            "_view_module": "@jupyter-widgets/base",
            "_view_module_version": "1.2.0",
            "_view_name": "LayoutView",
            "align_content": null,
            "align_items": null,
            "align_self": null,
            "border": null,
            "bottom": null,
            "display": null,
            "flex": null,
            "flex_flow": null,
            "grid_area": null,
            "grid_auto_columns": null,
            "grid_auto_flow": null,
            "grid_auto_rows": null,
            "grid_column": null,
            "grid_gap": null,
            "grid_row": null,
            "grid_template_areas": null,
            "grid_template_columns": null,
            "grid_template_rows": null,
            "height": null,
            "justify_content": null,
            "justify_items": null,
            "left": null,
            "margin": null,
            "max_height": null,
            "max_width": null,
            "min_height": null,
            "min_width": null,
            "object_fit": null,
            "object_position": null,
            "order": null,
            "overflow": null,
            "overflow_x": null,
            "overflow_y": null,
            "padding": null,
            "right": null,
            "top": null,
            "visibility": null,
            "width": null
          }
        },
        "75cde24a6a364d21a950a7ac6f7b3ffd": {
          "model_module": "@jupyter-widgets/controls",
          "model_name": "DescriptionStyleModel",
          "model_module_version": "1.5.0",
          "state": {
            "_model_module": "@jupyter-widgets/controls",
            "_model_module_version": "1.5.0",
            "_model_name": "DescriptionStyleModel",
            "_view_count": null,
            "_view_module": "@jupyter-widgets/base",
            "_view_module_version": "1.2.0",
            "_view_name": "StyleView",
            "description_width": ""
          }
        },
        "5b9b56416a9748898273dcfd09d1fc74": {
          "model_module": "@jupyter-widgets/base",
          "model_name": "LayoutModel",
          "model_module_version": "1.2.0",
          "state": {
            "_model_module": "@jupyter-widgets/base",
            "_model_module_version": "1.2.0",
            "_model_name": "LayoutModel",
            "_view_count": null,
            "_view_module": "@jupyter-widgets/base",
            "_view_module_version": "1.2.0",
            "_view_name": "LayoutView",
            "align_content": null,
            "align_items": null,
            "align_self": null,
            "border": null,
            "bottom": null,
            "display": null,
            "flex": null,
            "flex_flow": null,
            "grid_area": null,
            "grid_auto_columns": null,
            "grid_auto_flow": null,
            "grid_auto_rows": null,
            "grid_column": null,
            "grid_gap": null,
            "grid_row": null,
            "grid_template_areas": null,
            "grid_template_columns": null,
            "grid_template_rows": null,
            "height": null,
            "justify_content": null,
            "justify_items": null,
            "left": null,
            "margin": null,
            "max_height": null,
            "max_width": null,
            "min_height": null,
            "min_width": null,
            "object_fit": null,
            "object_position": null,
            "order": null,
            "overflow": null,
            "overflow_x": null,
            "overflow_y": null,
            "padding": null,
            "right": null,
            "top": null,
            "visibility": null,
            "width": null
          }
        },
        "4e3c06667c94470b90687aa4d07e3b82": {
          "model_module": "@jupyter-widgets/controls",
          "model_name": "ProgressStyleModel",
          "model_module_version": "1.5.0",
          "state": {
            "_model_module": "@jupyter-widgets/controls",
            "_model_module_version": "1.5.0",
            "_model_name": "ProgressStyleModel",
            "_view_count": null,
            "_view_module": "@jupyter-widgets/base",
            "_view_module_version": "1.2.0",
            "_view_name": "StyleView",
            "bar_color": null,
            "description_width": ""
          }
        },
        "1638ffa23c5a47bea0c23c297d444d3f": {
          "model_module": "@jupyter-widgets/base",
          "model_name": "LayoutModel",
          "model_module_version": "1.2.0",
          "state": {
            "_model_module": "@jupyter-widgets/base",
            "_model_module_version": "1.2.0",
            "_model_name": "LayoutModel",
            "_view_count": null,
            "_view_module": "@jupyter-widgets/base",
            "_view_module_version": "1.2.0",
            "_view_name": "LayoutView",
            "align_content": null,
            "align_items": null,
            "align_self": null,
            "border": null,
            "bottom": null,
            "display": null,
            "flex": null,
            "flex_flow": null,
            "grid_area": null,
            "grid_auto_columns": null,
            "grid_auto_flow": null,
            "grid_auto_rows": null,
            "grid_column": null,
            "grid_gap": null,
            "grid_row": null,
            "grid_template_areas": null,
            "grid_template_columns": null,
            "grid_template_rows": null,
            "height": null,
            "justify_content": null,
            "justify_items": null,
            "left": null,
            "margin": null,
            "max_height": null,
            "max_width": null,
            "min_height": null,
            "min_width": null,
            "object_fit": null,
            "object_position": null,
            "order": null,
            "overflow": null,
            "overflow_x": null,
            "overflow_y": null,
            "padding": null,
            "right": null,
            "top": null,
            "visibility": null,
            "width": null
          }
        },
        "5bf63f7a2b7344f19dd11939c9375a5c": {
          "model_module": "@jupyter-widgets/controls",
          "model_name": "DescriptionStyleModel",
          "model_module_version": "1.5.0",
          "state": {
            "_model_module": "@jupyter-widgets/controls",
            "_model_module_version": "1.5.0",
            "_model_name": "DescriptionStyleModel",
            "_view_count": null,
            "_view_module": "@jupyter-widgets/base",
            "_view_module_version": "1.2.0",
            "_view_name": "StyleView",
            "description_width": ""
          }
        },
        "3e86a4d22a664d0f992eda7c53dbcb3e": {
          "model_module": "@jupyter-widgets/controls",
          "model_name": "HBoxModel",
          "model_module_version": "1.5.0",
          "state": {
            "_dom_classes": [],
            "_model_module": "@jupyter-widgets/controls",
            "_model_module_version": "1.5.0",
            "_model_name": "HBoxModel",
            "_view_count": null,
            "_view_module": "@jupyter-widgets/controls",
            "_view_module_version": "1.5.0",
            "_view_name": "HBoxView",
            "box_style": "",
            "children": [
              "IPY_MODEL_5c9f7cbde2ec4806921be0d4cd483d69",
              "IPY_MODEL_7fad394bae7f43f5b424ec1ebb3dfa2c",
              "IPY_MODEL_e8392e04acf24a8f8bfa46be55c2003e"
            ],
            "layout": "IPY_MODEL_68565bc58904498f81873b76077def1a"
          }
        },
        "5c9f7cbde2ec4806921be0d4cd483d69": {
          "model_module": "@jupyter-widgets/controls",
          "model_name": "HTMLModel",
          "model_module_version": "1.5.0",
          "state": {
            "_dom_classes": [],
            "_model_module": "@jupyter-widgets/controls",
            "_model_module_version": "1.5.0",
            "_model_name": "HTMLModel",
            "_view_count": null,
            "_view_module": "@jupyter-widgets/controls",
            "_view_module_version": "1.5.0",
            "_view_name": "HTMLView",
            "description": "",
            "description_tooltip": null,
            "layout": "IPY_MODEL_1c825c5f0c354390a10ad5e418d82c93",
            "placeholder": "​",
            "style": "IPY_MODEL_14a9f9207f704906baf9d0beaadec6e8",
            "value": "config.json: 100%"
          }
        },
        "7fad394bae7f43f5b424ec1ebb3dfa2c": {
          "model_module": "@jupyter-widgets/controls",
          "model_name": "FloatProgressModel",
          "model_module_version": "1.5.0",
          "state": {
            "_dom_classes": [],
            "_model_module": "@jupyter-widgets/controls",
            "_model_module_version": "1.5.0",
            "_model_name": "FloatProgressModel",
            "_view_count": null,
            "_view_module": "@jupyter-widgets/controls",
            "_view_module_version": "1.5.0",
            "_view_name": "ProgressView",
            "bar_style": "success",
            "description": "",
            "description_tooltip": null,
            "layout": "IPY_MODEL_683c3df99225413ea13290ed156bb4e6",
            "max": 689,
            "min": 0,
            "orientation": "horizontal",
            "style": "IPY_MODEL_9da927739ac04429bf48d71ab85dce06",
            "value": 689
          }
        },
        "e8392e04acf24a8f8bfa46be55c2003e": {
          "model_module": "@jupyter-widgets/controls",
          "model_name": "HTMLModel",
          "model_module_version": "1.5.0",
          "state": {
            "_dom_classes": [],
            "_model_module": "@jupyter-widgets/controls",
            "_model_module_version": "1.5.0",
            "_model_name": "HTMLModel",
            "_view_count": null,
            "_view_module": "@jupyter-widgets/controls",
            "_view_module_version": "1.5.0",
            "_view_name": "HTMLView",
            "description": "",
            "description_tooltip": null,
            "layout": "IPY_MODEL_84fece424afa4766b7b295fc4db7ba3a",
            "placeholder": "​",
            "style": "IPY_MODEL_d7f20225499a4b729190ff62db00aff0",
            "value": " 689/689 [00:00&lt;00:00, 55.2kB/s]"
          }
        },
        "68565bc58904498f81873b76077def1a": {
          "model_module": "@jupyter-widgets/base",
          "model_name": "LayoutModel",
          "model_module_version": "1.2.0",
          "state": {
            "_model_module": "@jupyter-widgets/base",
            "_model_module_version": "1.2.0",
            "_model_name": "LayoutModel",
            "_view_count": null,
            "_view_module": "@jupyter-widgets/base",
            "_view_module_version": "1.2.0",
            "_view_name": "LayoutView",
            "align_content": null,
            "align_items": null,
            "align_self": null,
            "border": null,
            "bottom": null,
            "display": null,
            "flex": null,
            "flex_flow": null,
            "grid_area": null,
            "grid_auto_columns": null,
            "grid_auto_flow": null,
            "grid_auto_rows": null,
            "grid_column": null,
            "grid_gap": null,
            "grid_row": null,
            "grid_template_areas": null,
            "grid_template_columns": null,
            "grid_template_rows": null,
            "height": null,
            "justify_content": null,
            "justify_items": null,
            "left": null,
            "margin": null,
            "max_height": null,
            "max_width": null,
            "min_height": null,
            "min_width": null,
            "object_fit": null,
            "object_position": null,
            "order": null,
            "overflow": null,
            "overflow_x": null,
            "overflow_y": null,
            "padding": null,
            "right": null,
            "top": null,
            "visibility": null,
            "width": null
          }
        },
        "1c825c5f0c354390a10ad5e418d82c93": {
          "model_module": "@jupyter-widgets/base",
          "model_name": "LayoutModel",
          "model_module_version": "1.2.0",
          "state": {
            "_model_module": "@jupyter-widgets/base",
            "_model_module_version": "1.2.0",
            "_model_name": "LayoutModel",
            "_view_count": null,
            "_view_module": "@jupyter-widgets/base",
            "_view_module_version": "1.2.0",
            "_view_name": "LayoutView",
            "align_content": null,
            "align_items": null,
            "align_self": null,
            "border": null,
            "bottom": null,
            "display": null,
            "flex": null,
            "flex_flow": null,
            "grid_area": null,
            "grid_auto_columns": null,
            "grid_auto_flow": null,
            "grid_auto_rows": null,
            "grid_column": null,
            "grid_gap": null,
            "grid_row": null,
            "grid_template_areas": null,
            "grid_template_columns": null,
            "grid_template_rows": null,
            "height": null,
            "justify_content": null,
            "justify_items": null,
            "left": null,
            "margin": null,
            "max_height": null,
            "max_width": null,
            "min_height": null,
            "min_width": null,
            "object_fit": null,
            "object_position": null,
            "order": null,
            "overflow": null,
            "overflow_x": null,
            "overflow_y": null,
            "padding": null,
            "right": null,
            "top": null,
            "visibility": null,
            "width": null
          }
        },
        "14a9f9207f704906baf9d0beaadec6e8": {
          "model_module": "@jupyter-widgets/controls",
          "model_name": "DescriptionStyleModel",
          "model_module_version": "1.5.0",
          "state": {
            "_model_module": "@jupyter-widgets/controls",
            "_model_module_version": "1.5.0",
            "_model_name": "DescriptionStyleModel",
            "_view_count": null,
            "_view_module": "@jupyter-widgets/base",
            "_view_module_version": "1.2.0",
            "_view_name": "StyleView",
            "description_width": ""
          }
        },
        "683c3df99225413ea13290ed156bb4e6": {
          "model_module": "@jupyter-widgets/base",
          "model_name": "LayoutModel",
          "model_module_version": "1.2.0",
          "state": {
            "_model_module": "@jupyter-widgets/base",
            "_model_module_version": "1.2.0",
            "_model_name": "LayoutModel",
            "_view_count": null,
            "_view_module": "@jupyter-widgets/base",
            "_view_module_version": "1.2.0",
            "_view_name": "LayoutView",
            "align_content": null,
            "align_items": null,
            "align_self": null,
            "border": null,
            "bottom": null,
            "display": null,
            "flex": null,
            "flex_flow": null,
            "grid_area": null,
            "grid_auto_columns": null,
            "grid_auto_flow": null,
            "grid_auto_rows": null,
            "grid_column": null,
            "grid_gap": null,
            "grid_row": null,
            "grid_template_areas": null,
            "grid_template_columns": null,
            "grid_template_rows": null,
            "height": null,
            "justify_content": null,
            "justify_items": null,
            "left": null,
            "margin": null,
            "max_height": null,
            "max_width": null,
            "min_height": null,
            "min_width": null,
            "object_fit": null,
            "object_position": null,
            "order": null,
            "overflow": null,
            "overflow_x": null,
            "overflow_y": null,
            "padding": null,
            "right": null,
            "top": null,
            "visibility": null,
            "width": null
          }
        },
        "9da927739ac04429bf48d71ab85dce06": {
          "model_module": "@jupyter-widgets/controls",
          "model_name": "ProgressStyleModel",
          "model_module_version": "1.5.0",
          "state": {
            "_model_module": "@jupyter-widgets/controls",
            "_model_module_version": "1.5.0",
            "_model_name": "ProgressStyleModel",
            "_view_count": null,
            "_view_module": "@jupyter-widgets/base",
            "_view_module_version": "1.2.0",
            "_view_name": "StyleView",
            "bar_color": null,
            "description_width": ""
          }
        },
        "84fece424afa4766b7b295fc4db7ba3a": {
          "model_module": "@jupyter-widgets/base",
          "model_name": "LayoutModel",
          "model_module_version": "1.2.0",
          "state": {
            "_model_module": "@jupyter-widgets/base",
            "_model_module_version": "1.2.0",
            "_model_name": "LayoutModel",
            "_view_count": null,
            "_view_module": "@jupyter-widgets/base",
            "_view_module_version": "1.2.0",
            "_view_name": "LayoutView",
            "align_content": null,
            "align_items": null,
            "align_self": null,
            "border": null,
            "bottom": null,
            "display": null,
            "flex": null,
            "flex_flow": null,
            "grid_area": null,
            "grid_auto_columns": null,
            "grid_auto_flow": null,
            "grid_auto_rows": null,
            "grid_column": null,
            "grid_gap": null,
            "grid_row": null,
            "grid_template_areas": null,
            "grid_template_columns": null,
            "grid_template_rows": null,
            "height": null,
            "justify_content": null,
            "justify_items": null,
            "left": null,
            "margin": null,
            "max_height": null,
            "max_width": null,
            "min_height": null,
            "min_width": null,
            "object_fit": null,
            "object_position": null,
            "order": null,
            "overflow": null,
            "overflow_x": null,
            "overflow_y": null,
            "padding": null,
            "right": null,
            "top": null,
            "visibility": null,
            "width": null
          }
        },
        "d7f20225499a4b729190ff62db00aff0": {
          "model_module": "@jupyter-widgets/controls",
          "model_name": "DescriptionStyleModel",
          "model_module_version": "1.5.0",
          "state": {
            "_model_module": "@jupyter-widgets/controls",
            "_model_module_version": "1.5.0",
            "_model_name": "DescriptionStyleModel",
            "_view_count": null,
            "_view_module": "@jupyter-widgets/base",
            "_view_module_version": "1.2.0",
            "_view_name": "StyleView",
            "description_width": ""
          }
        },
        "f256c795153e4d76a98c7935058412c2": {
          "model_module": "@jupyter-widgets/controls",
          "model_name": "HBoxModel",
          "model_module_version": "1.5.0",
          "state": {
            "_dom_classes": [],
            "_model_module": "@jupyter-widgets/controls",
            "_model_module_version": "1.5.0",
            "_model_name": "HBoxModel",
            "_view_count": null,
            "_view_module": "@jupyter-widgets/controls",
            "_view_module_version": "1.5.0",
            "_view_name": "HBoxView",
            "box_style": "",
            "children": [
              "IPY_MODEL_6d030e3266d64a2c8e686232244953f5",
              "IPY_MODEL_b4be3bcf047446fd8234e11e475c2873",
              "IPY_MODEL_35b6e49b252d4b3eb90b3d809b7ec6f7"
            ],
            "layout": "IPY_MODEL_abda5c15b13d40b0bcb35d131bdd35de"
          }
        },
        "6d030e3266d64a2c8e686232244953f5": {
          "model_module": "@jupyter-widgets/controls",
          "model_name": "HTMLModel",
          "model_module_version": "1.5.0",
          "state": {
            "_dom_classes": [],
            "_model_module": "@jupyter-widgets/controls",
            "_model_module_version": "1.5.0",
            "_model_name": "HTMLModel",
            "_view_count": null,
            "_view_module": "@jupyter-widgets/controls",
            "_view_module_version": "1.5.0",
            "_view_name": "HTMLView",
            "description": "",
            "description_tooltip": null,
            "layout": "IPY_MODEL_7bf3b9e02d6f4e138ee45b6c71d9b3ad",
            "placeholder": "​",
            "style": "IPY_MODEL_32a18e6301ec4aaeabb05a962816ab03",
            "value": "vocab.json: 100%"
          }
        },
        "b4be3bcf047446fd8234e11e475c2873": {
          "model_module": "@jupyter-widgets/controls",
          "model_name": "FloatProgressModel",
          "model_module_version": "1.5.0",
          "state": {
            "_dom_classes": [],
            "_model_module": "@jupyter-widgets/controls",
            "_model_module_version": "1.5.0",
            "_model_name": "FloatProgressModel",
            "_view_count": null,
            "_view_module": "@jupyter-widgets/controls",
            "_view_module_version": "1.5.0",
            "_view_name": "ProgressView",
            "bar_style": "success",
            "description": "",
            "description_tooltip": null,
            "layout": "IPY_MODEL_762c068c0ce0492a80e49cf56f60a4f6",
            "max": 1042301,
            "min": 0,
            "orientation": "horizontal",
            "style": "IPY_MODEL_9711652aa36a42ddbfe94c529fca4f00",
            "value": 1042301
          }
        },
        "35b6e49b252d4b3eb90b3d809b7ec6f7": {
          "model_module": "@jupyter-widgets/controls",
          "model_name": "HTMLModel",
          "model_module_version": "1.5.0",
          "state": {
            "_dom_classes": [],
            "_model_module": "@jupyter-widgets/controls",
            "_model_module_version": "1.5.0",
            "_model_name": "HTMLModel",
            "_view_count": null,
            "_view_module": "@jupyter-widgets/controls",
            "_view_module_version": "1.5.0",
            "_view_name": "HTMLView",
            "description": "",
            "description_tooltip": null,
            "layout": "IPY_MODEL_e8e86718dd35468c9e8db598c5971209",
            "placeholder": "​",
            "style": "IPY_MODEL_07996652fe464c039fb2a8364201174f",
            "value": " 1.04M/1.04M [00:00&lt;00:00, 6.86MB/s]"
          }
        },
        "abda5c15b13d40b0bcb35d131bdd35de": {
          "model_module": "@jupyter-widgets/base",
          "model_name": "LayoutModel",
          "model_module_version": "1.2.0",
          "state": {
            "_model_module": "@jupyter-widgets/base",
            "_model_module_version": "1.2.0",
            "_model_name": "LayoutModel",
            "_view_count": null,
            "_view_module": "@jupyter-widgets/base",
            "_view_module_version": "1.2.0",
            "_view_name": "LayoutView",
            "align_content": null,
            "align_items": null,
            "align_self": null,
            "border": null,
            "bottom": null,
            "display": null,
            "flex": null,
            "flex_flow": null,
            "grid_area": null,
            "grid_auto_columns": null,
            "grid_auto_flow": null,
            "grid_auto_rows": null,
            "grid_column": null,
            "grid_gap": null,
            "grid_row": null,
            "grid_template_areas": null,
            "grid_template_columns": null,
            "grid_template_rows": null,
            "height": null,
            "justify_content": null,
            "justify_items": null,
            "left": null,
            "margin": null,
            "max_height": null,
            "max_width": null,
            "min_height": null,
            "min_width": null,
            "object_fit": null,
            "object_position": null,
            "order": null,
            "overflow": null,
            "overflow_x": null,
            "overflow_y": null,
            "padding": null,
            "right": null,
            "top": null,
            "visibility": null,
            "width": null
          }
        },
        "7bf3b9e02d6f4e138ee45b6c71d9b3ad": {
          "model_module": "@jupyter-widgets/base",
          "model_name": "LayoutModel",
          "model_module_version": "1.2.0",
          "state": {
            "_model_module": "@jupyter-widgets/base",
            "_model_module_version": "1.2.0",
            "_model_name": "LayoutModel",
            "_view_count": null,
            "_view_module": "@jupyter-widgets/base",
            "_view_module_version": "1.2.0",
            "_view_name": "LayoutView",
            "align_content": null,
            "align_items": null,
            "align_self": null,
            "border": null,
            "bottom": null,
            "display": null,
            "flex": null,
            "flex_flow": null,
            "grid_area": null,
            "grid_auto_columns": null,
            "grid_auto_flow": null,
            "grid_auto_rows": null,
            "grid_column": null,
            "grid_gap": null,
            "grid_row": null,
            "grid_template_areas": null,
            "grid_template_columns": null,
            "grid_template_rows": null,
            "height": null,
            "justify_content": null,
            "justify_items": null,
            "left": null,
            "margin": null,
            "max_height": null,
            "max_width": null,
            "min_height": null,
            "min_width": null,
            "object_fit": null,
            "object_position": null,
            "order": null,
            "overflow": null,
            "overflow_x": null,
            "overflow_y": null,
            "padding": null,
            "right": null,
            "top": null,
            "visibility": null,
            "width": null
          }
        },
        "32a18e6301ec4aaeabb05a962816ab03": {
          "model_module": "@jupyter-widgets/controls",
          "model_name": "DescriptionStyleModel",
          "model_module_version": "1.5.0",
          "state": {
            "_model_module": "@jupyter-widgets/controls",
            "_model_module_version": "1.5.0",
            "_model_name": "DescriptionStyleModel",
            "_view_count": null,
            "_view_module": "@jupyter-widgets/base",
            "_view_module_version": "1.2.0",
            "_view_name": "StyleView",
            "description_width": ""
          }
        },
        "762c068c0ce0492a80e49cf56f60a4f6": {
          "model_module": "@jupyter-widgets/base",
          "model_name": "LayoutModel",
          "model_module_version": "1.2.0",
          "state": {
            "_model_module": "@jupyter-widgets/base",
            "_model_module_version": "1.2.0",
            "_model_name": "LayoutModel",
            "_view_count": null,
            "_view_module": "@jupyter-widgets/base",
            "_view_module_version": "1.2.0",
            "_view_name": "LayoutView",
            "align_content": null,
            "align_items": null,
            "align_self": null,
            "border": null,
            "bottom": null,
            "display": null,
            "flex": null,
            "flex_flow": null,
            "grid_area": null,
            "grid_auto_columns": null,
            "grid_auto_flow": null,
            "grid_auto_rows": null,
            "grid_column": null,
            "grid_gap": null,
            "grid_row": null,
            "grid_template_areas": null,
            "grid_template_columns": null,
            "grid_template_rows": null,
            "height": null,
            "justify_content": null,
            "justify_items": null,
            "left": null,
            "margin": null,
            "max_height": null,
            "max_width": null,
            "min_height": null,
            "min_width": null,
            "object_fit": null,
            "object_position": null,
            "order": null,
            "overflow": null,
            "overflow_x": null,
            "overflow_y": null,
            "padding": null,
            "right": null,
            "top": null,
            "visibility": null,
            "width": null
          }
        },
        "9711652aa36a42ddbfe94c529fca4f00": {
          "model_module": "@jupyter-widgets/controls",
          "model_name": "ProgressStyleModel",
          "model_module_version": "1.5.0",
          "state": {
            "_model_module": "@jupyter-widgets/controls",
            "_model_module_version": "1.5.0",
            "_model_name": "ProgressStyleModel",
            "_view_count": null,
            "_view_module": "@jupyter-widgets/base",
            "_view_module_version": "1.2.0",
            "_view_name": "StyleView",
            "bar_color": null,
            "description_width": ""
          }
        },
        "e8e86718dd35468c9e8db598c5971209": {
          "model_module": "@jupyter-widgets/base",
          "model_name": "LayoutModel",
          "model_module_version": "1.2.0",
          "state": {
            "_model_module": "@jupyter-widgets/base",
            "_model_module_version": "1.2.0",
            "_model_name": "LayoutModel",
            "_view_count": null,
            "_view_module": "@jupyter-widgets/base",
            "_view_module_version": "1.2.0",
            "_view_name": "LayoutView",
            "align_content": null,
            "align_items": null,
            "align_self": null,
            "border": null,
            "bottom": null,
            "display": null,
            "flex": null,
            "flex_flow": null,
            "grid_area": null,
            "grid_auto_columns": null,
            "grid_auto_flow": null,
            "grid_auto_rows": null,
            "grid_column": null,
            "grid_gap": null,
            "grid_row": null,
            "grid_template_areas": null,
            "grid_template_columns": null,
            "grid_template_rows": null,
            "height": null,
            "justify_content": null,
            "justify_items": null,
            "left": null,
            "margin": null,
            "max_height": null,
            "max_width": null,
            "min_height": null,
            "min_width": null,
            "object_fit": null,
            "object_position": null,
            "order": null,
            "overflow": null,
            "overflow_x": null,
            "overflow_y": null,
            "padding": null,
            "right": null,
            "top": null,
            "visibility": null,
            "width": null
          }
        },
        "07996652fe464c039fb2a8364201174f": {
          "model_module": "@jupyter-widgets/controls",
          "model_name": "DescriptionStyleModel",
          "model_module_version": "1.5.0",
          "state": {
            "_model_module": "@jupyter-widgets/controls",
            "_model_module_version": "1.5.0",
            "_model_name": "DescriptionStyleModel",
            "_view_count": null,
            "_view_module": "@jupyter-widgets/base",
            "_view_module_version": "1.2.0",
            "_view_name": "StyleView",
            "description_width": ""
          }
        },
        "8e5d71d2410e4d498cae50bfb52f9507": {
          "model_module": "@jupyter-widgets/controls",
          "model_name": "HBoxModel",
          "model_module_version": "1.5.0",
          "state": {
            "_dom_classes": [],
            "_model_module": "@jupyter-widgets/controls",
            "_model_module_version": "1.5.0",
            "_model_name": "HBoxModel",
            "_view_count": null,
            "_view_module": "@jupyter-widgets/controls",
            "_view_module_version": "1.5.0",
            "_view_name": "HBoxView",
            "box_style": "",
            "children": [
              "IPY_MODEL_cf8da9f87fe34f059053605f89ea8b6a",
              "IPY_MODEL_5f175126a46844ddacce6e9c11dd9395",
              "IPY_MODEL_d9025f43f0414d75b29f4383b36b654e"
            ],
            "layout": "IPY_MODEL_392c42c5f0fb44fa9c437c17dffd31c1"
          }
        },
        "cf8da9f87fe34f059053605f89ea8b6a": {
          "model_module": "@jupyter-widgets/controls",
          "model_name": "HTMLModel",
          "model_module_version": "1.5.0",
          "state": {
            "_dom_classes": [],
            "_model_module": "@jupyter-widgets/controls",
            "_model_module_version": "1.5.0",
            "_model_name": "HTMLModel",
            "_view_count": null,
            "_view_module": "@jupyter-widgets/controls",
            "_view_module_version": "1.5.0",
            "_view_name": "HTMLView",
            "description": "",
            "description_tooltip": null,
            "layout": "IPY_MODEL_26a96b093c0844288744292052019b5a",
            "placeholder": "​",
            "style": "IPY_MODEL_0a9469fb489743358375f3f1d403272f",
            "value": "merges.txt: 100%"
          }
        },
        "5f175126a46844ddacce6e9c11dd9395": {
          "model_module": "@jupyter-widgets/controls",
          "model_name": "FloatProgressModel",
          "model_module_version": "1.5.0",
          "state": {
            "_dom_classes": [],
            "_model_module": "@jupyter-widgets/controls",
            "_model_module_version": "1.5.0",
            "_model_name": "FloatProgressModel",
            "_view_count": null,
            "_view_module": "@jupyter-widgets/controls",
            "_view_module_version": "1.5.0",
            "_view_name": "ProgressView",
            "bar_style": "success",
            "description": "",
            "description_tooltip": null,
            "layout": "IPY_MODEL_478902eb8be74832af2517cfa4221b1a",
            "max": 456318,
            "min": 0,
            "orientation": "horizontal",
            "style": "IPY_MODEL_5a4e66693cf647bab9e2897616f8ba45",
            "value": 456318
          }
        },
        "d9025f43f0414d75b29f4383b36b654e": {
          "model_module": "@jupyter-widgets/controls",
          "model_name": "HTMLModel",
          "model_module_version": "1.5.0",
          "state": {
            "_dom_classes": [],
            "_model_module": "@jupyter-widgets/controls",
            "_model_module_version": "1.5.0",
            "_model_name": "HTMLModel",
            "_view_count": null,
            "_view_module": "@jupyter-widgets/controls",
            "_view_module_version": "1.5.0",
            "_view_name": "HTMLView",
            "description": "",
            "description_tooltip": null,
            "layout": "IPY_MODEL_bc613df1bfa24e7db211c08884ce2645",
            "placeholder": "​",
            "style": "IPY_MODEL_796b862384134ceb8d6d453f9466ebb9",
            "value": " 456k/456k [00:00&lt;00:00, 15.7MB/s]"
          }
        },
        "392c42c5f0fb44fa9c437c17dffd31c1": {
          "model_module": "@jupyter-widgets/base",
          "model_name": "LayoutModel",
          "model_module_version": "1.2.0",
          "state": {
            "_model_module": "@jupyter-widgets/base",
            "_model_module_version": "1.2.0",
            "_model_name": "LayoutModel",
            "_view_count": null,
            "_view_module": "@jupyter-widgets/base",
            "_view_module_version": "1.2.0",
            "_view_name": "LayoutView",
            "align_content": null,
            "align_items": null,
            "align_self": null,
            "border": null,
            "bottom": null,
            "display": null,
            "flex": null,
            "flex_flow": null,
            "grid_area": null,
            "grid_auto_columns": null,
            "grid_auto_flow": null,
            "grid_auto_rows": null,
            "grid_column": null,
            "grid_gap": null,
            "grid_row": null,
            "grid_template_areas": null,
            "grid_template_columns": null,
            "grid_template_rows": null,
            "height": null,
            "justify_content": null,
            "justify_items": null,
            "left": null,
            "margin": null,
            "max_height": null,
            "max_width": null,
            "min_height": null,
            "min_width": null,
            "object_fit": null,
            "object_position": null,
            "order": null,
            "overflow": null,
            "overflow_x": null,
            "overflow_y": null,
            "padding": null,
            "right": null,
            "top": null,
            "visibility": null,
            "width": null
          }
        },
        "26a96b093c0844288744292052019b5a": {
          "model_module": "@jupyter-widgets/base",
          "model_name": "LayoutModel",
          "model_module_version": "1.2.0",
          "state": {
            "_model_module": "@jupyter-widgets/base",
            "_model_module_version": "1.2.0",
            "_model_name": "LayoutModel",
            "_view_count": null,
            "_view_module": "@jupyter-widgets/base",
            "_view_module_version": "1.2.0",
            "_view_name": "LayoutView",
            "align_content": null,
            "align_items": null,
            "align_self": null,
            "border": null,
            "bottom": null,
            "display": null,
            "flex": null,
            "flex_flow": null,
            "grid_area": null,
            "grid_auto_columns": null,
            "grid_auto_flow": null,
            "grid_auto_rows": null,
            "grid_column": null,
            "grid_gap": null,
            "grid_row": null,
            "grid_template_areas": null,
            "grid_template_columns": null,
            "grid_template_rows": null,
            "height": null,
            "justify_content": null,
            "justify_items": null,
            "left": null,
            "margin": null,
            "max_height": null,
            "max_width": null,
            "min_height": null,
            "min_width": null,
            "object_fit": null,
            "object_position": null,
            "order": null,
            "overflow": null,
            "overflow_x": null,
            "overflow_y": null,
            "padding": null,
            "right": null,
            "top": null,
            "visibility": null,
            "width": null
          }
        },
        "0a9469fb489743358375f3f1d403272f": {
          "model_module": "@jupyter-widgets/controls",
          "model_name": "DescriptionStyleModel",
          "model_module_version": "1.5.0",
          "state": {
            "_model_module": "@jupyter-widgets/controls",
            "_model_module_version": "1.5.0",
            "_model_name": "DescriptionStyleModel",
            "_view_count": null,
            "_view_module": "@jupyter-widgets/base",
            "_view_module_version": "1.2.0",
            "_view_name": "StyleView",
            "description_width": ""
          }
        },
        "478902eb8be74832af2517cfa4221b1a": {
          "model_module": "@jupyter-widgets/base",
          "model_name": "LayoutModel",
          "model_module_version": "1.2.0",
          "state": {
            "_model_module": "@jupyter-widgets/base",
            "_model_module_version": "1.2.0",
            "_model_name": "LayoutModel",
            "_view_count": null,
            "_view_module": "@jupyter-widgets/base",
            "_view_module_version": "1.2.0",
            "_view_name": "LayoutView",
            "align_content": null,
            "align_items": null,
            "align_self": null,
            "border": null,
            "bottom": null,
            "display": null,
            "flex": null,
            "flex_flow": null,
            "grid_area": null,
            "grid_auto_columns": null,
            "grid_auto_flow": null,
            "grid_auto_rows": null,
            "grid_column": null,
            "grid_gap": null,
            "grid_row": null,
            "grid_template_areas": null,
            "grid_template_columns": null,
            "grid_template_rows": null,
            "height": null,
            "justify_content": null,
            "justify_items": null,
            "left": null,
            "margin": null,
            "max_height": null,
            "max_width": null,
            "min_height": null,
            "min_width": null,
            "object_fit": null,
            "object_position": null,
            "order": null,
            "overflow": null,
            "overflow_x": null,
            "overflow_y": null,
            "padding": null,
            "right": null,
            "top": null,
            "visibility": null,
            "width": null
          }
        },
        "5a4e66693cf647bab9e2897616f8ba45": {
          "model_module": "@jupyter-widgets/controls",
          "model_name": "ProgressStyleModel",
          "model_module_version": "1.5.0",
          "state": {
            "_model_module": "@jupyter-widgets/controls",
            "_model_module_version": "1.5.0",
            "_model_name": "ProgressStyleModel",
            "_view_count": null,
            "_view_module": "@jupyter-widgets/base",
            "_view_module_version": "1.2.0",
            "_view_name": "StyleView",
            "bar_color": null,
            "description_width": ""
          }
        },
        "bc613df1bfa24e7db211c08884ce2645": {
          "model_module": "@jupyter-widgets/base",
          "model_name": "LayoutModel",
          "model_module_version": "1.2.0",
          "state": {
            "_model_module": "@jupyter-widgets/base",
            "_model_module_version": "1.2.0",
            "_model_name": "LayoutModel",
            "_view_count": null,
            "_view_module": "@jupyter-widgets/base",
            "_view_module_version": "1.2.0",
            "_view_name": "LayoutView",
            "align_content": null,
            "align_items": null,
            "align_self": null,
            "border": null,
            "bottom": null,
            "display": null,
            "flex": null,
            "flex_flow": null,
            "grid_area": null,
            "grid_auto_columns": null,
            "grid_auto_flow": null,
            "grid_auto_rows": null,
            "grid_column": null,
            "grid_gap": null,
            "grid_row": null,
            "grid_template_areas": null,
            "grid_template_columns": null,
            "grid_template_rows": null,
            "height": null,
            "justify_content": null,
            "justify_items": null,
            "left": null,
            "margin": null,
            "max_height": null,
            "max_width": null,
            "min_height": null,
            "min_width": null,
            "object_fit": null,
            "object_position": null,
            "order": null,
            "overflow": null,
            "overflow_x": null,
            "overflow_y": null,
            "padding": null,
            "right": null,
            "top": null,
            "visibility": null,
            "width": null
          }
        },
        "796b862384134ceb8d6d453f9466ebb9": {
          "model_module": "@jupyter-widgets/controls",
          "model_name": "DescriptionStyleModel",
          "model_module_version": "1.5.0",
          "state": {
            "_model_module": "@jupyter-widgets/controls",
            "_model_module_version": "1.5.0",
            "_model_name": "DescriptionStyleModel",
            "_view_count": null,
            "_view_module": "@jupyter-widgets/base",
            "_view_module_version": "1.2.0",
            "_view_name": "StyleView",
            "description_width": ""
          }
        },
        "6d8b1c3db0d047b5b5dc8bb4a304be3e": {
          "model_module": "@jupyter-widgets/controls",
          "model_name": "HBoxModel",
          "model_module_version": "1.5.0",
          "state": {
            "_dom_classes": [],
            "_model_module": "@jupyter-widgets/controls",
            "_model_module_version": "1.5.0",
            "_model_name": "HBoxModel",
            "_view_count": null,
            "_view_module": "@jupyter-widgets/controls",
            "_view_module_version": "1.5.0",
            "_view_name": "HBoxView",
            "box_style": "",
            "children": [
              "IPY_MODEL_ce831673fb5c453f82a48fb52b346975",
              "IPY_MODEL_b50c4b3916c943b8b6b1f387f26f3126",
              "IPY_MODEL_9f3008bf929541fea7a703a1c136b23a"
            ],
            "layout": "IPY_MODEL_d32d130b425a434ba50869e8abff511d"
          }
        },
        "ce831673fb5c453f82a48fb52b346975": {
          "model_module": "@jupyter-widgets/controls",
          "model_name": "HTMLModel",
          "model_module_version": "1.5.0",
          "state": {
            "_dom_classes": [],
            "_model_module": "@jupyter-widgets/controls",
            "_model_module_version": "1.5.0",
            "_model_name": "HTMLModel",
            "_view_count": null,
            "_view_module": "@jupyter-widgets/controls",
            "_view_module_version": "1.5.0",
            "_view_name": "HTMLView",
            "description": "",
            "description_tooltip": null,
            "layout": "IPY_MODEL_41ac3019d26d47b3a2572bf9b4654dd5",
            "placeholder": "​",
            "style": "IPY_MODEL_9a9cea6f15fb464f98dee536724cb6d4",
            "value": "tokenizer.json: 100%"
          }
        },
        "b50c4b3916c943b8b6b1f387f26f3126": {
          "model_module": "@jupyter-widgets/controls",
          "model_name": "FloatProgressModel",
          "model_module_version": "1.5.0",
          "state": {
            "_dom_classes": [],
            "_model_module": "@jupyter-widgets/controls",
            "_model_module_version": "1.5.0",
            "_model_name": "FloatProgressModel",
            "_view_count": null,
            "_view_module": "@jupyter-widgets/controls",
            "_view_module_version": "1.5.0",
            "_view_name": "ProgressView",
            "bar_style": "success",
            "description": "",
            "description_tooltip": null,
            "layout": "IPY_MODEL_e72489e91e0641ff84a64dc86f5c93b1",
            "max": 1355256,
            "min": 0,
            "orientation": "horizontal",
            "style": "IPY_MODEL_835051f8b7b2422c8a321d4a575f974a",
            "value": 1355256
          }
        },
        "9f3008bf929541fea7a703a1c136b23a": {
          "model_module": "@jupyter-widgets/controls",
          "model_name": "HTMLModel",
          "model_module_version": "1.5.0",
          "state": {
            "_dom_classes": [],
            "_model_module": "@jupyter-widgets/controls",
            "_model_module_version": "1.5.0",
            "_model_name": "HTMLModel",
            "_view_count": null,
            "_view_module": "@jupyter-widgets/controls",
            "_view_module_version": "1.5.0",
            "_view_name": "HTMLView",
            "description": "",
            "description_tooltip": null,
            "layout": "IPY_MODEL_dfce160bc6f34fb3b20b87fe1f6c29a3",
            "placeholder": "​",
            "style": "IPY_MODEL_2cefe6882fe4422387d2336319168a20",
            "value": " 1.36M/1.36M [00:00&lt;00:00, 39.7MB/s]"
          }
        },
        "d32d130b425a434ba50869e8abff511d": {
          "model_module": "@jupyter-widgets/base",
          "model_name": "LayoutModel",
          "model_module_version": "1.2.0",
          "state": {
            "_model_module": "@jupyter-widgets/base",
            "_model_module_version": "1.2.0",
            "_model_name": "LayoutModel",
            "_view_count": null,
            "_view_module": "@jupyter-widgets/base",
            "_view_module_version": "1.2.0",
            "_view_name": "LayoutView",
            "align_content": null,
            "align_items": null,
            "align_self": null,
            "border": null,
            "bottom": null,
            "display": null,
            "flex": null,
            "flex_flow": null,
            "grid_area": null,
            "grid_auto_columns": null,
            "grid_auto_flow": null,
            "grid_auto_rows": null,
            "grid_column": null,
            "grid_gap": null,
            "grid_row": null,
            "grid_template_areas": null,
            "grid_template_columns": null,
            "grid_template_rows": null,
            "height": null,
            "justify_content": null,
            "justify_items": null,
            "left": null,
            "margin": null,
            "max_height": null,
            "max_width": null,
            "min_height": null,
            "min_width": null,
            "object_fit": null,
            "object_position": null,
            "order": null,
            "overflow": null,
            "overflow_x": null,
            "overflow_y": null,
            "padding": null,
            "right": null,
            "top": null,
            "visibility": null,
            "width": null
          }
        },
        "41ac3019d26d47b3a2572bf9b4654dd5": {
          "model_module": "@jupyter-widgets/base",
          "model_name": "LayoutModel",
          "model_module_version": "1.2.0",
          "state": {
            "_model_module": "@jupyter-widgets/base",
            "_model_module_version": "1.2.0",
            "_model_name": "LayoutModel",
            "_view_count": null,
            "_view_module": "@jupyter-widgets/base",
            "_view_module_version": "1.2.0",
            "_view_name": "LayoutView",
            "align_content": null,
            "align_items": null,
            "align_self": null,
            "border": null,
            "bottom": null,
            "display": null,
            "flex": null,
            "flex_flow": null,
            "grid_area": null,
            "grid_auto_columns": null,
            "grid_auto_flow": null,
            "grid_auto_rows": null,
            "grid_column": null,
            "grid_gap": null,
            "grid_row": null,
            "grid_template_areas": null,
            "grid_template_columns": null,
            "grid_template_rows": null,
            "height": null,
            "justify_content": null,
            "justify_items": null,
            "left": null,
            "margin": null,
            "max_height": null,
            "max_width": null,
            "min_height": null,
            "min_width": null,
            "object_fit": null,
            "object_position": null,
            "order": null,
            "overflow": null,
            "overflow_x": null,
            "overflow_y": null,
            "padding": null,
            "right": null,
            "top": null,
            "visibility": null,
            "width": null
          }
        },
        "9a9cea6f15fb464f98dee536724cb6d4": {
          "model_module": "@jupyter-widgets/controls",
          "model_name": "DescriptionStyleModel",
          "model_module_version": "1.5.0",
          "state": {
            "_model_module": "@jupyter-widgets/controls",
            "_model_module_version": "1.5.0",
            "_model_name": "DescriptionStyleModel",
            "_view_count": null,
            "_view_module": "@jupyter-widgets/base",
            "_view_module_version": "1.2.0",
            "_view_name": "StyleView",
            "description_width": ""
          }
        },
        "e72489e91e0641ff84a64dc86f5c93b1": {
          "model_module": "@jupyter-widgets/base",
          "model_name": "LayoutModel",
          "model_module_version": "1.2.0",
          "state": {
            "_model_module": "@jupyter-widgets/base",
            "_model_module_version": "1.2.0",
            "_model_name": "LayoutModel",
            "_view_count": null,
            "_view_module": "@jupyter-widgets/base",
            "_view_module_version": "1.2.0",
            "_view_name": "LayoutView",
            "align_content": null,
            "align_items": null,
            "align_self": null,
            "border": null,
            "bottom": null,
            "display": null,
            "flex": null,
            "flex_flow": null,
            "grid_area": null,
            "grid_auto_columns": null,
            "grid_auto_flow": null,
            "grid_auto_rows": null,
            "grid_column": null,
            "grid_gap": null,
            "grid_row": null,
            "grid_template_areas": null,
            "grid_template_columns": null,
            "grid_template_rows": null,
            "height": null,
            "justify_content": null,
            "justify_items": null,
            "left": null,
            "margin": null,
            "max_height": null,
            "max_width": null,
            "min_height": null,
            "min_width": null,
            "object_fit": null,
            "object_position": null,
            "order": null,
            "overflow": null,
            "overflow_x": null,
            "overflow_y": null,
            "padding": null,
            "right": null,
            "top": null,
            "visibility": null,
            "width": null
          }
        },
        "835051f8b7b2422c8a321d4a575f974a": {
          "model_module": "@jupyter-widgets/controls",
          "model_name": "ProgressStyleModel",
          "model_module_version": "1.5.0",
          "state": {
            "_model_module": "@jupyter-widgets/controls",
            "_model_module_version": "1.5.0",
            "_model_name": "ProgressStyleModel",
            "_view_count": null,
            "_view_module": "@jupyter-widgets/base",
            "_view_module_version": "1.2.0",
            "_view_name": "StyleView",
            "bar_color": null,
            "description_width": ""
          }
        },
        "dfce160bc6f34fb3b20b87fe1f6c29a3": {
          "model_module": "@jupyter-widgets/base",
          "model_name": "LayoutModel",
          "model_module_version": "1.2.0",
          "state": {
            "_model_module": "@jupyter-widgets/base",
            "_model_module_version": "1.2.0",
            "_model_name": "LayoutModel",
            "_view_count": null,
            "_view_module": "@jupyter-widgets/base",
            "_view_module_version": "1.2.0",
            "_view_name": "LayoutView",
            "align_content": null,
            "align_items": null,
            "align_self": null,
            "border": null,
            "bottom": null,
            "display": null,
            "flex": null,
            "flex_flow": null,
            "grid_area": null,
            "grid_auto_columns": null,
            "grid_auto_flow": null,
            "grid_auto_rows": null,
            "grid_column": null,
            "grid_gap": null,
            "grid_row": null,
            "grid_template_areas": null,
            "grid_template_columns": null,
            "grid_template_rows": null,
            "height": null,
            "justify_content": null,
            "justify_items": null,
            "left": null,
            "margin": null,
            "max_height": null,
            "max_width": null,
            "min_height": null,
            "min_width": null,
            "object_fit": null,
            "object_position": null,
            "order": null,
            "overflow": null,
            "overflow_x": null,
            "overflow_y": null,
            "padding": null,
            "right": null,
            "top": null,
            "visibility": null,
            "width": null
          }
        },
        "2cefe6882fe4422387d2336319168a20": {
          "model_module": "@jupyter-widgets/controls",
          "model_name": "DescriptionStyleModel",
          "model_module_version": "1.5.0",
          "state": {
            "_model_module": "@jupyter-widgets/controls",
            "_model_module_version": "1.5.0",
            "_model_name": "DescriptionStyleModel",
            "_view_count": null,
            "_view_module": "@jupyter-widgets/base",
            "_view_module_version": "1.2.0",
            "_view_name": "StyleView",
            "description_width": ""
          }
        }
      }
    }
  },
  "cells": [
    {
      "cell_type": "markdown",
      "source": [
        "**1. Imports**"
      ],
      "metadata": {
        "id": "dUM0yLdkzG-7"
      }
    },
    {
      "cell_type": "markdown",
      "source": [
        "Let's start with imports and installing Hugging Face datasets."
      ],
      "metadata": {
        "id": "1b3Hh5EawcGr"
      }
    },
    {
      "cell_type": "code",
      "execution_count": 1,
      "metadata": {
        "id": "Dv7EHbBAaqB9"
      },
      "outputs": [],
      "source": [
        "%%capture\n",
        "!pip install datasets"
      ]
    },
    {
      "cell_type": "code",
      "source": [
        "import torch\n",
        "import numpy as np\n",
        "from transformers import AutoTokenizer, Trainer, TrainingArguments, DataCollatorForLanguageModeling, AutoModelForCausalLM\n",
        "from datasets import load_dataset, concatenate_datasets, Dataset, DatasetDict\n",
        "from peft import LoraConfig, get_peft_model, TaskType"
      ],
      "metadata": {
        "id": "1NoSyaLbwgiz"
      },
      "execution_count": 2,
      "outputs": []
    },
    {
      "cell_type": "markdown",
      "source": [
        "**2. Tokenization and Data Blocks**"
      ],
      "metadata": {
        "id": "UWgtZ8AUzOKS"
      }
    },
    {
      "cell_type": "markdown",
      "source": [
        "Let's access our .txt files from Google Drive and prepare them with the tokenzier.\n",
        "\n",
        "*   Step 1. Read all files as a concatenated text and Tokenize everything.\n",
        "*   Step 2. Create blocks of data from the one long piece of tokens.\n",
        "*   Step 3. Make Hugging Face dataset.\n",
        "\n"
      ],
      "metadata": {
        "id": "3fdxReNcwhjx"
      }
    },
    {
      "cell_type": "code",
      "source": [
        "# mount Google Drive\n",
        "from google.colab import drive\n",
        "drive.mount('/content/drive')\n",
        "\n",
        "# set up tokenizer\n",
        "tokenizer = AutoTokenizer.from_pretrained(\"gpt2-xl\")\n",
        "tokenizer.pad_token = tokenizer.eos_token"
      ],
      "metadata": {
        "colab": {
          "base_uri": "https://localhost:8080/",
          "height": 316,
          "referenced_widgets": [
            "b7f08595d682481b9134489eadbb597c",
            "4de224af2abb460eaec401439b47e090",
            "c4528b285d47457eb3c56dcfd6f9b530",
            "b0cdf30300584eb7a5840674d9e7e2d5",
            "00838964ca1b457f8d32f9f8d1d63004",
            "ca5f9615b09b40d9b2d7dfafd0c5b793",
            "75cde24a6a364d21a950a7ac6f7b3ffd",
            "5b9b56416a9748898273dcfd09d1fc74",
            "4e3c06667c94470b90687aa4d07e3b82",
            "1638ffa23c5a47bea0c23c297d444d3f",
            "5bf63f7a2b7344f19dd11939c9375a5c",
            "3e86a4d22a664d0f992eda7c53dbcb3e",
            "5c9f7cbde2ec4806921be0d4cd483d69",
            "7fad394bae7f43f5b424ec1ebb3dfa2c",
            "e8392e04acf24a8f8bfa46be55c2003e",
            "68565bc58904498f81873b76077def1a",
            "1c825c5f0c354390a10ad5e418d82c93",
            "14a9f9207f704906baf9d0beaadec6e8",
            "683c3df99225413ea13290ed156bb4e6",
            "9da927739ac04429bf48d71ab85dce06",
            "84fece424afa4766b7b295fc4db7ba3a",
            "d7f20225499a4b729190ff62db00aff0",
            "f256c795153e4d76a98c7935058412c2",
            "6d030e3266d64a2c8e686232244953f5",
            "b4be3bcf047446fd8234e11e475c2873",
            "35b6e49b252d4b3eb90b3d809b7ec6f7",
            "abda5c15b13d40b0bcb35d131bdd35de",
            "7bf3b9e02d6f4e138ee45b6c71d9b3ad",
            "32a18e6301ec4aaeabb05a962816ab03",
            "762c068c0ce0492a80e49cf56f60a4f6",
            "9711652aa36a42ddbfe94c529fca4f00",
            "e8e86718dd35468c9e8db598c5971209",
            "07996652fe464c039fb2a8364201174f",
            "8e5d71d2410e4d498cae50bfb52f9507",
            "cf8da9f87fe34f059053605f89ea8b6a",
            "5f175126a46844ddacce6e9c11dd9395",
            "d9025f43f0414d75b29f4383b36b654e",
            "392c42c5f0fb44fa9c437c17dffd31c1",
            "26a96b093c0844288744292052019b5a",
            "0a9469fb489743358375f3f1d403272f",
            "478902eb8be74832af2517cfa4221b1a",
            "5a4e66693cf647bab9e2897616f8ba45",
            "bc613df1bfa24e7db211c08884ce2645",
            "796b862384134ceb8d6d453f9466ebb9",
            "6d8b1c3db0d047b5b5dc8bb4a304be3e",
            "ce831673fb5c453f82a48fb52b346975",
            "b50c4b3916c943b8b6b1f387f26f3126",
            "9f3008bf929541fea7a703a1c136b23a",
            "d32d130b425a434ba50869e8abff511d",
            "41ac3019d26d47b3a2572bf9b4654dd5",
            "9a9cea6f15fb464f98dee536724cb6d4",
            "e72489e91e0641ff84a64dc86f5c93b1",
            "835051f8b7b2422c8a321d4a575f974a",
            "dfce160bc6f34fb3b20b87fe1f6c29a3",
            "2cefe6882fe4422387d2336319168a20"
          ]
        },
        "id": "gX_6G1gLwg4I",
        "outputId": "94d96a0b-a49f-4a0b-b36c-ad8e4105e1c8"
      },
      "execution_count": 3,
      "outputs": [
        {
          "output_type": "stream",
          "name": "stdout",
          "text": [
            "Mounted at /content/drive\n"
          ]
        },
        {
          "output_type": "stream",
          "name": "stderr",
          "text": [
            "/usr/local/lib/python3.11/dist-packages/huggingface_hub/utils/_auth.py:94: UserWarning: \n",
            "The secret `HF_TOKEN` does not exist in your Colab secrets.\n",
            "To authenticate with the Hugging Face Hub, create a token in your settings tab (https://huggingface.co/settings/tokens), set it as secret in your Google Colab and restart your session.\n",
            "You will be able to reuse this secret in all of your notebooks.\n",
            "Please note that authentication is recommended but still optional to access public models or datasets.\n",
            "  warnings.warn(\n"
          ]
        },
        {
          "output_type": "display_data",
          "data": {
            "text/plain": [
              "tokenizer_config.json:   0%|          | 0.00/26.0 [00:00<?, ?B/s]"
            ],
            "application/vnd.jupyter.widget-view+json": {
              "version_major": 2,
              "version_minor": 0,
              "model_id": "b7f08595d682481b9134489eadbb597c"
            }
          },
          "metadata": {}
        },
        {
          "output_type": "display_data",
          "data": {
            "text/plain": [
              "config.json:   0%|          | 0.00/689 [00:00<?, ?B/s]"
            ],
            "application/vnd.jupyter.widget-view+json": {
              "version_major": 2,
              "version_minor": 0,
              "model_id": "3e86a4d22a664d0f992eda7c53dbcb3e"
            }
          },
          "metadata": {}
        },
        {
          "output_type": "display_data",
          "data": {
            "text/plain": [
              "vocab.json:   0%|          | 0.00/1.04M [00:00<?, ?B/s]"
            ],
            "application/vnd.jupyter.widget-view+json": {
              "version_major": 2,
              "version_minor": 0,
              "model_id": "f256c795153e4d76a98c7935058412c2"
            }
          },
          "metadata": {}
        },
        {
          "output_type": "display_data",
          "data": {
            "text/plain": [
              "merges.txt:   0%|          | 0.00/456k [00:00<?, ?B/s]"
            ],
            "application/vnd.jupyter.widget-view+json": {
              "version_major": 2,
              "version_minor": 0,
              "model_id": "8e5d71d2410e4d498cae50bfb52f9507"
            }
          },
          "metadata": {}
        },
        {
          "output_type": "display_data",
          "data": {
            "text/plain": [
              "tokenizer.json:   0%|          | 0.00/1.36M [00:00<?, ?B/s]"
            ],
            "application/vnd.jupyter.widget-view+json": {
              "version_major": 2,
              "version_minor": 0,
              "model_id": "6d8b1c3db0d047b5b5dc8bb4a304be3e"
            }
          },
          "metadata": {}
        }
      ]
    },
    {
      "cell_type": "code",
      "source": [
        "# ---------Saber's path--------------\n",
        "\n",
        "# read and tokenize each file\n",
        "def load_and_tokenize(file_path):\n",
        "    with open(file_path, 'r', encoding='utf-8') as f:\n",
        "        text = f.read()\n",
        "    tokenized = tokenizer(text)\n",
        "    return tokenized['input_ids']\n",
        "\n",
        "# specify file path in Google Drive\n",
        "data_path = \"/content/drive/MyDrive/SEP775NLP_Final_Project/Friends_script/\"\n",
        "\n",
        "# run the function above to tokenize the data\n",
        "train_ids = load_and_tokenize(f\"{data_path}/cleaned_train_data.txt\") # used latest version of processed data here\n",
        "val_ids = load_and_tokenize(f\"{data_path}/cleaned_val_data.txt\")\n",
        "test_ids = load_and_tokenize(f\"{data_path}/cleaned_test_data.txt\")\n",
        "general_test_ids = load_and_tokenize(f\"{data_path}/wikitext103_test.txt\")"
      ],
      "metadata": {
        "colab": {
          "base_uri": "https://localhost:8080/"
        },
        "id": "bGmWSfaUwo_p",
        "outputId": "ae20f374-fbc3-4b63-9806-6bebf6461c77"
      },
      "execution_count": 4,
      "outputs": [
        {
          "output_type": "stream",
          "name": "stderr",
          "text": [
            "Token indices sequence length is longer than the specified maximum sequence length for this model (1062284 > 1024). Running this sequence through the model will result in indexing errors\n"
          ]
        }
      ]
    },
    {
      "cell_type": "code",
      "source": [
        "# create blocks of sequences\n",
        "block_size=512\n",
        "\n",
        "def create_blocks(all_tokens, block_size):\n",
        "  blocks = []\n",
        "  # loop through all of the tokens, split them by block_size\n",
        "  for i in range(0, len(all_tokens), block_size):\n",
        "    tokens_in_this_block = all_tokens[i:i+block_size] # takes [0:512], then [512:1024]...\n",
        "    blocks.append(tokens_in_this_block)\n",
        "  return blocks # returns a list of list of blocks\n",
        "\n",
        "# run the function above to create the data blocks\n",
        "train_blocks = create_blocks(train_ids, block_size)\n",
        "val_blocks = create_blocks(val_ids, block_size)\n",
        "test_blocks = create_blocks(test_ids, block_size)\n",
        "general_test_blocks = create_blocks(general_test_ids, block_size)\n",
        "\n",
        "# verify that one block contains multiple lines of the script\n",
        "print(train_blocks[0])"
      ],
      "metadata": {
        "colab": {
          "base_uri": "https://localhost:8080/"
        },
        "id": "EomUpUYFwxQN",
        "outputId": "ffed5f76-2026-4fcd-d05f-b015ea73532b"
      },
      "execution_count": 5,
      "outputs": [
        {
          "output_type": "stream",
          "name": "stdout",
          "text": [
            "[464, 1881, 6350, 23240, 29620, 257, 968, 5564, 2002, 378, 357, 464, 21697, 12, 464, 791, 8968, 10628, 8, 198, 25354, 416, 25, 3981, 64, 28148, 487, 805, 1222, 3271, 38376, 628, 198, 58, 36542, 25, 5694, 2448, 74, 11, 28346, 11, 26154, 11, 1380, 2577, 1350, 11, 290, 23240, 389, 612, 8183, 198, 198, 9069, 3970, 25, 1318, 338, 2147, 284, 1560, 0, 679, 338, 655, 617, 3516, 314, 670, 351, 0, 198, 198, 19585, 88, 25, 327, 1101, 261, 11, 345, 821, 1016, 503, 351, 262, 3516, 0, 1318, 338, 17753, 307, 1223, 2642, 351, 683, 0, 198, 198, 1925, 392, 1754, 25, 1439, 826, 26154, 11, 307, 3621, 13, 220, 1406, 857, 339, 423, 257, 49779, 30, 317, 49779, 290, 257, 4190, 12239, 30, 198, 198, 2725, 2577, 1350, 25, 16314, 11, 857, 339, 4483, 30860, 30, 198, 198, 7, 2990, 477, 24170, 11, 307, 76, 1484, 2014, 198, 198, 2725, 2577, 1350, 25, 2329, 11, 705, 25587, 11, 314, 836, 470, 765, 607, 284, 467, 832, 644, 314, 1816, 832, 351, 8124, 12, 11752, 0, 198, 198, 9069, 3970, 25, 16805, 11, 7288, 8960, 13, 770, 318, 407, 772, 257, 3128, 13, 632, 338, 655, 734, 661, 1016, 503, 284, 8073, 290, 12, 407, 1719, 1714, 13, 198, 198, 1925, 392, 1754, 25, 27107, 588, 257, 3128, 284, 502, 13, 198, 198, 58, 7575, 406, 7512, 60, 198, 198, 1925, 392, 1754, 25, 40967, 11, 523, 314, 1101, 736, 287, 1029, 1524, 11, 314, 1101, 5055, 287, 262, 3504, 286, 262, 43075, 11, 290, 314, 6537, 314, 716, 6635, 12105, 13, 198, 198, 3237, 25, 3966, 11, 10194, 13, 11161, 326, 4320, 13, 198, 198, 1925, 392, 1754, 25, 3244, 314, 804, 866, 11, 290, 314, 6537, 612, 338, 257, 3072, 986, 612, 13, 198, 198, 19585, 88, 25, 5455, 286, 44825, 198, 198, 1925, 392, 1754, 25, 1320, 338, 826, 13, 198, 198, 19585, 88, 25, 7236, 550, 326, 4320, 13, 198, 198, 2725, 2577, 1350, 25, 1400, 13, 198, 198, 1925, 392, 1754, 25, 1439, 286, 257, 4802, 11, 262, 3072, 4940, 284, 5858, 13, 2735, 314, 836, 470, 760, 644, 284, 466, 11, 7288, 4940, 2045, 379, 502, 13, 198, 198, 9069, 3970, 25, 843, 484, 6304, 470, 2045, 379, 345, 878, 12248, 198, 198, 1925, 392, 1754, 25, 9461, 11, 314, 3785, 314, 1549, 1365, 3280, 340, 11, 290, 340, 4962, 503, 340, 338, 616, 2802, 11, 543, 318, 845, 12, 548, 7650, 11, 780, 12, 673, 1239, 3848, 502, 0, 198, 198, 58, 7575, 406, 7512, 11, 9847, 468, 5982, 8183, 198, 198, 38328, 25, 357, 30171, 1431, 8, 15902, 13, 198, 198, 19585, 88, 25, 770, 3516, 1139, 23748, 11, 314, 18869, 1494, 3589, 13, 198, 198, 9069, 3970, 25, 4231, 345, 8788, 11, 6029, 494, 30, 198, 198, 38328, 25, 314, 655, 1254, 588, 2130, 4251, 866, 616, 13589, 11, 13176, 616, 1402, 45426, 11, 5954, 340, 503, 286, 616, 5422, 290, 8165, 340, 1088, 616, 7393, 986, 198, 198, 1925, 392, 1754, 25, 39606, 30, 198, 198, 9069, 3970, 25]\n"
          ]
        }
      ]
    },
    {
      "cell_type": "code",
      "source": [
        "# make dictionaries and then turn them into hugging face datasets\n",
        "train_dataset = Dataset.from_dict({\"input_ids\": train_blocks})\n",
        "val_dataset = Dataset.from_dict({\"input_ids\": val_blocks})\n",
        "test_dataset = Dataset.from_dict({\"input_ids\": test_blocks})\n",
        "general_test_dataset = Dataset.from_dict({\"input_ids\": general_test_blocks})\n",
        "\n",
        "# create the Hugging Face dataset dict\n",
        "dataset_dict = DatasetDict({\"train\": train_dataset, \"validation\": val_dataset, \"test\": test_dataset,\n",
        "                            \"general_test\": general_test_dataset})"
      ],
      "metadata": {
        "id": "ENtNC1bdxiww"
      },
      "execution_count": 6,
      "outputs": []
    },
    {
      "cell_type": "code",
      "source": [
        "# set up data collator\n",
        "data_collator = DataCollatorForLanguageModeling(tokenizer=tokenizer, mlm=False)  # For causal LM"
      ],
      "metadata": {
        "id": "ZzWG_j0lxk0T"
      },
      "execution_count": 7,
      "outputs": []
    },
    {
      "cell_type": "markdown",
      "source": [
        "**3. Model Training**"
      ],
      "metadata": {
        "id": "3zMIU4CTzcuw"
      }
    },
    {
      "cell_type": "markdown",
      "source": [
        "Let's set up the parameters for training here. We will also benchmark the pre-trained model's ability on a general Wiki language dataset (before fine-tuning). We will test the model again on this dataset after fine-tuning to see if our model retains the general language capability."
      ],
      "metadata": {
        "id": "hC-71uLMxmW_"
      }
    },
    {
      "cell_type": "code",
      "source": [
        "# access the model from Hugging Face\n",
        "model = AutoModelForCausalLM.from_pretrained(\"gpt2-xl\")\n",
        "model.config.pad_token_id = model.config.eos_token_id\n",
        "\n",
        "# --------------------------------------------------------------------------------(comment this section out if running without LoRA)\n",
        "# freeze all the weights\n",
        "for param in model.parameters():\n",
        "    param.requires_grad = False\n",
        "# -------------------------------------------------------------------------------- (this code might not be needed even when running LoRa, but just in case)"
      ],
      "metadata": {
        "id": "QIfV8PVLxlO-"
      },
      "execution_count": 13,
      "outputs": []
    },
    {
      "cell_type": "code",
      "source": [
        "# set up dummy trainer to benchmark the pre-trained model's capability on the general wiki test set\n",
        "dummy_training_args = TrainingArguments(output_dir=\"./eval_output\", do_train=False, per_device_eval_batch_size=4, report_to=\"none\")\n",
        "dummy_trainer = Trainer(model=model, args=dummy_training_args, eval_dataset=dataset_dict[\"general_test\"], data_collator=data_collator)\n",
        "\n",
        "# test the pre-trained model\n",
        "benchmark_general_eval_results = dummy_trainer.evaluate(dataset_dict[\"general_test\"])\n",
        "print(f\"General Wiki Data before Fine-Tuning: eval_loss = {benchmark_general_eval_results['eval_loss']:.2f}\")"
      ],
      "metadata": {
        "colab": {
          "base_uri": "https://localhost:8080/",
          "height": 71
        },
        "id": "yfHy88_VxqZ1",
        "outputId": "cf97166f-1750-4f46-9227-ee8912a690e1",
        "collapsed": true
      },
      "execution_count": 9,
      "outputs": [
        {
          "output_type": "stream",
          "name": "stderr",
          "text": [
            "`loss_type=None` was set in the config but it is unrecognised.Using the default loss: `ForCausalLMLoss`.\n"
          ]
        },
        {
          "output_type": "display_data",
          "data": {
            "text/plain": [
              "<IPython.core.display.HTML object>"
            ],
            "text/html": [
              "\n",
              "    <div>\n",
              "      \n",
              "      <progress value='138' max='138' style='width:300px; height:20px; vertical-align: middle;'></progress>\n",
              "      [138/138 00:56]\n",
              "    </div>\n",
              "    "
            ]
          },
          "metadata": {}
        },
        {
          "output_type": "stream",
          "name": "stdout",
          "text": [
            "General Wiki Data before Fine-Tuning: eval_loss = 2.96\n"
          ]
        }
      ]
    },
    {
      "cell_type": "code",
      "source": [
        "# take a look at how many steps will be one epoch\n",
        "num_of_train_blocks=(len(train_blocks))\n",
        "step_per_epoch = num_of_train_blocks // 4 # note 4 here is the batch_size\n",
        "print(step_per_epoch)"
      ],
      "metadata": {
        "colab": {
          "base_uri": "https://localhost:8080/"
        },
        "id": "Wy_lskICZwTT",
        "outputId": "a211a4be-6347-41fa-d5ca-b4db13f06180"
      },
      "execution_count": 9,
      "outputs": [
        {
          "output_type": "stream",
          "name": "stdout",
          "text": [
            "518\n"
          ]
        }
      ]
    },
    {
      "cell_type": "code",
      "source": [
        "# --------------------------------------------------------------------------------(comment this section out if running without LoRA)\n",
        "# setup LoRA configuration and wrap the model with it\n",
        "lora_config = LoraConfig(r=64, lora_alpha=32, lora_dropout=0.05, bias=\"none\", task_type=TaskType.CAUSAL_LM) # increase r for a more powerful adapter\n",
        "model = get_peft_model(model, lora_config)\n",
        "model.print_trainable_parameters()# verify we're only training LoRA weights\n",
        "# --------------------------------------------------------------------------------\n",
        "\n",
        "# set up training_args\n",
        "training_args = TrainingArguments(output_dir=\"/content/drive/MyDrive/SEP775NLP_Final_Project/Models/gpt2-xl-Lora\", # Rose: \"/content/drive/MyDrive/datasets\"\n",
        "                                  evaluation_strategy=\"steps\",\n",
        "                                  save_strategy=\"steps\",\n",
        "                                  max_steps=2000,\n",
        "                                  eval_steps=200,\n",
        "                                  save_steps=200,\n",
        "                                  logging_steps=200,\n",
        "                                  #num_train_epochs=3,\n",
        "                                  per_device_train_batch_size=4,\n",
        "                                  per_device_eval_batch_size=4,\n",
        "                                  learning_rate=2e-5,\n",
        "                                  #save_total_limit=1,\n",
        "                                  resume_from_checkpoint=True,\n",
        "                                  load_best_model_at_end=True,\n",
        "                                  metric_for_best_model=\"eval_loss\",\n",
        "                                  weight_decay=0.01, # added regularization\n",
        "                                  warmup_steps=5, # added lr scheduler and warmup\n",
        "                                  lr_scheduler_type=\"linear\",\n",
        "                                  report_to=\"none\" # disable wandb\n",
        "                                  ) # default optimizer is adamw\n",
        "\n",
        "# setup trainer\n",
        "trainer = Trainer(model=model,\n",
        "                  args=training_args,\n",
        "                  train_dataset=dataset_dict[\"train\"],\n",
        "                  eval_dataset=dataset_dict[\"validation\"],\n",
        "                  data_collator=data_collator)"
      ],
      "metadata": {
        "colab": {
          "base_uri": "https://localhost:8080/"
        },
        "id": "vidjgxSRx-80",
        "outputId": "4365148f-0d82-40f2-b760-7843e44d0c26"
      },
      "execution_count": 14,
      "outputs": [
        {
          "output_type": "stream",
          "name": "stderr",
          "text": [
            "/usr/local/lib/python3.11/dist-packages/peft/tuners/lora/layer.py:1264: UserWarning: fan_in_fan_out is set to False but the target module is `Conv1D`. Setting fan_in_fan_out to True.\n",
            "  warnings.warn(\n"
          ]
        },
        {
          "output_type": "stream",
          "name": "stdout",
          "text": [
            "trainable params: 19,660,800 || all params: 1,577,272,000 || trainable%: 1.2465\n"
          ]
        },
        {
          "output_type": "stream",
          "name": "stderr",
          "text": [
            "/usr/local/lib/python3.11/dist-packages/transformers/training_args.py:1611: FutureWarning: `evaluation_strategy` is deprecated and will be removed in version 4.46 of 🤗 Transformers. Use `eval_strategy` instead\n",
            "  warnings.warn(\n",
            "No label_names provided for model class `PeftModelForCausalLM`. Since `PeftModel` hides base models input arguments, if label_names is not given, label_names can't be set automatically within `Trainer`. Note that empty label_names list will be used instead.\n"
          ]
        }
      ]
    },
    {
      "cell_type": "code",
      "source": [
        "# start training\n",
        "trainer.train()"
      ],
      "metadata": {
        "colab": {
          "base_uri": "https://localhost:8080/",
          "height": 419
        },
        "id": "7GO0loM4yBu3",
        "outputId": "a8c1284f-5d17-4fb9-849d-fb402fc16b3a"
      },
      "execution_count": 15,
      "outputs": [
        {
          "output_type": "display_data",
          "data": {
            "text/plain": [
              "<IPython.core.display.HTML object>"
            ],
            "text/html": [
              "\n",
              "    <div>\n",
              "      \n",
              "      <progress value='2000' max='2000' style='width:300px; height:20px; vertical-align: middle;'></progress>\n",
              "      [2000/2000 36:01, Epoch 3/4]\n",
              "    </div>\n",
              "    <table border=\"1\" class=\"dataframe\">\n",
              "  <thead>\n",
              " <tr style=\"text-align: left;\">\n",
              "      <th>Step</th>\n",
              "      <th>Training Loss</th>\n",
              "      <th>Validation Loss</th>\n",
              "    </tr>\n",
              "  </thead>\n",
              "  <tbody>\n",
              "    <tr>\n",
              "      <td>200</td>\n",
              "      <td>2.349600</td>\n",
              "      <td>2.194330</td>\n",
              "    </tr>\n",
              "    <tr>\n",
              "      <td>400</td>\n",
              "      <td>2.277800</td>\n",
              "      <td>2.148370</td>\n",
              "    </tr>\n",
              "    <tr>\n",
              "      <td>600</td>\n",
              "      <td>2.258500</td>\n",
              "      <td>2.129536</td>\n",
              "    </tr>\n",
              "    <tr>\n",
              "      <td>800</td>\n",
              "      <td>2.236100</td>\n",
              "      <td>2.116887</td>\n",
              "    </tr>\n",
              "    <tr>\n",
              "      <td>1000</td>\n",
              "      <td>2.231300</td>\n",
              "      <td>2.107229</td>\n",
              "    </tr>\n",
              "    <tr>\n",
              "      <td>1200</td>\n",
              "      <td>2.227700</td>\n",
              "      <td>2.102246</td>\n",
              "    </tr>\n",
              "    <tr>\n",
              "      <td>1400</td>\n",
              "      <td>2.213400</td>\n",
              "      <td>2.097748</td>\n",
              "    </tr>\n",
              "    <tr>\n",
              "      <td>1600</td>\n",
              "      <td>2.214600</td>\n",
              "      <td>2.094829</td>\n",
              "    </tr>\n",
              "    <tr>\n",
              "      <td>1800</td>\n",
              "      <td>2.215000</td>\n",
              "      <td>2.093630</td>\n",
              "    </tr>\n",
              "    <tr>\n",
              "      <td>2000</td>\n",
              "      <td>2.201400</td>\n",
              "      <td>2.092880</td>\n",
              "    </tr>\n",
              "  </tbody>\n",
              "</table><p>"
            ]
          },
          "metadata": {}
        },
        {
          "output_type": "execute_result",
          "data": {
            "text/plain": [
              "TrainOutput(global_step=2000, training_loss=2.2425365142822264, metrics={'train_runtime': 2162.0117, 'train_samples_per_second': 3.7, 'train_steps_per_second': 0.925, 'total_flos': 3.67328057327616e+16, 'train_loss': 2.2425365142822264, 'epoch': 3.8535645472061657})"
            ]
          },
          "metadata": {},
          "execution_count": 15
        }
      ]
    },
    {
      "cell_type": "markdown",
      "source": [
        "**4. Evaluation**"
      ],
      "metadata": {
        "id": "nMVub5s804NF"
      }
    },
    {
      "cell_type": "markdown",
      "source": [
        "Take the trained model, and evaluate its performance on the two different tests sets.\n",
        "\n",
        "*   Test 1. Unseen FRIENDS scripts - to test model's ability to pick up the specific style of the show.\n",
        "*   Test 2. General Wiki English data - to test model's general language capabilities. (compare to benchmark)\n",
        "\n"
      ],
      "metadata": {
        "id": "EfkHAYzJylvo"
      }
    },
    {
      "cell_type": "code",
      "source": [
        "# evaluation process\n",
        "eval_results = trainer.evaluate(dataset_dict[\"test\"])\n",
        "general_eval_results = trainer.evaluate(dataset_dict[\"general_test\"])\n",
        "\n",
        "print(f\"Unseen FRIENDS scripts: eval_loss = {eval_results['eval_loss']:.2f}\")\n",
        "print(f\"General Wiki Data after Fine-Tuning: eval_loss = {general_eval_results['eval_loss']:.2f}\")"
      ],
      "metadata": {
        "colab": {
          "base_uri": "https://localhost:8080/",
          "height": 71
        },
        "id": "9TvALc3vymHN",
        "outputId": "4d1af268-6bb3-446c-a170-3fb68328b88a"
      },
      "execution_count": 16,
      "outputs": [
        {
          "output_type": "display_data",
          "data": {
            "text/plain": [
              "<IPython.core.display.HTML object>"
            ],
            "text/html": [
              "\n",
              "    <div>\n",
              "      \n",
              "      <progress value='301' max='163' style='width:300px; height:20px; vertical-align: middle;'></progress>\n",
              "      [163/163 02:07]\n",
              "    </div>\n",
              "    "
            ]
          },
          "metadata": {}
        },
        {
          "output_type": "stream",
          "name": "stdout",
          "text": [
            "Unseen FRIENDS scripts: eval_loss = 2.30\n",
            "General Wiki Data after Fine-Tuning: eval_loss = 2.98\n"
          ]
        }
      ]
    },
    {
      "cell_type": "markdown",
      "source": [
        "**5. Generation**"
      ],
      "metadata": {
        "id": "RiBVfQ0f06Xq"
      }
    },
    {
      "cell_type": "markdown",
      "source": [
        "Finally, we'll use this model to generate a new episode to see for ourselves how the model performs. We trialed the following different approaches for text generation and found that better results can be obtained with the last approach, so in this version of the code we only kept that approach.\n",
        "\n",
        "*   Approach 1. Greedy Search (using argmax)\n",
        "*   Approach 2. MultiNomial selection\n",
        "*   Approach 3. MultiNomial selection with top_k and top_p filters\n",
        "\n",
        "\n",
        "\n"
      ],
      "metadata": {
        "id": "W0fjbxZlyqkr"
      }
    },
    {
      "cell_type": "code",
      "source": [
        "# create initial prompt and tokenize it\n",
        "prompt = \"\"\"\n",
        "The One with students from McMaster University\n",
        "Written by: GPT2-Base\n",
        "\n",
        "[Scene: Monica's Apartment. Monica, Ross, Rachel, and Chandler are there.]\n",
        "\n",
        "Monica: Hey guys! Big news—I heard there's going to be a party at McMaster University.\n",
        "\n",
        "Ross: A party?\n",
        "\n",
        "Rachel: Oh yeah! The students are celebrating their SEP775 class with the professors!\n",
        "\n",
        "Chandler: We should join them! I mean, where is the fun in a party without your favorite FRIENDS characters?\n",
        "\n",
        "(They all leave for the party.)\n",
        "\n",
        "[Scene: SEP775 classroom at McMaster University. Rachel, Chandler, Ross, Monica, and Phoebe are hanging out with the students.]\n",
        "\n",
        "Rachel: Wow, this place kicks ass! Look, isn’t that Professor Mahyar who teaches Natural Language Processing?\n",
        "\n",
        "\"\"\"\n",
        "\n",
        "model_inputs = tokenizer(prompt, return_tensors=\"pt\", return_attention_mask=True).to(model.device)\n",
        "model.generation_config.pad_token_id = tokenizer.pad_token_id # suppress padding warning\n",
        "\n",
        "# create a list that holds the prompt, future tokens will be appended into this list later on\n",
        "all_tokens = model_inputs[\"input_ids\"][0].tolist()\n",
        "\n",
        "# to avoid hitting memory limits, generate only one batch with the initial prompt, take last few tokens out to generate the next batch.\n",
        "context_window = 700 # this is the sliding window - take this many tokens to set up next batch's generation\n",
        "max_token = 2500\n",
        "step_size = 128 # generate this many tokens at a time\n",
        "num_of_loops = max_token // step_size\n",
        "\n",
        "# end episode management\n",
        "min_tokens_before_end = 2000 # generate this many tokens before being allowed to generate the word \"end\"\n",
        "end_id = tokenizer.encode(\"end\", add_special_tokens=False) # token_id of the word \"end\" (I checked it previously and it is only 1 token id, meaning it is the standalone word \"end\")\n",
        "end_of_episode_marker = \"### END OF EPISODE ###\" # this marker was added during data pre-processing. it should come right after the \"end\" word\n",
        "\n",
        "# generation loop\n",
        "for i in range(num_of_loops):\n",
        "\n",
        "  # suppresses the word \"end\" before reaching certain number of tokens\n",
        "  if len(all_tokens) < min_tokens_before_end:\n",
        "    bad_words = [end_id]\n",
        "  else:\n",
        "    bad_words = None\n",
        "\n",
        "  output = model.generate(**model_inputs,\n",
        "                          max_new_tokens=step_size,\n",
        "                          do_sample=True,\n",
        "                          top_k=40, # keep k highest probable options\n",
        "                          top_p=0.75, # keep only the options that add up to p% probability, filter out the remaining less probable options\n",
        "                          temperature=1, # to add a little bit more creativity if needed\n",
        "                          repetition_penalty=1.2,\n",
        "                          bad_words_ids=bad_words # bad words to generate before hitting certain number of tokens\n",
        "                          )\n",
        "\n",
        "  output_tokens = output[0].tolist()\n",
        "  new_tokens = output_tokens[-step_size:] # get rid of the previous context and keep only new tokens\n",
        "\n",
        "  new_text = tokenizer.decode(new_tokens, skip_special_tokens=True) # turn tokens to text to check if end marker has been generated\n",
        "  start_index_of_end_marker = new_text.find(end_of_episode_marker) # returns -1 if the marker is not found, otherwise returns the start index\n",
        "\n",
        "  if start_index_of_end_marker != -1: # if end marker is present\n",
        "    truncated_new_text = new_text[: start_index_of_end_marker + len(end_of_episode_marker)] # get rid of what is after the end marker\n",
        "    truncated_new_tokens = tokenizer.encode(truncated_new_text, add_special_tokens=False) # turn them into tokens\n",
        "    all_tokens.extend(truncated_new_tokens) # and put them in the list\n",
        "    break\n",
        "\n",
        "  else:\n",
        "      all_tokens.extend(new_tokens) # otherwise place the whole thing into the list without truncating\n",
        "\n",
        "  previous_context = output_tokens[-context_window:] # set new previous_context for next loop\n",
        "  previous_context_tensor = torch.tensor([previous_context]).to(model.device) # prepare the inputs and attention mask for next loop\n",
        "  attention_mask = (previous_context_tensor != tokenizer.pad_token_id).long()\n",
        "  model_inputs = {\"input_ids\": previous_context_tensor, \"attention_mask\":attention_mask}\n",
        "\n",
        "# decode from the list and print results\n",
        "generated_script = tokenizer.decode(all_tokens, skip_special_tokens=True)\n",
        "print(generated_script)"
      ],
      "metadata": {
        "colab": {
          "base_uri": "https://localhost:8080/"
        },
        "id": "TCG_9QDzyq7A",
        "outputId": "d6b5885a-8c7d-455c-d5d5-2ccb369e3df6"
      },
      "execution_count": 17,
      "outputs": [
        {
          "output_type": "stream",
          "name": "stdout",
          "text": [
            "\n",
            "The One with students from McMaster University\n",
            "Written by: GPT2-Base\n",
            "\n",
            "[Scene: Monica's Apartment. Monica, Ross, Rachel, and Chandler are there.]\n",
            "\n",
            "Monica: Hey guys! Big news—I heard there's going to be a party at McMaster University.\n",
            "\n",
            "Ross: A party?\n",
            "\n",
            "Rachel: Oh yeah! The students are celebrating their SEP775 class with the professors!\n",
            "\n",
            "Chandler: We should join them! I mean, where is the fun in a party without your favorite FRIENDS characters?\n",
            "\n",
            "(They all leave for the party.)\n",
            "\n",
            "[Scene: SEP775 classroom at McMaster University. Rachel, Chandler, Ross, Monica, and Phoebe are hanging out with the students.]\n",
            "\n",
            "Rachel: Wow, this place kicks ass! Look, isn’t that Professor Mahyar who teaches Natural Language Processing?\n",
            "\n",
            "\n",
            "Phoebe: (staring at her) Whoa, what are you looking at? Is it him?\n",
            "\n",
            "Ross: No no no. That’s not him. (points behind him.) But he does look like that guy!\n",
            "\n",
            "Chandler: What?! So he looks exactly like that? (He points towards his friend.) Yeah, well, if you want to get into linguistics, we could probably take advantage of his offer. And by taking advantage of it, I mean—\n",
            "\n",
            "Rachel: It sounds really fun! You know how to pronounce it right?\n",
            "\n",
            "Chandler: Uh huh!\n",
            "\n",
            "Joey: How about you?\n",
            "\n",
            "Chandler: Uhh, umm... uh huh?\n",
            "\n",
            "Monica: Yeah.\n",
            "\n",
            "Joey: Y'know, I never would have thought that one day I’d become fluent in German!\n",
            "\n",
            "Phoebe: (showing off her accent) Yeah, I didn’t think you did either, but now I do. I was actually trying my best on my last exam before I went back home! (She laughs).\n",
            "\n",
            "Ross: This isn’t funny.\n",
            "\n",
            "Joey: Why don’t we just talk?\n",
            "\n",
            "Monica: Okay okay. I mean… why do we have to wait until after the semester ends? We can go right away, y'know.\n",
            "\n",
            "Ross: Okay. Okay. All right. Well listen, uh, let me ask you this. If you're going to come, I’ll make sure you have enough money to cover your airfare and hotel. And then, if anything goes wrong, I will personally pick you up from wherever you decide to crash. (He starts to walk off.) You don’t need to tell me what kind of car you use.\n",
            "\n",
            "Phoebe: Oh, sorry man, I forgot! (To Monica) Come here! (Monica stops him)\n",
            "\n",
            "Ross: What??\n",
            "\n",
            "Phoebe: Just forget everything I just said and go with him! (She walks over to him) Hey Ross, come on. Let’s just have lunch.\n",
            "\n",
            "Ross: Really!? Okay, fine!\n",
            "\n",
            "Phoebe: Bye!\n",
            "\n",
            "Ross: Wait!! (Tries to get Joey away from her) Wait! Wait!! (Starts walking again) Listen to me! You have no idea what you are doing. Don’t ever do that again! Ever!\n",
            "\n",
            "Joey: Are you serious? (Pause) What are you talking about? You told me I needed an apartment. (Ross turns around to see him pointing)\n",
            "\n",
            "Phoebe: What’s so bad about being homeless? I mean, look at you! You’re so happy. There’s nobody else around, and it’s warm in here. I even got some coffee for ya. (To Ross) Come on, let’s go somewhere quiet.\n",
            "\n",
            "Ross: I’m are you talking about? You told me I needed an apartment. (Ross turns around to see him pointing)\n",
            "\n",
            "Phoebe: What’s so bad about being homeless? I mean, look at you! You’re so happy. There’s nobody else around, and it’s warm in here. I even got some coffee for ya. (To Ross) Come on, let’s go somewhere quiet.\n",
            "\n",
            "Ross: I’m all right. Thanks! (They leave)\n",
            "\n",
            "(Cut to the end of the movie.)\n",
            "\n",
            "END OF EPISODEWe see the gang sitting around the table as they try to figure out what to say next, with Rachel still stammering. Chandler says \"You know what? We should call her.\" and Phoebe responds \"I guess.\" Meanwhile, Ross tries to find a nice restaurant for them to dine at. The waitress asks if she can bring him any food, which is a big deal because he doesn’t usually eat dinner there anymore since his mother-in-law works at the restaurant. Ross finally gets his chance when he picks up a menu, which includes a choice of two types of pasta, lasagna, and chicken parmesan. Ross immediately realizes what they were eating: Italian beef and vegetables. Monica says \"Wow!\" while everyone looks down in disbelief. They turn around to find Chandler staring at him with a confused expression on his face.\n",
            "\n",
            "[Scene: Central Perk, Janice is working in the kitchen. Her phone rings.]\n",
            "\n",
            "Janice: Hello? Yes, yes, hi. My name is Janice, and yes I am at Central Perk. Do you mind if I join you guys for dinner tonight? No thanks, I'm gonna be running late. Thank you. (Goes to answer her phone) Hi, this is Janice calling from Central Perk. Yeah. Uh, yeah, you can stop right there, we are not having dinner tonight.\n",
            "\n",
            "Chandler: Wow!\n",
            "\n",
            "Janice: I was trying to be cute!\n",
            "\n",
            "Ross: (entering) Um-hmm, I have no idea how this happened, but… (gets up) Janice? I think I may have found something for us to do tonight. (Jenna enters with a cup of water.)\n",
            "\n",
            "Rachel: Where is this coming from?\n",
            "\n",
            "Janice: It’s your birthday party. (Rachel nods yes) Well, now you’ve made my life easier. (Walks to the fridge and grabs a box of cookies) Now you don’t have to buy anything. You’ll just have these! (Kicks the door closed behind her)\n",
            "\n",
            "Joey: (running in) Hey, y'know, uh, maybe you should change your phone number. I just want to talk.\n",
            "\n",
            "(Janice exits into the living room.)\n",
            "\n",
            "End Credits\n",
            "\n",
            "[Scene: Central Perk, Joey is taking the last bite of pizza. He is surprised by a surprise guest who knocks on his window and yells \"Hey!\"]\n",
            "\n",
            "Monica: Hey! Is that a man?\n",
            "\n",
            "Chandler: Yeah.\n",
            "\n",
            "Monica: Oh my God! Whoa! That's our friend! Did you come over to invite him over or what?!\n",
            "\n",
            "Joey: Look, uhh, I don’t think that is really necessary. And, uhh, why would anyone care where I live anyway? (He hears Ross entering.) Y’know, maybe it’s time for us to move together? (Sits back down) I mean, y’know, we did it once, and, uhh, we could probably do it again, right? I mean, you gotta have a place to stay.\n",
            "\n",
            "Phoebe: Why not?\n",
            "\n",
            "Joey: Because you wouldn’t let me stay here. But you have a great apartment here. Ugh!\n",
            "\n",
            "Janice: Hey! So what kind of person invites someone over to their apartment without inviting themselves first!? (She takes a picture) Oh look, that guy! Oh wow! A guy! Ohhhhhhh!\n",
            "\n",
            "Chandler: Ah! (Runs off).\n",
            "\n",
            "Monica: Wait! What was that about wanting to move in with me?\n",
            "\n",
            "Ross: All I wanted was to get some rest after all that partying last night.\n",
            "\n",
            "Joey: Right. That sounds so much like me. (Starts singing a song.)\n",
            "\n",
            "Ross: We still need to figure out how to make sure Rachel isn’t dating anyone else before then.\n",
            "\n",
            "Janice: Oh, you know, it was a good run. (Exits)\n",
            "\n",
            "(The credits roll as Joey, Janice, Ross, and Chandler return to their original apartments. The girlst dating anyone else before then.\n",
            "\n",
            "Janice: Oh, you know, it was a good run. (Exits)\n",
            "\n",
            "(The credits roll as Joey, Janice, Ross, and Chandler return to their original apartments. The girls go outside.)\n",
            "\n",
            "Chandler: All right ladies, you wanna start making moves?\n",
            "\n",
            "(They exit into the street.)\n",
            "\n",
            "END OF EPISODE\n",
            "\n",
            "*** END OF THE SHOW ***\n",
            "\n",
            "And now for today’s sponsored MaxFunDrive’!!! Help keep our free podcast going by sharing it with your friends and family! Thanks!!As always, please visit www.maximumfun.org/donate, call 206-350-1531, or e-mail maximumfun@maximumfun.org if you'd like to donate more directly to the show, or leave us a voicemail telling us exactly what you'd like to see us cover during future episodes. If you're a fan of Maximum Fun, please help spread the word on Twitter using #maximumfun. And check out our website, MaximumFun.org, which has links to everything we've got going on, including our archives, past guests, photos, podcasts, videos—we have it all. There are tons of ways to support the show for as little as $1 per month—that’s especially true this week because we just announced a brand new sponsor: Casper Mattresses! For just twenty bucks per mattress you can get a brand new mattress shipped straight to your home. To learn more, go to www.casper.com/podcasts, enter promo code \"FUN\" at checkout, or use any one of the quick & easy promotional offers we've been throwing around recently. Thank you for supporting the show!You can listen to the entire episode of Real Time with Bill Maher right here , via iTunes or Stitcher. You can also subscribe to the show on iTunes , Soundcloud , Google Play Music or iHeartRadio . Don't forget to tell your friends and fellow MaximumFun.org fans about us! Have a story idea? Email us at maximumfun@maximumfun.org. Share this with your pals on Facebook , Twitter , Instagram , Tumblr or Pinterest . If you liked this, you'll definitely dig these... Free View in iTunes\n",
            "\n",
            "2 Explicit Episode 16 - 'A Million Ways To Die In The West' It is our final day of shooting Season 2, and things are getting a little crazy. We’ve shot almost every major city of California plus Utah and Colorado. We have filmed the opening scene of an upcoming film starring Robert Downey Jr., the finale of a television series based on an animated series from the 80′s and a few other big projects we won’t spoil for you. Also, the boys are back from the airport, and they want to share a very special news with you. Plus, Bill Maher drops by for his final appearance, there are lots of announcements regarding our next movie, a brand new podcast series and lots more! Plus, our live podfest starts tomorrow night! Come hang out with the guys tonight, Monday December 15th at 8pm PT / 11pm ET on our Twitch channel! Free View in iTunes\n",
            "\n",
            "3 Clean Bonus: The New Year Special Edition - 'Real World: Las Vegas' It’s our first annual holiday special edition of The Bill Simmons Podcast featuring some of your favorite writers from around the internet discussing their 2017 resolutions. Today, you get three stories, each told by someone who decided to do something different than usual, from Ben Lindbergh, Nick Wiger, Tom Haberstroh, David Jacoby and many more. Click the link below to play, or download directly from iTunes here: http\n"
          ]
        }
      ]
    },
    {
      "cell_type": "code",
      "source": [],
      "metadata": {
        "id": "nGEqb17Ur5V4"
      },
      "execution_count": null,
      "outputs": []
    }
  ]
}